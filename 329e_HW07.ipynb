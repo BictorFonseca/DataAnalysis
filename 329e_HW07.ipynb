{
 "cells": [
  {
   "cell_type": "markdown",
   "metadata": {},
   "source": [
    "# Homework 7\n",
    "\n",
    "## Your Name Here (or your names here if you are pair programming)\n",
    "\n",
    "Student Name:\n",
    "\n",
    "Student UT EID:\n",
    "\n",
    "---\n",
    "\n",
    "Partner Name:\n",
    "\n",
    "Partner UT EID:\n",
    "\n",
    "---\n",
    "\n",
    "Date Created:\n",
    "\n",
    "Date Last Modified:\n",
    "\n",
    "---\n",
    "\n",
    "Totoal Points 20. \n",
    "\n",
    "\n",
    "\n",
    "## Supprt Vector Machine "
   ]
  },
  {
   "cell_type": "code",
   "execution_count": 62,
   "metadata": {},
   "outputs": [],
   "source": [
    "# Standard Headers\n",
    "# You are welcome to add additional headers here if you wish\n",
    "import pandas as pd\n",
    "import numpy as np\n",
    "import matplotlib.pyplot as plt\n",
    "\n",
    "# Enable inline mode for matplotlib so that Jupyter displays graphs\n",
    "%matplotlib inline"
   ]
  },
  {
   "cell_type": "markdown",
   "metadata": {},
   "source": [
    "# Your allowed to use only the above libraries that are imported. No other libs should be used in this assignment. "
   ]
  },
  {
   "cell_type": "markdown",
   "metadata": {},
   "source": [
    "## Heart Dataset \n",
    "\n",
    "In this Assignment we will work with some patients dataset. \n",
    "\n",
    "We have access to 303 patients data. The features are listed below. "
   ]
  },
  {
   "cell_type": "code",
   "execution_count": 63,
   "metadata": {},
   "outputs": [
    {
     "data": {
      "text/html": [
       "<div>\n",
       "<style scoped>\n",
       "    .dataframe tbody tr th:only-of-type {\n",
       "        vertical-align: middle;\n",
       "    }\n",
       "\n",
       "    .dataframe tbody tr th {\n",
       "        vertical-align: top;\n",
       "    }\n",
       "\n",
       "    .dataframe thead th {\n",
       "        text-align: right;\n",
       "    }\n",
       "</style>\n",
       "<table border=\"1\" class=\"dataframe\">\n",
       "  <thead>\n",
       "    <tr style=\"text-align: right;\">\n",
       "      <th></th>\n",
       "      <th>Age</th>\n",
       "      <th>Sex</th>\n",
       "      <th>ChestPain</th>\n",
       "      <th>RestBP</th>\n",
       "      <th>Chol</th>\n",
       "      <th>Fbs</th>\n",
       "      <th>RestECG</th>\n",
       "      <th>MaxHR</th>\n",
       "      <th>ExAng</th>\n",
       "      <th>Oldpeak</th>\n",
       "      <th>Slope</th>\n",
       "      <th>Ca</th>\n",
       "      <th>Thal</th>\n",
       "      <th>Target</th>\n",
       "    </tr>\n",
       "  </thead>\n",
       "  <tbody>\n",
       "    <tr>\n",
       "      <th>0</th>\n",
       "      <td>63</td>\n",
       "      <td>1</td>\n",
       "      <td>typical</td>\n",
       "      <td>145</td>\n",
       "      <td>233</td>\n",
       "      <td>1</td>\n",
       "      <td>2</td>\n",
       "      <td>150</td>\n",
       "      <td>0</td>\n",
       "      <td>2.3</td>\n",
       "      <td>3</td>\n",
       "      <td>0.0</td>\n",
       "      <td>fixed</td>\n",
       "      <td>No</td>\n",
       "    </tr>\n",
       "    <tr>\n",
       "      <th>1</th>\n",
       "      <td>67</td>\n",
       "      <td>1</td>\n",
       "      <td>asymptomatic</td>\n",
       "      <td>160</td>\n",
       "      <td>286</td>\n",
       "      <td>0</td>\n",
       "      <td>2</td>\n",
       "      <td>108</td>\n",
       "      <td>1</td>\n",
       "      <td>1.5</td>\n",
       "      <td>2</td>\n",
       "      <td>3.0</td>\n",
       "      <td>normal</td>\n",
       "      <td>Yes</td>\n",
       "    </tr>\n",
       "    <tr>\n",
       "      <th>2</th>\n",
       "      <td>67</td>\n",
       "      <td>1</td>\n",
       "      <td>asymptomatic</td>\n",
       "      <td>120</td>\n",
       "      <td>229</td>\n",
       "      <td>0</td>\n",
       "      <td>2</td>\n",
       "      <td>129</td>\n",
       "      <td>1</td>\n",
       "      <td>2.6</td>\n",
       "      <td>2</td>\n",
       "      <td>2.0</td>\n",
       "      <td>reversable</td>\n",
       "      <td>Yes</td>\n",
       "    </tr>\n",
       "    <tr>\n",
       "      <th>3</th>\n",
       "      <td>37</td>\n",
       "      <td>1</td>\n",
       "      <td>nonanginal</td>\n",
       "      <td>130</td>\n",
       "      <td>250</td>\n",
       "      <td>0</td>\n",
       "      <td>0</td>\n",
       "      <td>187</td>\n",
       "      <td>0</td>\n",
       "      <td>3.5</td>\n",
       "      <td>3</td>\n",
       "      <td>0.0</td>\n",
       "      <td>normal</td>\n",
       "      <td>No</td>\n",
       "    </tr>\n",
       "    <tr>\n",
       "      <th>4</th>\n",
       "      <td>41</td>\n",
       "      <td>0</td>\n",
       "      <td>nontypical</td>\n",
       "      <td>130</td>\n",
       "      <td>204</td>\n",
       "      <td>0</td>\n",
       "      <td>2</td>\n",
       "      <td>172</td>\n",
       "      <td>0</td>\n",
       "      <td>1.4</td>\n",
       "      <td>1</td>\n",
       "      <td>0.0</td>\n",
       "      <td>normal</td>\n",
       "      <td>No</td>\n",
       "    </tr>\n",
       "    <tr>\n",
       "      <th>...</th>\n",
       "      <td>...</td>\n",
       "      <td>...</td>\n",
       "      <td>...</td>\n",
       "      <td>...</td>\n",
       "      <td>...</td>\n",
       "      <td>...</td>\n",
       "      <td>...</td>\n",
       "      <td>...</td>\n",
       "      <td>...</td>\n",
       "      <td>...</td>\n",
       "      <td>...</td>\n",
       "      <td>...</td>\n",
       "      <td>...</td>\n",
       "      <td>...</td>\n",
       "    </tr>\n",
       "    <tr>\n",
       "      <th>298</th>\n",
       "      <td>45</td>\n",
       "      <td>1</td>\n",
       "      <td>typical</td>\n",
       "      <td>110</td>\n",
       "      <td>264</td>\n",
       "      <td>0</td>\n",
       "      <td>0</td>\n",
       "      <td>132</td>\n",
       "      <td>0</td>\n",
       "      <td>1.2</td>\n",
       "      <td>2</td>\n",
       "      <td>0.0</td>\n",
       "      <td>reversable</td>\n",
       "      <td>Yes</td>\n",
       "    </tr>\n",
       "    <tr>\n",
       "      <th>299</th>\n",
       "      <td>68</td>\n",
       "      <td>1</td>\n",
       "      <td>asymptomatic</td>\n",
       "      <td>144</td>\n",
       "      <td>193</td>\n",
       "      <td>1</td>\n",
       "      <td>0</td>\n",
       "      <td>141</td>\n",
       "      <td>0</td>\n",
       "      <td>3.4</td>\n",
       "      <td>2</td>\n",
       "      <td>2.0</td>\n",
       "      <td>reversable</td>\n",
       "      <td>Yes</td>\n",
       "    </tr>\n",
       "    <tr>\n",
       "      <th>300</th>\n",
       "      <td>57</td>\n",
       "      <td>1</td>\n",
       "      <td>asymptomatic</td>\n",
       "      <td>130</td>\n",
       "      <td>131</td>\n",
       "      <td>0</td>\n",
       "      <td>0</td>\n",
       "      <td>115</td>\n",
       "      <td>1</td>\n",
       "      <td>1.2</td>\n",
       "      <td>2</td>\n",
       "      <td>1.0</td>\n",
       "      <td>reversable</td>\n",
       "      <td>Yes</td>\n",
       "    </tr>\n",
       "    <tr>\n",
       "      <th>301</th>\n",
       "      <td>57</td>\n",
       "      <td>0</td>\n",
       "      <td>nontypical</td>\n",
       "      <td>130</td>\n",
       "      <td>236</td>\n",
       "      <td>0</td>\n",
       "      <td>2</td>\n",
       "      <td>174</td>\n",
       "      <td>0</td>\n",
       "      <td>0.0</td>\n",
       "      <td>2</td>\n",
       "      <td>1.0</td>\n",
       "      <td>normal</td>\n",
       "      <td>Yes</td>\n",
       "    </tr>\n",
       "    <tr>\n",
       "      <th>302</th>\n",
       "      <td>38</td>\n",
       "      <td>1</td>\n",
       "      <td>nonanginal</td>\n",
       "      <td>138</td>\n",
       "      <td>175</td>\n",
       "      <td>0</td>\n",
       "      <td>0</td>\n",
       "      <td>173</td>\n",
       "      <td>0</td>\n",
       "      <td>0.0</td>\n",
       "      <td>1</td>\n",
       "      <td>NaN</td>\n",
       "      <td>normal</td>\n",
       "      <td>No</td>\n",
       "    </tr>\n",
       "  </tbody>\n",
       "</table>\n",
       "<p>303 rows × 14 columns</p>\n",
       "</div>"
      ],
      "text/plain": [
       "     Age  Sex     ChestPain  RestBP  Chol  Fbs  RestECG  MaxHR  ExAng  \\\n",
       "0     63    1       typical     145   233    1        2    150      0   \n",
       "1     67    1  asymptomatic     160   286    0        2    108      1   \n",
       "2     67    1  asymptomatic     120   229    0        2    129      1   \n",
       "3     37    1    nonanginal     130   250    0        0    187      0   \n",
       "4     41    0    nontypical     130   204    0        2    172      0   \n",
       "..   ...  ...           ...     ...   ...  ...      ...    ...    ...   \n",
       "298   45    1       typical     110   264    0        0    132      0   \n",
       "299   68    1  asymptomatic     144   193    1        0    141      0   \n",
       "300   57    1  asymptomatic     130   131    0        0    115      1   \n",
       "301   57    0    nontypical     130   236    0        2    174      0   \n",
       "302   38    1    nonanginal     138   175    0        0    173      0   \n",
       "\n",
       "     Oldpeak  Slope   Ca        Thal Target  \n",
       "0        2.3      3  0.0       fixed     No  \n",
       "1        1.5      2  3.0      normal    Yes  \n",
       "2        2.6      2  2.0  reversable    Yes  \n",
       "3        3.5      3  0.0      normal     No  \n",
       "4        1.4      1  0.0      normal     No  \n",
       "..       ...    ...  ...         ...    ...  \n",
       "298      1.2      2  0.0  reversable    Yes  \n",
       "299      3.4      2  2.0  reversable    Yes  \n",
       "300      1.2      2  1.0  reversable    Yes  \n",
       "301      0.0      2  1.0      normal    Yes  \n",
       "302      0.0      1  NaN      normal     No  \n",
       "\n",
       "[303 rows x 14 columns]"
      ]
     },
     "execution_count": 63,
     "metadata": {},
     "output_type": "execute_result"
    }
   ],
   "source": [
    "# Your code here\n",
    "heart_df = pd.read_csv(\"Heart.csv\")\n",
    "heart_df"
   ]
  },
  {
   "cell_type": "markdown",
   "metadata": {},
   "source": [
    "**Age:** The person’s age in years\n",
    "\n",
    "**Sex:** The person’s sex (1 = male, 0 = female)\n",
    "\n",
    "**ChestPain:** chest pain type\n",
    "\n",
    "* Value 0: asymptomatic\n",
    "* Value 1: atypical angina\n",
    "* Value 2: non-anginal pain\n",
    "* Value 3: typical angina\n",
    "\n",
    "**RestBP:** The person’s resting blood pressure (mm Hg on admission to the hospital)\n",
    "\n",
    "**Chol:** The person’s cholesterol measurement in mg/dl\n",
    "\n",
    "**Fbs:** The person’s fasting blood sugar (> 120 mg/dl, 1 = true; 0 = false)\n",
    "restecg: resting electrocardiographic results\n",
    "\n",
    "* Value 0: showing probable or definite left ventricular hypertrophy by Estes’ criteria\n",
    "* Value 1: normal\n",
    "* Value 2: having ST-T wave abnormality (T wave inversions and/or ST elevation or depression of > 0.05 mV)\n",
    "\n",
    "**RestECG:** The person’s maximum heart rate achieved\n",
    "\n",
    "**MaxHR:** Exercise induced angina (1 = yes; 0 = no)\n",
    "\n",
    "**Oldpeak:** ST depression induced by exercise relative to rest (‘ST’ relates to positions on the ECG plot. See more here)\n",
    "\n",
    "**Slope:** the slope of the peak exercise ST segment — 0: downsloping; 1: flat; 2: upsloping\n",
    "\n",
    "* 0: downsloping; \n",
    "* 1: flat; \n",
    "* 2: upsloping\n",
    "\n",
    "**Ca:** The number of major vessels (0–3)\n",
    "\n",
    "**Thal:** A blood disorder called thalassemia Value 0: NULL (dropped from the dataset previously\n",
    "\n",
    "* Value 1: fixed defect (no blood flow in some part of the heart)\n",
    "* Value 2: normal blood flow\n",
    "* Value 3: reversible defect (a blood flow is observed but it is not normal)\n",
    "\n",
    "**Target:** Heart disease (1 = no, 0= yes)"
   ]
  },
  {
   "cell_type": "markdown",
   "metadata": {},
   "source": [
    "# Task - 1 Implement SVM using libraries (4 points)\n",
    "We want to use **Suppert Vector Machine** to perdict if the patients will have heart problems or not. The column \"Target\" in our datasets includes data about heart diseases. If the patient had heart disease we have a 1 and if not a zero. \n",
    "\n",
    "Prepare your data set for predicting heart disease (\"Target\" column) out of 3 features:\n",
    "\n",
    "* Age of the patient (Column **\"Age\"**)\n",
    "* Gender of the patient (male or female - Column **\"Sex\"**)\n",
    "* Cholestrol level of the patient (Column **\"Chol\"**) \n",
    "\n",
    "\n",
    "Split your data into 80% traning data and 20% test data, and implement Support Vector Machine using Scikit-Learn. \n",
    "\n",
    "\n",
    "\n"
   ]
  },
  {
   "cell_type": "code",
   "execution_count": 64,
   "metadata": {},
   "outputs": [],
   "source": [
    "df = heart_df.copy()\n",
    "df = df[['Target', 'Age', 'Sex', 'Chol']]\n",
    "df['Target'] = df['Target'].map({'No': 0, 'Yes': 1})\n",
    "X = df[[\"Age\",\"Sex\",\"Chol\"]]\n",
    "y=df[\"Target\"]\n",
    "from sklearn.model_selection import train_test_split\n",
    "X_train, X_test, y_train, y_test = train_test_split(X, y, test_size=0.2)"
   ]
  },
  {
   "cell_type": "code",
   "execution_count": 65,
   "metadata": {},
   "outputs": [
    {
     "data": {
      "text/html": [
       "<style>#sk-container-id-5 {color: black;}#sk-container-id-5 pre{padding: 0;}#sk-container-id-5 div.sk-toggleable {background-color: white;}#sk-container-id-5 label.sk-toggleable__label {cursor: pointer;display: block;width: 100%;margin-bottom: 0;padding: 0.3em;box-sizing: border-box;text-align: center;}#sk-container-id-5 label.sk-toggleable__label-arrow:before {content: \"▸\";float: left;margin-right: 0.25em;color: #696969;}#sk-container-id-5 label.sk-toggleable__label-arrow:hover:before {color: black;}#sk-container-id-5 div.sk-estimator:hover label.sk-toggleable__label-arrow:before {color: black;}#sk-container-id-5 div.sk-toggleable__content {max-height: 0;max-width: 0;overflow: hidden;text-align: left;background-color: #f0f8ff;}#sk-container-id-5 div.sk-toggleable__content pre {margin: 0.2em;color: black;border-radius: 0.25em;background-color: #f0f8ff;}#sk-container-id-5 input.sk-toggleable__control:checked~div.sk-toggleable__content {max-height: 200px;max-width: 100%;overflow: auto;}#sk-container-id-5 input.sk-toggleable__control:checked~label.sk-toggleable__label-arrow:before {content: \"▾\";}#sk-container-id-5 div.sk-estimator input.sk-toggleable__control:checked~label.sk-toggleable__label {background-color: #d4ebff;}#sk-container-id-5 div.sk-label input.sk-toggleable__control:checked~label.sk-toggleable__label {background-color: #d4ebff;}#sk-container-id-5 input.sk-hidden--visually {border: 0;clip: rect(1px 1px 1px 1px);clip: rect(1px, 1px, 1px, 1px);height: 1px;margin: -1px;overflow: hidden;padding: 0;position: absolute;width: 1px;}#sk-container-id-5 div.sk-estimator {font-family: monospace;background-color: #f0f8ff;border: 1px dotted black;border-radius: 0.25em;box-sizing: border-box;margin-bottom: 0.5em;}#sk-container-id-5 div.sk-estimator:hover {background-color: #d4ebff;}#sk-container-id-5 div.sk-parallel-item::after {content: \"\";width: 100%;border-bottom: 1px solid gray;flex-grow: 1;}#sk-container-id-5 div.sk-label:hover label.sk-toggleable__label {background-color: #d4ebff;}#sk-container-id-5 div.sk-serial::before {content: \"\";position: absolute;border-left: 1px solid gray;box-sizing: border-box;top: 0;bottom: 0;left: 50%;z-index: 0;}#sk-container-id-5 div.sk-serial {display: flex;flex-direction: column;align-items: center;background-color: white;padding-right: 0.2em;padding-left: 0.2em;position: relative;}#sk-container-id-5 div.sk-item {position: relative;z-index: 1;}#sk-container-id-5 div.sk-parallel {display: flex;align-items: stretch;justify-content: center;background-color: white;position: relative;}#sk-container-id-5 div.sk-item::before, #sk-container-id-5 div.sk-parallel-item::before {content: \"\";position: absolute;border-left: 1px solid gray;box-sizing: border-box;top: 0;bottom: 0;left: 50%;z-index: -1;}#sk-container-id-5 div.sk-parallel-item {display: flex;flex-direction: column;z-index: 1;position: relative;background-color: white;}#sk-container-id-5 div.sk-parallel-item:first-child::after {align-self: flex-end;width: 50%;}#sk-container-id-5 div.sk-parallel-item:last-child::after {align-self: flex-start;width: 50%;}#sk-container-id-5 div.sk-parallel-item:only-child::after {width: 0;}#sk-container-id-5 div.sk-dashed-wrapped {border: 1px dashed gray;margin: 0 0.4em 0.5em 0.4em;box-sizing: border-box;padding-bottom: 0.4em;background-color: white;}#sk-container-id-5 div.sk-label label {font-family: monospace;font-weight: bold;display: inline-block;line-height: 1.2em;}#sk-container-id-5 div.sk-label-container {text-align: center;}#sk-container-id-5 div.sk-container {/* jupyter's `normalize.less` sets `[hidden] { display: none; }` but bootstrap.min.css set `[hidden] { display: none !important; }` so we also need the `!important` here to be able to override the default hidden behavior on the sphinx rendered scikit-learn.org. See: https://github.com/scikit-learn/scikit-learn/issues/21755 */display: inline-block !important;position: relative;}#sk-container-id-5 div.sk-text-repr-fallback {display: none;}</style><div id=\"sk-container-id-5\" class=\"sk-top-container\"><div class=\"sk-text-repr-fallback\"><pre>SVC()</pre><b>In a Jupyter environment, please rerun this cell to show the HTML representation or trust the notebook. <br />On GitHub, the HTML representation is unable to render, please try loading this page with nbviewer.org.</b></div><div class=\"sk-container\" hidden><div class=\"sk-item\"><div class=\"sk-estimator sk-toggleable\"><input class=\"sk-toggleable__control sk-hidden--visually\" id=\"sk-estimator-id-5\" type=\"checkbox\" checked><label for=\"sk-estimator-id-5\" class=\"sk-toggleable__label sk-toggleable__label-arrow\">SVC</label><div class=\"sk-toggleable__content\"><pre>SVC()</pre></div></div></div></div></div>"
      ],
      "text/plain": [
       "SVC()"
      ]
     },
     "execution_count": 65,
     "metadata": {},
     "output_type": "execute_result"
    }
   ],
   "source": [
    "# Add your code Here! \n",
    "from sklearn import svm\n",
    "from sklearn.metrics import accuracy_score\n",
    "model = svm.SVC()\n",
    "model.fit(X_train, y_train)"
   ]
  },
  {
   "cell_type": "markdown",
   "metadata": {},
   "source": [
    "# Task 2 - (4 points)\n",
    "\n",
    "Cacluate the accuracy, Precision, Recall and F1 score of your **SVM** implementaion from Task 1. \n",
    "Print the results. \n",
    "\n",
    "You may use library methods for this task if you choose to.\n"
   ]
  },
  {
   "cell_type": "code",
   "execution_count": 66,
   "metadata": {},
   "outputs": [
    {
     "name": "stdout",
     "output_type": "stream",
     "text": [
      "              precision    recall  f1-score   support\n",
      "\n",
      "           0       0.50      0.84      0.63        31\n",
      "           1       0.44      0.13      0.21        30\n",
      "\n",
      "    accuracy                           0.49        61\n",
      "   macro avg       0.47      0.49      0.42        61\n",
      "weighted avg       0.47      0.49      0.42        61\n",
      "\n"
     ]
    }
   ],
   "source": [
    "# Add your code Here! \n",
    "from sklearn.metrics import classification_report\n",
    "y_pred = model.predict(X_test)\n",
    "print(classification_report(y_test,y_pred))"
   ]
  },
  {
   "cell_type": "markdown",
   "metadata": {},
   "source": [
    "# Task 3 - Implement SVM without using libraries  - (4 points)\n",
    "\n",
    "Implement SVM from scratch using Hinge Loss function and Gradient Descent. \n",
    "Try to produce the same result as you get from the libraries. \n",
    "\n",
    "\n",
    "* Do as many iterations as needed \n",
    "* Do maximum **100 iterations**\n",
    "* Use a very small learning rate for checking your GD implementation. \n",
    "* Your are allowed to use your choice of learning rate, like using 0.0001, 0.001 or 0.01 or 0.1 or higher. \n",
    "* Visualize your costs. \n",
    "* No need to add an y-intercept in this task. \n",
    "* You can use libraries to report accuracy, Precision, Recall and F1. \n",
    "\n"
   ]
  },
  {
   "cell_type": "code",
   "execution_count": 67,
   "metadata": {},
   "outputs": [],
   "source": [
    "def compute_cost(X, y, W, regularization_factor):\n",
    "    n = X.shape[0]\n",
    "    distances = 1 - y * (np.dot(X, W))\n",
    " \n",
    "    distances[distances < 0] = 0 \n",
    "    \n",
    "    hinge_loss = regularization_factor * (np.sum(distances) / n)\n",
    "    # This divide by 2 is not important. You can skip doing it \n",
    "    # because we want only to check if this cost is going down or not. \n",
    "    return (1 / 2 * np.dot(W, W) + hinge_loss)"
   ]
  },
  {
   "cell_type": "code",
   "execution_count": 68,
   "metadata": {},
   "outputs": [],
   "source": [
    "def calculate_gradient(X, y, W, regularization_factor):\n",
    "    if type(y) == np.float64:\n",
    "        y = np.array([y])\n",
    "        X = np.array([X])\n",
    "    distance = 1 - (y * np.dot(X, W))\n",
    "    dw = np.zeros(len(W))\n",
    "    for ind, d in enumerate(distance):\n",
    "        #print(X)\n",
    "        if (d < 0):\n",
    "            di = W\n",
    "        else:\n",
    "            di = W - (regularization_factor * y[ind] * X[ind])\n",
    "        dw += di\n",
    "\n",
    "    dw = dw/len(y)  # average\n",
    "    return dw"
   ]
  },
  {
   "cell_type": "code",
   "execution_count": 69,
   "metadata": {},
   "outputs": [],
   "source": [
    "X_train=X_train.values\n",
    "y_train=y_train.values"
   ]
  },
  {
   "cell_type": "code",
   "execution_count": 70,
   "metadata": {},
   "outputs": [
    {
     "name": "stdout",
     "output_type": "stream",
     "text": [
      "Epoch 0 Cost is: 0.01 weights [0. 0. 0.]\n",
      "Epoch 1 Cost is: 0.009864157452428754 weights [2.57148760e-05 3.51239669e-07 1.13681818e-04]\n",
      "Epoch 2 Cost is: 0.009728342072008596 weights [5.14271806e-05 7.02444215e-07 2.27352268e-04]\n",
      "Epoch 3 Cost is: 0.009592553853306367 weights [7.71369139e-05 1.05361364e-06 3.41011351e-04]\n",
      "Epoch 4 Cost is: 0.009456792790889998 weights [1.02844076e-04 1.40474795e-06 4.54659068e-04]\n",
      "Epoch 5 Cost is: 0.009321058879328502 weights [1.28548668e-04 1.75584714e-06 5.68295420e-04]\n",
      "Epoch 6 Cost is: 0.009185352113191977 weights [1.54250689e-04 2.10691123e-06 6.81920409e-04]\n",
      "Epoch 7 Cost is: 0.009049672487051614 weights [1.79950140e-04 2.45794021e-06 7.95534035e-04]\n",
      "Epoch 8 Cost is: 0.008914019995479682 weights [2.05647021e-04 2.80893408e-06 9.09136300e-04]\n",
      "Epoch 9 Cost is: 0.008778394633049538 weights [2.31341332e-04 3.15989286e-06 1.02272720e-03]\n",
      "Epoch 10 Cost is: 0.00864279639433563 weights [2.57033074e-04 3.51081654e-06 1.13630675e-03]\n",
      "Epoch 11 Cost is: 0.008507225273913477 weights [2.82722247e-04 3.86170512e-06 1.24987494e-03]\n",
      "Epoch 12 Cost is: 0.0083716812663597 weights [3.08408851e-04 4.21255862e-06 1.36343177e-03]\n",
      "Epoch 13 Cost is: 0.008236164366251995 weights [3.34092886e-04 4.56337704e-06 1.47697724e-03]\n",
      "Epoch 14 Cost is: 0.008100674568169142 weights [3.59774353e-04 4.91416037e-06 1.59051136e-03]\n",
      "Epoch 15 Cost is: 0.007965211866691005 weights [3.85453251e-04 5.26490862e-06 1.70403413e-03]\n",
      "Epoch 16 Cost is: 0.00782977625639854 weights [4.11129582e-04 5.61562180e-06 1.81754555e-03]\n",
      "Epoch 17 Cost is: 0.007694367731873776 weights [4.36803345e-04 5.96629991e-06 1.93104561e-03]\n",
      "Epoch 18 Cost is: 0.007558986287699831 weights [4.62474541e-04 6.31694295e-06 2.04453432e-03]\n",
      "Epoch 19 Cost is: 0.007423631918460908 weights [4.88143169e-04 6.66755092e-06 2.15801169e-03]\n",
      "Epoch 20 Cost is: 0.007288304618742288 weights [5.13809231e-04 7.01812384e-06 2.27147770e-03]\n",
      "Epoch 21 Cost is: 0.007153430088599362 weights [5.39472726e-04 7.36866169e-06 2.38493237e-03]\n",
      "Epoch 22 Cost is: 0.007025943167793509 weights [5.64641919e-04 7.71916450e-06 2.49500380e-03]\n",
      "Epoch 23 Cost is: 0.006898481743096947 weights [5.89808596e-04 8.06963225e-06 2.60506422e-03]\n",
      "Epoch 24 Cost is: 0.006771045809410713 weights [6.14972755e-04 8.42006496e-06 2.71511363e-03]\n",
      "Epoch 25 Cost is: 0.006643635361636855 weights [6.40134399e-04 8.77046262e-06 2.82515203e-03]\n",
      "Epoch 26 Cost is: 0.006519161292061569 weights [6.65293526e-04 9.12082524e-06 2.93517944e-03]\n",
      "Epoch 27 Cost is: 0.00640851583653383 weights [6.89524517e-04 9.46288837e-06 3.03967517e-03]\n",
      "Epoch 28 Cost is: 0.006309969138659766 weights [7.12513416e-04 9.79252059e-06 3.13749931e-03]\n",
      "Epoch 29 Cost is: 0.006226811402772308 weights [7.34115718e-04 1.01014587e-05 3.22764836e-03]\n",
      "Epoch 30 Cost is: 0.0061515628630601045 weights [7.54769579e-04 1.04021014e-05 3.31279667e-03]\n",
      "Epoch 31 Cost is: 0.006085080379173929 weights [7.74917243e-04 1.06985819e-05 3.39551085e-03]\n",
      "Epoch 32 Cost is: 0.0060335121553605365 weights [7.92451321e-04 1.09537104e-05 3.46524981e-03]\n",
      "Epoch 33 Cost is: 0.005985302702222947 weights [8.09702655e-04 1.12046811e-05 3.53384957e-03]\n",
      "Epoch 34 Cost is: 0.005945157680551303 weights [8.25485321e-04 1.14349656e-05 3.59571106e-03]\n",
      "Epoch 35 Cost is: 0.005906723184979014 weights [8.41010210e-04 1.16652271e-05 3.65645892e-03]\n",
      "Epoch 36 Cost is: 0.005874107947630977 weights [8.55603795e-04 1.18830688e-05 3.71287014e-03]\n",
      "Epoch 37 Cost is: 0.005847340403938475 weights [8.68898400e-04 1.20843599e-05 3.76397406e-03]\n",
      "Epoch 38 Cost is: 0.00582395837111178 weights [8.81299114e-04 1.22691018e-05 3.81085799e-03]\n",
      "Epoch 39 Cost is: 0.00580346090259059 weights [8.93186190e-04 1.24496931e-05 3.85568352e-03]\n",
      "Epoch 40 Cost is: 0.005786012079187677 weights [9.04113401e-04 1.26137374e-05 3.89641365e-03]\n",
      "Epoch 41 Cost is: 0.005769957497105443 weights [9.14605634e-04 1.27736330e-05 3.93511079e-03]\n",
      "Epoch 42 Cost is: 0.005755208010054233 weights [9.24861281e-04 1.29335127e-05 3.97280818e-03]\n",
      "Epoch 43 Cost is: 0.005741851191948968 weights [9.34644828e-04 1.30851119e-05 4.00851834e-03]\n",
      "Epoch 44 Cost is: 0.00572907470366472 weights [9.44204256e-04 1.32325637e-05 4.04323732e-03]\n",
      "Epoch 45 Cost is: 0.005717506680800661 weights [9.53270992e-04 1.33717363e-05 4.07601895e-03]\n",
      "Epoch 46 Cost is: 0.005706403979570746 weights [9.62336822e-04 1.35108950e-05 4.10879730e-03]\n",
      "Epoch 47 Cost is: 0.005696917249868265 weights [9.70645547e-04 1.36417754e-05 4.13872113e-03]\n",
      "Epoch 48 Cost is: 0.005688539550669721 weights [9.78527822e-04 1.37643781e-05 4.16674114e-03]\n",
      "Epoch 49 Cost is: 0.0056811805118070855 weights [9.85942365e-04 1.38828364e-05 4.19288232e-03]\n",
      "Epoch 50 Cost is: 0.005674311191655633 weights [9.93116498e-04 1.40012828e-05 4.21809113e-03]\n",
      "Epoch 51 Cost is: 0.005667443245299518 weights [1.00028991e-03 1.41197174e-05 4.24329742e-03]\n",
      "Epoch 52 Cost is: 0.005660576672463996 weights [1.00746261e-03 1.42381401e-05 4.26850119e-03]\n",
      "Epoch 53 Cost is: 0.005653711472874373 weights [1.01463459e-03 1.43565510e-05 4.29370244e-03]\n",
      "Epoch 54 Cost is: 0.005647121316276375 weights [1.02180586e-03 1.44749501e-05 4.31890117e-03]\n",
      "Epoch 55 Cost is: 0.00564164575265015 weights [1.02832764e-03 1.45809406e-05 4.34137424e-03]\n",
      "Epoch 56 Cost is: 0.005636440383089705 weights [1.03484878e-03 1.46869205e-05 4.36384506e-03]\n",
      "Epoch 57 Cost is: 0.00563183164230848 weights [1.04090232e-03 1.47846254e-05 4.38452438e-03]\n",
      "Epoch 58 Cost is: 0.005627604978722289 weights [1.04679410e-03 1.48781883e-05 4.40429667e-03]\n",
      "Epoch 59 Cost is: 0.005623718554113362 weights [1.05242082e-03 1.49676095e-05 4.42319095e-03]\n",
      "Epoch 60 Cost is: 0.005619832906750492 weights [1.05804698e-03 1.50570219e-05 4.44208334e-03]\n",
      "Epoch 61 Cost is: 0.005615991531332136 weights [1.06367258e-03 1.51464252e-05 4.46097384e-03]\n",
      "Epoch 62 Cost is: 0.005612454406516868 weights [1.06908275e-03 1.52316875e-05 4.47898642e-03]\n",
      "Epoch 63 Cost is: 0.005608917989091191 weights [1.07449237e-03 1.53169412e-05 4.49699720e-03]\n",
      "Epoch 64 Cost is: 0.005605402761131489 weights [1.07990145e-03 1.54021863e-05 4.51500618e-03]\n",
      "Epoch 65 Cost is: 0.005602195119433953 weights [1.08505792e-03 1.54832907e-05 4.53215799e-03]\n",
      "Epoch 66 Cost is: 0.005599094972969436 weights [1.09021388e-03 1.55643870e-05 4.54930808e-03]\n",
      "Epoch 67 Cost is: 0.005596198256095436 weights [1.09512138e-03 1.56413430e-05 4.56560521e-03]\n",
      "Epoch 68 Cost is: 0.005593302118535845 weights [1.10002840e-03 1.57182912e-05 4.58190072e-03]\n",
      "Epoch 69 Cost is: 0.005590716076412605 weights [1.10493493e-03 1.57952318e-05 4.59819459e-03]\n",
      "Epoch 70 Cost is: 0.005588646876564134 weights [1.10911782e-03 1.58639002e-05 4.61195791e-03]\n",
      "Epoch 71 Cost is: 0.005586642321901105 weights [1.11330030e-03 1.59325618e-05 4.62571986e-03]\n",
      "Epoch 72 Cost is: 0.005584852483555717 weights [1.11726748e-03 1.59970842e-05 4.63863745e-03]\n",
      "Epoch 73 Cost is: 0.0055832534186429136 weights [1.12101526e-03 1.60574680e-05 4.65071491e-03]\n",
      "Epoch 74 Cost is: 0.005581654673527102 weights [1.12476266e-03 1.61178457e-05 4.66279116e-03]\n",
      "Epoch 75 Cost is: 0.005580056248144328 weights [1.12850969e-03 1.61782174e-05 4.67486620e-03]\n",
      "Epoch 76 Cost is: 0.005578458142430643 weights [1.13225634e-03 1.62385830e-05 4.68694004e-03]\n",
      "Epoch 77 Cost is: 0.005576860356322122 weights [1.13600262e-03 1.62989427e-05 4.69901267e-03]\n",
      "Epoch 78 Cost is: 0.005575262889754846 weights [1.13974852e-03 1.63592962e-05 4.71108409e-03]\n",
      "Epoch 79 Cost is: 0.0055737691113826576 weights [1.14349405e-03 1.64196438e-05 4.72315430e-03]\n",
      "Epoch 80 Cost is: 0.005572380963751508 weights [1.14697888e-03 1.64799853e-05 4.73440926e-03]\n",
      "Epoch 81 Cost is: 0.005570993093736004 weights [1.15046335e-03 1.65403207e-05 4.74566309e-03]\n",
      "Epoch 82 Cost is: 0.005569605501280622 weights [1.15394748e-03 1.66006502e-05 4.75691580e-03]\n",
      "Epoch 83 Cost is: 0.005568218186329858 weights [1.15743126e-03 1.66609736e-05 4.76816738e-03]\n",
      "Epoch 84 Cost is: 0.0055668884447943445 weights [1.16091469e-03 1.67212910e-05 4.77941784e-03]\n",
      "Epoch 85 Cost is: 0.00556569353577398 weights [1.16411678e-03 1.67774701e-05 4.78986965e-03]\n",
      "Epoch 86 Cost is: 0.00556449886572347 weights [1.16731855e-03 1.68336436e-05 4.80032041e-03]\n",
      "Epoch 87 Cost is: 0.005563304434595024 weights [1.17052000e-03 1.68898114e-05 4.81077013e-03]\n",
      "Epoch 88 Cost is: 0.005562169778722058 weights [1.17372113e-03 1.69459737e-05 4.82121881e-03]\n",
      "Epoch 89 Cost is: 0.0055611506007684 weights [1.17674012e-03 1.69979981e-05 4.83085239e-03]\n",
      "Epoch 90 Cost is: 0.005560131626640139 weights [1.17975881e-03 1.70500173e-05 4.84048500e-03]\n",
      "Epoch 91 Cost is: 0.00555918464977577 weights [1.18277720e-03 1.71020313e-05 4.85011666e-03]\n",
      "Epoch 92 Cost is: 0.005558325499067569 weights [1.18565066e-03 1.71499079e-05 4.85892917e-03]\n",
      "Epoch 93 Cost is: 0.00555746652018092 weights [1.18852383e-03 1.71977797e-05 4.86774079e-03]\n",
      "Epoch 94 Cost is: 0.0055566077130814575 weights [1.19139671e-03 1.72456467e-05 4.87655154e-03]\n",
      "Epoch 95 Cost is: 0.005555749077734828 weights [1.19426931e-03 1.72935089e-05 4.88536141e-03]\n",
      "Epoch 96 Cost is: 0.005554890614106681 weights [1.19714161e-03 1.73413663e-05 4.89417039e-03]\n",
      "Epoch 97 Cost is: 0.005554032322162675 weights [1.20001364e-03 1.73892190e-05 4.90297849e-03]\n",
      "Epoch 98 Cost is: 0.005553174201868475 weights [1.20288537e-03 1.74370668e-05 4.91178572e-03]\n",
      "Epoch 99 Cost is: 0.005552316253189754 weights [1.20575682e-03 1.74849099e-05 4.92059206e-03]\n"
     ]
    }
   ],
   "source": [
    "# Now we optimize it using Gradient Descent. \n",
    "num_iterations = 100\n",
    "learnin_rate = 0.0001\n",
    "regularization = 0.01\n",
    "cost_list = []\n",
    "weights = np.zeros(3)\n",
    "for i in range(0, num_iterations):\n",
    "    cost = compute_cost(X_train, y_train, weights, regularization)\n",
    "    print(\"Epoch\", i, \"Cost is:\", cost, \"weights\", weights)\n",
    "    cost_list.append(cost)\n",
    "    grad = calculate_gradient(X_train, y_train, weights, regularization)\n",
    "    weights = weights - learnin_rate * grad"
   ]
  },
  {
   "cell_type": "code",
   "execution_count": 71,
   "metadata": {},
   "outputs": [
    {
     "data": {
      "image/png": "[encoded data removed]",
      "text/plain": [
       "<Figure size 640x480 with 1 Axes>"
      ]
     },
     "metadata": {},
     "output_type": "display_data"
    }
   ],
   "source": [
    "plt.plot(np.arange(num_iterations), cost_list)\n",
    "plt.show()"
   ]
  },
  {
   "cell_type": "code",
   "execution_count": 72,
   "metadata": {},
   "outputs": [],
   "source": [
    "def predict_svm(weights, X):\n",
    "    \"\"\"\n",
    "    Predict the class between 0 and 1 using learned SVM parameters weights.\n",
    "    \"\"\"    \n",
    "    return np.where(np.dot(X, weights)<0, -1, 1)"
   ]
  },
  {
   "cell_type": "code",
   "execution_count": 73,
   "metadata": {},
   "outputs": [
    {
     "name": "stdout",
     "output_type": "stream",
     "text": [
      "Accuracy Score: 0.4918032786885246\n"
     ]
    }
   ],
   "source": [
    "y_pred2=predict_svm(weights, X_test)\n",
    "print(\"Accuracy Score:\", accuracy_score(y_test,y_pred2))"
   ]
  },
  {
   "cell_type": "markdown",
   "metadata": {},
   "source": [
    "# Task 4 - Compare SVM results with Logistic Regression - (4 points)\n",
    "\n",
    "Which model performs better here? Compare your results wit the logistic regression. You can use libraries for this task, it is not necessary to implement logistic regression from sratch.\n"
   ]
  },
  {
   "cell_type": "code",
   "execution_count": 74,
   "metadata": {},
   "outputs": [
    {
     "name": "stdout",
     "output_type": "stream",
     "text": [
      "              precision    recall  f1-score   support\n",
      "\n",
      "           0       0.50      0.84      0.63        31\n",
      "           1       0.44      0.13      0.21        30\n",
      "\n",
      "    accuracy                           0.49        61\n",
      "   macro avg       0.47      0.49      0.42        61\n",
      "weighted avg       0.47      0.49      0.42        61\n",
      "\n"
     ]
    }
   ],
   "source": [
    "# Add your code Here! \n",
    "print(classification_report(y_test,y_pred))"
   ]
  },
  {
   "cell_type": "code",
   "execution_count": 75,
   "metadata": {},
   "outputs": [
    {
     "name": "stdout",
     "output_type": "stream",
     "text": [
      "              precision    recall  f1-score   support\n",
      "\n",
      "           0       0.65      0.71      0.68        31\n",
      "           1       0.67      0.60      0.63        30\n",
      "\n",
      "    accuracy                           0.66        61\n",
      "   macro avg       0.66      0.65      0.65        61\n",
      "weighted avg       0.66      0.66      0.65        61\n",
      "\n"
     ]
    },
    {
     "name": "stderr",
     "output_type": "stream",
     "text": [
      "c:\\Users\\vicfo\\anaconda3\\envs\\cs329e\\lib\\site-packages\\sklearn\\base.py:457: UserWarning: X has feature names, but LogisticRegression was fitted without feature names\n",
      "  warnings.warn(\n"
     ]
    }
   ],
   "source": [
    "from sklearn.linear_model import LogisticRegression\n",
    "model = LogisticRegression()\n",
    "model.fit(X_train,y_train)\n",
    "y_pred = model.predict(X_test)\n",
    "print(classification_report(y_test,y_pred))"
   ]
  },
  {
   "cell_type": "markdown",
   "metadata": {},
   "source": [
    "# Task 5 - Apply a kernel function to improve SVM performance (4 points)\n",
    "\n",
    "Use the Scikit-learn librariy and apply a kernel function to improve the SVM performance. Check if this is possible. \n"
   ]
  },
  {
   "cell_type": "code",
   "execution_count": 6,
   "metadata": {},
   "outputs": [],
   "source": [
    "# Add your code Here! "
   ]
  },
  {
   "cell_type": "code",
   "execution_count": null,
   "metadata": {},
   "outputs": [],
   "source": []
  },
  {
   "cell_type": "code",
   "execution_count": null,
   "metadata": {},
   "outputs": [],
   "source": []
  }
 ],
 "metadata": {
  "kernelspec": {
   "display_name": "Python 3 (ipykernel)",
   "language": "python",
   "name": "python3"
  },
  "language_info": {
   "codemirror_mode": {
    "name": "ipython",
    "version": 3
   },
   "file_extension": ".py",
   "mimetype": "text/x-python",
   "name": "python",
   "nbconvert_exporter": "python",
   "pygments_lexer": "ipython3",
   "version": "3.9.17"
  }
 },
 "nbformat": 4,
 "nbformat_minor": 4
}
