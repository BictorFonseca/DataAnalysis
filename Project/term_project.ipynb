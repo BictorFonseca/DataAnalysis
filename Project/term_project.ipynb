{
 "cells": [
  {
   "cell_type": "markdown",
   "metadata": {},
   "source": [
    "## Set up notebook"
   ]
  },
  {
   "cell_type": "code",
   "execution_count": 2,
   "metadata": {},
   "outputs": [
    {
     "name": "stderr",
     "output_type": "stream",
     "text": [
      "C:\\Users\\erika\\AppData\\Local\\Temp\\ipykernel_1888\\520829043.py:2: DeprecationWarning: \n",
      "Pyarrow will become a required dependency of pandas in the next major release of pandas (pandas 3.0),\n",
      "(to allow more performant data types, such as the Arrow string type, and better interoperability with other libraries)\n",
      "but was not found to be installed on your system.\n",
      "If this would cause problems for you,\n",
      "please provide us feedback at https://github.com/pandas-dev/pandas/issues/54466\n",
      "        \n",
      "  import pandas as pd\n"
     ]
    }
   ],
   "source": [
    "# import all libraries\n",
    "import pandas as pd\n",
    "import numpy as np\n",
    "import matplotlib.pyplot as plt\n",
    "import seaborn as sns\n"
   ]
  },
  {
   "cell_type": "markdown",
   "metadata": {},
   "source": [
    "## View csv for all animals between 2013 to present"
   ]
  },
  {
   "cell_type": "code",
   "execution_count": null,
   "metadata": {},
   "outputs": [],
   "source": [
    "# TODO: check head, tail, info, describe, shape, columns, dtypes"
   ]
  },
  {
   "cell_type": "markdown",
   "metadata": {},
   "source": [
    "## Clean and reduce the dataframe\n",
    "* filter the data for cats from January 2023 to December 2023\n",
    "* export as a seperate csv"
   ]
  },
  {
   "cell_type": "code",
   "execution_count": null,
   "metadata": {},
   "outputs": [],
   "source": [
    "# TODO: copy/paste cleaning code"
   ]
  },
  {
   "cell_type": "markdown",
   "metadata": {},
   "source": [
    "## View csv for 2023 cats"
   ]
  },
  {
   "cell_type": "code",
   "execution_count": 28,
   "metadata": {},
   "outputs": [],
   "source": [
    "# read in the csv file\n",
    "df = pd.read_csv('2023_cats.csv')"
   ]
  },
  {
   "cell_type": "code",
   "execution_count": 24,
   "metadata": {},
   "outputs": [
    {
     "data": {
      "text/plain": [
       "(5525, 12)"
      ]
     },
     "execution_count": 24,
     "metadata": {},
     "output_type": "execute_result"
    }
   ],
   "source": [
    "df.shape"
   ]
  },
  {
   "cell_type": "code",
   "execution_count": 4,
   "metadata": {},
   "outputs": [
    {
     "data": {
      "text/html": [
       "<div>\n",
       "<style scoped>\n",
       "    .dataframe tbody tr th:only-of-type {\n",
       "        vertical-align: middle;\n",
       "    }\n",
       "\n",
       "    .dataframe tbody tr th {\n",
       "        vertical-align: top;\n",
       "    }\n",
       "\n",
       "    .dataframe thead th {\n",
       "        text-align: right;\n",
       "    }\n",
       "</style>\n",
       "<table border=\"1\" class=\"dataframe\">\n",
       "  <thead>\n",
       "    <tr style=\"text-align: right;\">\n",
       "      <th></th>\n",
       "      <th>Animal ID</th>\n",
       "      <th>Name</th>\n",
       "      <th>DateTime</th>\n",
       "      <th>MonthYear</th>\n",
       "      <th>Date of Birth</th>\n",
       "      <th>Outcome Type</th>\n",
       "      <th>Outcome Subtype</th>\n",
       "      <th>Animal Type</th>\n",
       "      <th>Sex upon Outcome</th>\n",
       "      <th>Age upon Outcome</th>\n",
       "      <th>Breed</th>\n",
       "      <th>Color</th>\n",
       "    </tr>\n",
       "  </thead>\n",
       "  <tbody>\n",
       "    <tr>\n",
       "      <th>0</th>\n",
       "      <td>A869944</td>\n",
       "      <td>*Dreidel</td>\n",
       "      <td>01/02/2023 11:41:00 AM</td>\n",
       "      <td>Jan 2023</td>\n",
       "      <td>10/25/2022</td>\n",
       "      <td>Adoption</td>\n",
       "      <td>Foster</td>\n",
       "      <td>Cat</td>\n",
       "      <td>Spayed Female</td>\n",
       "      <td>2 months</td>\n",
       "      <td>Domestic Shorthair</td>\n",
       "      <td>White/Cream</td>\n",
       "    </tr>\n",
       "    <tr>\n",
       "      <th>1</th>\n",
       "      <td>A870224</td>\n",
       "      <td>*Fir</td>\n",
       "      <td>01/02/2023 11:47:00 AM</td>\n",
       "      <td>Jan 2023</td>\n",
       "      <td>10/11/2022</td>\n",
       "      <td>Adoption</td>\n",
       "      <td>Foster</td>\n",
       "      <td>Cat</td>\n",
       "      <td>Spayed Female</td>\n",
       "      <td>2 months</td>\n",
       "      <td>Domestic Shorthair</td>\n",
       "      <td>Black</td>\n",
       "    </tr>\n",
       "    <tr>\n",
       "      <th>2</th>\n",
       "      <td>A871756</td>\n",
       "      <td>NaN</td>\n",
       "      <td>01/03/2023 09:35:00 AM</td>\n",
       "      <td>Jan 2023</td>\n",
       "      <td>06/29/2021</td>\n",
       "      <td>Transfer</td>\n",
       "      <td>Snr</td>\n",
       "      <td>Cat</td>\n",
       "      <td>Intact Female</td>\n",
       "      <td>1 year</td>\n",
       "      <td>Domestic Shorthair</td>\n",
       "      <td>Brown Tabby/White</td>\n",
       "    </tr>\n",
       "    <tr>\n",
       "      <th>3</th>\n",
       "      <td>A871738</td>\n",
       "      <td>NaN</td>\n",
       "      <td>01/03/2023 09:35:00 AM</td>\n",
       "      <td>Jan 2023</td>\n",
       "      <td>12/29/2020</td>\n",
       "      <td>Transfer</td>\n",
       "      <td>Snr</td>\n",
       "      <td>Cat</td>\n",
       "      <td>Unknown</td>\n",
       "      <td>2 years</td>\n",
       "      <td>Domestic Shorthair</td>\n",
       "      <td>Brown Tabby</td>\n",
       "    </tr>\n",
       "    <tr>\n",
       "      <th>4</th>\n",
       "      <td>A866334</td>\n",
       "      <td>Altair</td>\n",
       "      <td>01/03/2023 03:22:00 PM</td>\n",
       "      <td>Jan 2023</td>\n",
       "      <td>11/28/2021</td>\n",
       "      <td>Adoption</td>\n",
       "      <td>NaN</td>\n",
       "      <td>Cat</td>\n",
       "      <td>Neutered Male</td>\n",
       "      <td>1 year</td>\n",
       "      <td>Domestic Shorthair</td>\n",
       "      <td>Blue/White</td>\n",
       "    </tr>\n",
       "  </tbody>\n",
       "</table>\n",
       "</div>"
      ],
      "text/plain": [
       "  Animal ID      Name                DateTime MonthYear Date of Birth  \\\n",
       "0   A869944  *Dreidel  01/02/2023 11:41:00 AM  Jan 2023    10/25/2022   \n",
       "1   A870224      *Fir  01/02/2023 11:47:00 AM  Jan 2023    10/11/2022   \n",
       "2   A871756       NaN  01/03/2023 09:35:00 AM  Jan 2023    06/29/2021   \n",
       "3   A871738       NaN  01/03/2023 09:35:00 AM  Jan 2023    12/29/2020   \n",
       "4   A866334    Altair  01/03/2023 03:22:00 PM  Jan 2023    11/28/2021   \n",
       "\n",
       "  Outcome Type Outcome Subtype Animal Type Sex upon Outcome Age upon Outcome  \\\n",
       "0     Adoption          Foster         Cat    Spayed Female         2 months   \n",
       "1     Adoption          Foster         Cat    Spayed Female         2 months   \n",
       "2     Transfer             Snr         Cat    Intact Female           1 year   \n",
       "3     Transfer             Snr         Cat          Unknown          2 years   \n",
       "4     Adoption             NaN         Cat    Neutered Male           1 year   \n",
       "\n",
       "                Breed              Color  \n",
       "0  Domestic Shorthair        White/Cream  \n",
       "1  Domestic Shorthair              Black  \n",
       "2  Domestic Shorthair  Brown Tabby/White  \n",
       "3  Domestic Shorthair        Brown Tabby  \n",
       "4  Domestic Shorthair         Blue/White  "
      ]
     },
     "execution_count": 4,
     "metadata": {},
     "output_type": "execute_result"
    }
   ],
   "source": [
    "# check the first few rows\n",
    "df.head()"
   ]
  },
  {
   "cell_type": "code",
   "execution_count": 5,
   "metadata": {},
   "outputs": [
    {
     "data": {
      "text/plain": [
       "Outcome Type\n",
       "Adoption           3436\n",
       "Transfer           1728\n",
       "Return to Owner     140\n",
       "Euthanasia          111\n",
       "Died                 53\n",
       "Rto-Adopt            24\n",
       "Disposal             22\n",
       "Missing               6\n",
       "Relocate              1\n",
       "Name: count, dtype: int64"
      ]
     },
     "execution_count": 5,
     "metadata": {},
     "output_type": "execute_result"
    }
   ],
   "source": [
    "df['Outcome Type'].value_counts()"
   ]
  },
  {
   "cell_type": "code",
   "execution_count": 6,
   "metadata": {},
   "outputs": [
    {
     "data": {
      "text/plain": [
       "Sex upon Outcome\n",
       "Neutered Male    1839\n",
       "Spayed Female    1830\n",
       "Intact Female     806\n",
       "Intact Male       768\n",
       "Unknown           282\n",
       "Name: count, dtype: int64"
      ]
     },
     "execution_count": 6,
     "metadata": {},
     "output_type": "execute_result"
    }
   ],
   "source": [
    "df['Sex upon Outcome'].value_counts()"
   ]
  },
  {
   "cell_type": "code",
   "execution_count": 7,
   "metadata": {},
   "outputs": [
    {
     "data": {
      "text/plain": [
       "Animal Type\n",
       "Cat    5525\n",
       "Name: count, dtype: int64"
      ]
     },
     "execution_count": 7,
     "metadata": {},
     "output_type": "execute_result"
    }
   ],
   "source": [
    "df['Animal Type'].value_counts()"
   ]
  },
  {
   "cell_type": "code",
   "execution_count": 8,
   "metadata": {},
   "outputs": [
    {
     "data": {
      "text/plain": [
       "MonthYear\n",
       "Aug 2023    662\n",
       "Jun 2023    629\n",
       "Jul 2023    603\n",
       "Sep 2023    546\n",
       "May 2023    530\n",
       "Dec 2023    434\n",
       "Oct 2023    427\n",
       "Nov 2023    412\n",
       "Apr 2023    410\n",
       "Jan 2023    355\n",
       "Mar 2023    283\n",
       "Feb 2023    234\n",
       "Name: count, dtype: int64"
      ]
     },
     "execution_count": 8,
     "metadata": {},
     "output_type": "execute_result"
    }
   ],
   "source": [
    "df['MonthYear'].value_counts()"
   ]
  },
  {
   "cell_type": "code",
   "execution_count": 27,
   "metadata": {},
   "outputs": [
    {
     "data": {
      "text/plain": [
       "Outcome Subtype\n",
       "Partner        1357\n",
       "Foster         1065\n",
       "Snr             371\n",
       "Suffering       104\n",
       "In Kennel        31\n",
       "In Foster        17\n",
       "Emergency         6\n",
       "At Vet            4\n",
       "Enroute           3\n",
       "Rabies Risk       3\n",
       "Offsite           2\n",
       "Medical           1\n",
       "Field             1\n",
       "In Surgery        1\n",
       "Name: count, dtype: int64"
      ]
     },
     "execution_count": 27,
     "metadata": {},
     "output_type": "execute_result"
    }
   ],
   "source": [
    "# snr refers to Shelter-Neuter-Return (SNR) program\n",
    "df['Outcome Subtype'].value_counts()"
   ]
  },
  {
   "cell_type": "code",
   "execution_count": 26,
   "metadata": {},
   "outputs": [
    {
     "name": "stdout",
     "output_type": "stream",
     "text": [
      "Animal ID              0\n",
      "Name                1745\n",
      "DateTime               0\n",
      "MonthYear              0\n",
      "Date of Birth          0\n",
      "Outcome Type           4\n",
      "Outcome Subtype     2559\n",
      "Animal Type            0\n",
      "Sex upon Outcome       0\n",
      "Age upon Outcome       0\n",
      "Breed                  0\n",
      "Color                  0\n",
      "dtype: int64\n"
     ]
    }
   ],
   "source": [
    "nan_values = df.isna().sum()\n",
    "print(nan_values)"
   ]
  },
  {
   "cell_type": "code",
   "execution_count": null,
   "metadata": {},
   "outputs": [],
   "source": []
  }
 ],
 "metadata": {
  "kernelspec": {
   "display_name": ".venv",
   "language": "python",
   "name": "python3"
  },
  "language_info": {
   "codemirror_mode": {
    "name": "ipython",
    "version": 3
   },
   "file_extension": ".py",
   "mimetype": "text/x-python",
   "name": "python",
   "nbconvert_exporter": "python",
   "pygments_lexer": "ipython3",
   "version": "3.11.1"
  }
 },
 "nbformat": 4,
 "nbformat_minor": 2
}
