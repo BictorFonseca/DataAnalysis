{
  "cells": [
    {
      "cell_type": "markdown",
      "metadata": {
        "id": "Z_nyU2MBMaC1"
      },
      "source": [
        "# Homework 6  - Logistic Regression without using any libraries.\n",
        "\n",
        "## Your Name Here\n",
        "\n",
        "Student Name:\n",
        "\n",
        "Student UT EID:\n",
        "\n",
        "---\n",
        "\n",
        "Partner Name:\n",
        "\n",
        "Partner UT EID:\n",
        "\n",
        "---\n",
        "\n",
        "Date Created:\n",
        "\n",
        "Date Last Modified:\n",
        "\n",
        "---\n",
        "\n",
        "Totoal Points 20.\n",
        "\n"
      ]
    },
    {
      "cell_type": "code",
<<<<<<< Updated upstream
      "execution_count": 93,
=======
<<<<<<< HEAD
      "execution_count": 6,
=======
      "execution_count": 93,
>>>>>>> 40cb2594b2fdc734196ef22bc0c5612079233289
>>>>>>> Stashed changes
      "metadata": {
        "id": "6JkecGvaMaC7"
      },
      "outputs": [],
      "source": [
        "# Standard Headers\n",
        "# You are welcome to add additional headers here if you wish\n",
        "import pandas as pd\n",
        "import numpy as np\n",
        "import matplotlib.pyplot as plt\n",
        "\n",
        "# Enable inline mode for matplotlib so that Jupyter displays graphs\n",
        "%matplotlib inline"
      ]
    },
    {
      "cell_type": "markdown",
      "metadata": {
        "id": "H9PhAyOmMaC-"
      },
      "source": [
        "# Your allowed to use only the above libraries that are imported. No other libs should be used in this assignment."
      ]
    },
    {
      "cell_type": "markdown",
      "metadata": {
        "id": "NKs_mBXPMaC_"
      },
      "source": [
        "## Heart Dataset\n",
        "\n",
        "In this Assignment we will work with some patients dataset.\n",
        "\n",
        "We have access to 303 patients data. The features are listed below."
      ]
    },
    {
      "cell_type": "code",
<<<<<<< Updated upstream
      "execution_count": 94,
=======
<<<<<<< HEAD
      "execution_count": 7,
=======
      "execution_count": 94,
>>>>>>> 40cb2594b2fdc734196ef22bc0c5612079233289
>>>>>>> Stashed changes
      "metadata": {
        "colab": {
          "base_uri": "https://localhost:8080/",
          "height": 423
        },
        "id": "wzZz5z1EMaC_",
        "outputId": "4515f8b8-97a9-441b-e42b-c281cca70299"
      },
      "outputs": [
        {
          "data": {
            "text/html": [
              "<div>\n",
              "<style scoped>\n",
              "    .dataframe tbody tr th:only-of-type {\n",
              "        vertical-align: middle;\n",
              "    }\n",
              "\n",
              "    .dataframe tbody tr th {\n",
              "        vertical-align: top;\n",
              "    }\n",
              "\n",
              "    .dataframe thead th {\n",
              "        text-align: right;\n",
              "    }\n",
              "</style>\n",
              "<table border=\"1\" class=\"dataframe\">\n",
              "  <thead>\n",
              "    <tr style=\"text-align: right;\">\n",
              "      <th></th>\n",
              "      <th>Age</th>\n",
              "      <th>Sex</th>\n",
              "      <th>ChestPain</th>\n",
              "      <th>RestBP</th>\n",
              "      <th>Chol</th>\n",
              "      <th>Fbs</th>\n",
              "      <th>RestECG</th>\n",
              "      <th>MaxHR</th>\n",
              "      <th>ExAng</th>\n",
              "      <th>Oldpeak</th>\n",
              "      <th>Slope</th>\n",
              "      <th>Ca</th>\n",
              "      <th>Thal</th>\n",
              "      <th>Target</th>\n",
              "    </tr>\n",
              "  </thead>\n",
              "  <tbody>\n",
              "    <tr>\n",
              "      <th>0</th>\n",
              "      <td>63</td>\n",
              "      <td>1</td>\n",
              "      <td>typical</td>\n",
              "      <td>145</td>\n",
              "      <td>233</td>\n",
              "      <td>1</td>\n",
              "      <td>2</td>\n",
              "      <td>150</td>\n",
              "      <td>0</td>\n",
              "      <td>2.3</td>\n",
              "      <td>3</td>\n",
              "      <td>0.0</td>\n",
              "      <td>fixed</td>\n",
              "      <td>No</td>\n",
              "    </tr>\n",
              "    <tr>\n",
              "      <th>1</th>\n",
              "      <td>67</td>\n",
              "      <td>1</td>\n",
              "      <td>asymptomatic</td>\n",
              "      <td>160</td>\n",
              "      <td>286</td>\n",
              "      <td>0</td>\n",
              "      <td>2</td>\n",
              "      <td>108</td>\n",
              "      <td>1</td>\n",
              "      <td>1.5</td>\n",
              "      <td>2</td>\n",
              "      <td>3.0</td>\n",
              "      <td>normal</td>\n",
              "      <td>Yes</td>\n",
              "    </tr>\n",
              "    <tr>\n",
              "      <th>2</th>\n",
              "      <td>67</td>\n",
              "      <td>1</td>\n",
              "      <td>asymptomatic</td>\n",
              "      <td>120</td>\n",
              "      <td>229</td>\n",
              "      <td>0</td>\n",
              "      <td>2</td>\n",
              "      <td>129</td>\n",
              "      <td>1</td>\n",
              "      <td>2.6</td>\n",
              "      <td>2</td>\n",
              "      <td>2.0</td>\n",
              "      <td>reversable</td>\n",
              "      <td>Yes</td>\n",
              "    </tr>\n",
              "    <tr>\n",
              "      <th>3</th>\n",
              "      <td>37</td>\n",
              "      <td>1</td>\n",
              "      <td>nonanginal</td>\n",
              "      <td>130</td>\n",
              "      <td>250</td>\n",
              "      <td>0</td>\n",
              "      <td>0</td>\n",
              "      <td>187</td>\n",
              "      <td>0</td>\n",
              "      <td>3.5</td>\n",
              "      <td>3</td>\n",
              "      <td>0.0</td>\n",
              "      <td>normal</td>\n",
              "      <td>No</td>\n",
              "    </tr>\n",
              "    <tr>\n",
              "      <th>4</th>\n",
              "      <td>41</td>\n",
              "      <td>0</td>\n",
              "      <td>nontypical</td>\n",
              "      <td>130</td>\n",
              "      <td>204</td>\n",
              "      <td>0</td>\n",
              "      <td>2</td>\n",
              "      <td>172</td>\n",
              "      <td>0</td>\n",
              "      <td>1.4</td>\n",
              "      <td>1</td>\n",
              "      <td>0.0</td>\n",
              "      <td>normal</td>\n",
              "      <td>No</td>\n",
              "    </tr>\n",
              "    <tr>\n",
              "      <th>...</th>\n",
              "      <td>...</td>\n",
              "      <td>...</td>\n",
              "      <td>...</td>\n",
              "      <td>...</td>\n",
              "      <td>...</td>\n",
              "      <td>...</td>\n",
              "      <td>...</td>\n",
              "      <td>...</td>\n",
              "      <td>...</td>\n",
              "      <td>...</td>\n",
              "      <td>...</td>\n",
              "      <td>...</td>\n",
              "      <td>...</td>\n",
              "      <td>...</td>\n",
              "    </tr>\n",
              "    <tr>\n",
              "      <th>298</th>\n",
              "      <td>45</td>\n",
              "      <td>1</td>\n",
              "      <td>typical</td>\n",
              "      <td>110</td>\n",
              "      <td>264</td>\n",
              "      <td>0</td>\n",
              "      <td>0</td>\n",
              "      <td>132</td>\n",
              "      <td>0</td>\n",
              "      <td>1.2</td>\n",
              "      <td>2</td>\n",
              "      <td>0.0</td>\n",
              "      <td>reversable</td>\n",
              "      <td>Yes</td>\n",
              "    </tr>\n",
              "    <tr>\n",
              "      <th>299</th>\n",
              "      <td>68</td>\n",
              "      <td>1</td>\n",
              "      <td>asymptomatic</td>\n",
              "      <td>144</td>\n",
              "      <td>193</td>\n",
              "      <td>1</td>\n",
              "      <td>0</td>\n",
              "      <td>141</td>\n",
              "      <td>0</td>\n",
              "      <td>3.4</td>\n",
              "      <td>2</td>\n",
              "      <td>2.0</td>\n",
              "      <td>reversable</td>\n",
              "      <td>Yes</td>\n",
              "    </tr>\n",
              "    <tr>\n",
              "      <th>300</th>\n",
              "      <td>57</td>\n",
              "      <td>1</td>\n",
              "      <td>asymptomatic</td>\n",
              "      <td>130</td>\n",
              "      <td>131</td>\n",
              "      <td>0</td>\n",
              "      <td>0</td>\n",
              "      <td>115</td>\n",
              "      <td>1</td>\n",
              "      <td>1.2</td>\n",
              "      <td>2</td>\n",
              "      <td>1.0</td>\n",
              "      <td>reversable</td>\n",
              "      <td>Yes</td>\n",
              "    </tr>\n",
              "    <tr>\n",
              "      <th>301</th>\n",
              "      <td>57</td>\n",
              "      <td>0</td>\n",
              "      <td>nontypical</td>\n",
              "      <td>130</td>\n",
              "      <td>236</td>\n",
              "      <td>0</td>\n",
              "      <td>2</td>\n",
              "      <td>174</td>\n",
              "      <td>0</td>\n",
              "      <td>0.0</td>\n",
              "      <td>2</td>\n",
              "      <td>1.0</td>\n",
              "      <td>normal</td>\n",
              "      <td>Yes</td>\n",
              "    </tr>\n",
              "    <tr>\n",
              "      <th>302</th>\n",
              "      <td>38</td>\n",
              "      <td>1</td>\n",
              "      <td>nonanginal</td>\n",
              "      <td>138</td>\n",
              "      <td>175</td>\n",
              "      <td>0</td>\n",
              "      <td>0</td>\n",
              "      <td>173</td>\n",
              "      <td>0</td>\n",
              "      <td>0.0</td>\n",
              "      <td>1</td>\n",
              "      <td>NaN</td>\n",
              "      <td>normal</td>\n",
              "      <td>No</td>\n",
              "    </tr>\n",
              "  </tbody>\n",
              "</table>\n",
              "<p>303 rows × 14 columns</p>\n",
              "</div>"
            ],
            "text/plain": [
              "     Age  Sex     ChestPain  RestBP  Chol  Fbs  RestECG  MaxHR  ExAng  \\\n",
              "0     63    1       typical     145   233    1        2    150      0   \n",
              "1     67    1  asymptomatic     160   286    0        2    108      1   \n",
              "2     67    1  asymptomatic     120   229    0        2    129      1   \n",
              "3     37    1    nonanginal     130   250    0        0    187      0   \n",
              "4     41    0    nontypical     130   204    0        2    172      0   \n",
              "..   ...  ...           ...     ...   ...  ...      ...    ...    ...   \n",
              "298   45    1       typical     110   264    0        0    132      0   \n",
              "299   68    1  asymptomatic     144   193    1        0    141      0   \n",
              "300   57    1  asymptomatic     130   131    0        0    115      1   \n",
              "301   57    0    nontypical     130   236    0        2    174      0   \n",
              "302   38    1    nonanginal     138   175    0        0    173      0   \n",
              "\n",
              "     Oldpeak  Slope   Ca        Thal Target  \n",
              "0        2.3      3  0.0       fixed     No  \n",
              "1        1.5      2  3.0      normal    Yes  \n",
              "2        2.6      2  2.0  reversable    Yes  \n",
              "3        3.5      3  0.0      normal     No  \n",
              "4        1.4      1  0.0      normal     No  \n",
              "..       ...    ...  ...         ...    ...  \n",
              "298      1.2      2  0.0  reversable    Yes  \n",
              "299      3.4      2  2.0  reversable    Yes  \n",
              "300      1.2      2  1.0  reversable    Yes  \n",
              "301      0.0      2  1.0      normal    Yes  \n",
              "302      0.0      1  NaN      normal     No  \n",
              "\n",
              "[303 rows x 14 columns]"
            ]
          },
<<<<<<< Updated upstream
          "execution_count": 94,
=======
<<<<<<< HEAD
          "execution_count": 7,
=======
          "execution_count": 94,
>>>>>>> 40cb2594b2fdc734196ef22bc0c5612079233289
>>>>>>> Stashed changes
          "metadata": {},
          "output_type": "execute_result"
        }
      ],
      "source": [
        "# Your code here\n",
        "heart_df = pd.read_csv(\"Heart.csv\")\n",
        "heart_df"
      ]
    },
    {
      "cell_type": "markdown",
      "metadata": {
        "id": "Od2k8_-ZMaDB"
      },
      "source": [
        "**Age:** The person’s age in years\n",
        "\n",
        "**Sex:** The person’s sex (1 = male, 0 = female)\n",
        "\n",
        "**ChestPain:** chest pain type\n",
        "\n",
        "* Value 0: asymptomatic\n",
        "* Value 1: atypical angina\n",
        "* Value 2: non-anginal pain\n",
        "* Value 3: typical angina\n",
        "\n",
        "**RestBP:** The person’s resting blood pressure (mm Hg on admission to the hospital)\n",
        "\n",
        "**Chol:** The person’s cholesterol measurement in mg/dl\n",
        "\n",
        "**Fbs:** The person’s fasting blood sugar (> 120 mg/dl, 1 = true; 0 = false)\n",
        "restecg: resting electrocardiographic results\n",
        "\n",
        "* Value 0: showing probable or definite left ventricular hypertrophy by Estes’ criteria\n",
        "* Value 1: normal\n",
        "* Value 2: having ST-T wave abnormality (T wave inversions and/or ST elevation or depression of > 0.05 mV)\n",
        "\n",
        "**RestECG:** The person’s maximum heart rate achieved\n",
        "\n",
        "**MaxHR:** Exercise induced angina (1 = yes; 0 = no)\n",
        "\n",
        "**Oldpeak:** ST depression induced by exercise relative to rest (‘ST’ relates to positions on the ECG plot. See more here)\n",
        "\n",
        "**Slope:** the slope of the peak exercise ST segment — 0: downsloping; 1: flat; 2: upsloping\n",
        "\n",
        "* 0: downsloping;\n",
        "* 1: flat;\n",
        "* 2: upsloping\n",
        "\n",
        "**Ca:** The number of major vessels (0–3)\n",
        "\n",
        "**Thal:** A blood disorder called thalassemia Value 0: NULL (dropped from the dataset previously\n",
        "\n",
        "* Value 1: fixed defect (no blood flow in some part of the heart)\n",
        "* Value 2: normal blood flow\n",
        "* Value 3: reversible defect (a blood flow is observed but it is not normal)\n",
        "\n",
        "**Target:** Heart disease (1 = no, 0= yes)"
      ]
    },
    {
      "cell_type": "markdown",
      "metadata": {
        "id": "DmlVJlKwMaDD"
      },
      "source": [
        "# Task 1 - (4 points)\n",
        "We want to use logistic regerssion to predict if a patient will have heart problems or not. The column \"Target\" in our datasets includes data about heart disease. If the patient had heart disease, the patient's \"Target\" value equals 1. Otherwise, \"Target\" equals 0.\n",
        "\n",
        "Prepare your data set for predicting heart disease (\"Target\" column) by using 3 features:\n",
        "\n",
        "* Age of the patient (Column **\"Age\"**)\n",
        "* Gender of the patient (male or female - Column **\"Sex\"**)\n",
        "* Cholestrol level of the patient (Column **\"Chol\"**)\n",
        "\n",
        "Split your data into 80% traning data and 20% test data ***without*** using any libraries other than the ones imported above. You must do it manually.\n",
        "\n",
        "* Do a maximum of **100 iterations**\n",
        "* Use a very small learning rate for checking your GD implementation.\n",
        "* Your are allowed to use your choice of learning rate, like using 0.0001, 0.001 or 0.01 or 0.1 or higher/lower.\n",
        "* **Visualize your error/costs over the iterations with a plot**.\n",
        "* No need to add an y-intercept in this task.\n",
        "\n",
        "(**4 points** - 3 points for code, 1 point for cost visualization)"
      ]
    },
    {
      "cell_type": "code",
<<<<<<< Updated upstream
      "execution_count": 95,
=======
<<<<<<< HEAD
      "execution_count": 8,
=======
      "execution_count": 95,
>>>>>>> 40cb2594b2fdc734196ef22bc0c5612079233289
>>>>>>> Stashed changes
      "metadata": {
        "colab": {
          "base_uri": "https://localhost:8080/",
          "height": 423
        },
        "id": "1MUU-q2oMaDF",
        "outputId": "0c80a883-582f-4950-e37d-5f2d35bdd269"
      },
      "outputs": [
        {
          "data": {
            "text/html": [
              "<div>\n",
              "<style scoped>\n",
              "    .dataframe tbody tr th:only-of-type {\n",
              "        vertical-align: middle;\n",
              "    }\n",
              "\n",
              "    .dataframe tbody tr th {\n",
              "        vertical-align: top;\n",
              "    }\n",
              "\n",
              "    .dataframe thead th {\n",
              "        text-align: right;\n",
              "    }\n",
              "</style>\n",
              "<table border=\"1\" class=\"dataframe\">\n",
              "  <thead>\n",
              "    <tr style=\"text-align: right;\">\n",
              "      <th></th>\n",
              "      <th>Target</th>\n",
              "      <th>Age</th>\n",
              "      <th>Sex</th>\n",
              "      <th>Chol</th>\n",
              "    </tr>\n",
              "  </thead>\n",
              "  <tbody>\n",
              "    <tr>\n",
              "      <th>0</th>\n",
              "      <td>1</td>\n",
              "      <td>63</td>\n",
              "      <td>1</td>\n",
              "      <td>233</td>\n",
              "    </tr>\n",
              "    <tr>\n",
              "      <th>1</th>\n",
              "      <td>0</td>\n",
              "      <td>67</td>\n",
              "      <td>1</td>\n",
              "      <td>286</td>\n",
              "    </tr>\n",
              "    <tr>\n",
              "      <th>2</th>\n",
              "      <td>0</td>\n",
              "      <td>67</td>\n",
              "      <td>1</td>\n",
              "      <td>229</td>\n",
              "    </tr>\n",
              "    <tr>\n",
              "      <th>3</th>\n",
              "      <td>1</td>\n",
              "      <td>37</td>\n",
              "      <td>1</td>\n",
              "      <td>250</td>\n",
              "    </tr>\n",
              "    <tr>\n",
              "      <th>4</th>\n",
              "      <td>1</td>\n",
              "      <td>41</td>\n",
              "      <td>0</td>\n",
              "      <td>204</td>\n",
              "    </tr>\n",
              "    <tr>\n",
              "      <th>...</th>\n",
              "      <td>...</td>\n",
              "      <td>...</td>\n",
              "      <td>...</td>\n",
              "      <td>...</td>\n",
              "    </tr>\n",
              "    <tr>\n",
              "      <th>298</th>\n",
              "      <td>0</td>\n",
              "      <td>45</td>\n",
              "      <td>1</td>\n",
              "      <td>264</td>\n",
              "    </tr>\n",
              "    <tr>\n",
              "      <th>299</th>\n",
              "      <td>0</td>\n",
              "      <td>68</td>\n",
              "      <td>1</td>\n",
              "      <td>193</td>\n",
              "    </tr>\n",
              "    <tr>\n",
              "      <th>300</th>\n",
              "      <td>0</td>\n",
              "      <td>57</td>\n",
              "      <td>1</td>\n",
              "      <td>131</td>\n",
              "    </tr>\n",
              "    <tr>\n",
              "      <th>301</th>\n",
              "      <td>0</td>\n",
              "      <td>57</td>\n",
              "      <td>0</td>\n",
              "      <td>236</td>\n",
              "    </tr>\n",
              "    <tr>\n",
              "      <th>302</th>\n",
              "      <td>1</td>\n",
              "      <td>38</td>\n",
              "      <td>1</td>\n",
              "      <td>175</td>\n",
              "    </tr>\n",
              "  </tbody>\n",
              "</table>\n",
              "<p>303 rows × 4 columns</p>\n",
              "</div>"
            ],
            "text/plain": [
              "     Target  Age  Sex  Chol\n",
              "0         1   63    1   233\n",
              "1         0   67    1   286\n",
              "2         0   67    1   229\n",
              "3         1   37    1   250\n",
              "4         1   41    0   204\n",
              "..      ...  ...  ...   ...\n",
              "298       0   45    1   264\n",
              "299       0   68    1   193\n",
              "300       0   57    1   131\n",
              "301       0   57    0   236\n",
              "302       1   38    1   175\n",
              "\n",
              "[303 rows x 4 columns]"
            ]
          },
<<<<<<< Updated upstream
          "execution_count": 95,
=======
<<<<<<< HEAD
          "execution_count": 8,
=======
          "execution_count": 95,
>>>>>>> 40cb2594b2fdc734196ef22bc0c5612079233289
>>>>>>> Stashed changes
          "metadata": {},
          "output_type": "execute_result"
        }
      ],
      "source": [
        "# Add your code Here!\n",
        "df = heart_df.copy()\n",
        "df = df[['Target', 'Age', 'Sex', 'Chol']]\n",
        "df['Target'] = df['Target'].map({'No': 1, 'Yes': 0})\n",
        "df"
      ]
    },
    {
      "cell_type": "code",
<<<<<<< Updated upstream
      "execution_count": 96,
=======
<<<<<<< HEAD
      "execution_count": 9,
=======
      "execution_count": 96,
>>>>>>> 40cb2594b2fdc734196ef22bc0c5612079233289
>>>>>>> Stashed changes
      "metadata": {
        "id": "E3_60Dy4MaDJ"
      },
      "outputs": [],
      "source": [
        "def sigmoid(z):\n",
        "    g = 1 / (1 + np.exp(-z))\n",
        "    return g"
      ]
    },
    {
      "cell_type": "code",
<<<<<<< Updated upstream
      "execution_count": 97,
=======
<<<<<<< HEAD
      "execution_count": 10,
=======
      "execution_count": 97,
>>>>>>> 40cb2594b2fdc734196ef22bc0c5612079233289
>>>>>>> Stashed changes
      "metadata": {
        "id": "QQDqYXqFMaDK"
      },
      "outputs": [],
      "source": [
        "def cost_function(X, y, weights):\n",
        "    m, n = X.shape\n",
        "    x_dot_weights = X.dot(weights)\n",
        "\n",
        "    cost = (1.0 / m) * (-y.T.dot(np.log(sigmoid(x_dot_weights))) - (1 - y).T.dot(np.log(1 - sigmoid(x_dot_weights))))\n",
        "\n",
        "    return cost"
      ]
    },
    {
      "cell_type": "code",
<<<<<<< Updated upstream
      "execution_count": 98,
=======
<<<<<<< HEAD
      "execution_count": 11,
=======
      "execution_count": 98,
>>>>>>> 40cb2594b2fdc734196ef22bc0c5612079233289
>>>>>>> Stashed changes
      "metadata": {
        "id": "eXaYUSk4MaDL"
      },
      "outputs": [],
      "source": [
        "def gradient(X, y, weights):\n",
        "    m, n = X.shape\n",
        "    x_dot_weights = X.dot(weights)\n",
        "\n",
        "    grad = (1.0 / m )* (sigmoid(x_dot_weights) - y).T.dot(X)\n",
        "\n",
        "    return grad"
      ]
    },
    {
      "cell_type": "code",
<<<<<<< Updated upstream
      "execution_count": 99,
=======
<<<<<<< HEAD
      "execution_count": 12,
=======
      "execution_count": 99,
>>>>>>> 40cb2594b2fdc734196ef22bc0c5612079233289
>>>>>>> Stashed changes
      "metadata": {
        "id": "_Si4kIk4MaDH"
      },
      "outputs": [],
      "source": [
        "randomized = df.sample(frac=1).reset_index(drop=True)\n",
        "training=randomized[:int(0.8 * len(df))]\n",
        "testing = randomized[int(0.8 * len(df)):]\n",
        "training_x, training_y = training[['Age','Sex','Chol']], training['Target']\n",
        "testing_x, testing_y = testing[['Age','Sex','Chol']], testing['Target']"
      ]
    },
    {
      "cell_type": "code",
<<<<<<< Updated upstream
      "execution_count": 100,
=======
<<<<<<< HEAD
      "execution_count": 13,
=======
      "execution_count": 100,
>>>>>>> 40cb2594b2fdc734196ef22bc0c5612079233289
>>>>>>> Stashed changes
      "metadata": {
        "id": "_pMKAwalMaDL"
      },
      "outputs": [],
      "source": [
        "weights = np.zeros(3)\n",
        "num_iterations = 100\n",
        "learnin_rate = 0.00001\n",
        "\n",
        "cost_list = []\n",
        "\n",
        "for i in range(0, num_iterations):\n",
        "\n",
        "    cost = cost_function(training_x, training_y, weights)\n",
        "    #print(\"Cost is: \", cost)\n",
        "    cost_list.append(cost)\n",
        "\n",
        "    grad = gradient(training_x, training_y, weights)\n",
        "\n",
        "    weights = weights - learnin_rate * grad"
      ]
    },
    {
      "cell_type": "code",
<<<<<<< Updated upstream
      "execution_count": 101,
=======
<<<<<<< HEAD
      "execution_count": 14,
=======
      "execution_count": 101,
>>>>>>> 40cb2594b2fdc734196ef22bc0c5612079233289
>>>>>>> Stashed changes
      "metadata": {
        "colab": {
          "base_uri": "https://localhost:8080/",
          "height": 430
        },
        "id": "RzxzA3WfMaDM",
        "outputId": "023662fd-d2e5-4631-dda3-d10b72affadb"
      },
      "outputs": [
        {
          "data": {
<<<<<<< Updated upstream
            "image/png": "iVBORw0KGgoAAAANSUhEUgAAAjUAAAGdCAYAAADqsoKGAAAAOXRFWHRTb2Z0d2FyZQBNYXRwbG90bGliIHZlcnNpb24zLjguMiwgaHR0cHM6Ly9tYXRwbG90bGliLm9yZy8g+/7EAAAACXBIWXMAAA9hAAAPYQGoP6dpAAA5T0lEQVR4nO3de3jU5Z3//9fMJDM5J5xyIIaTFaEgYAOmgf7aWiNo3VZb2yLLLpTW7RZTDeb6tpCygHspYJevtqv4lYVfD/xAq5WvFlYpWRpbW7bIUSxWIbCcDxNAyExIQiaZ+fz+CPNJBgIyycx8ksnzcV1zQT5zz8w9n6slL+/7fd+3zTAMQwAAAD2c3eoOAAAARAKhBgAAxAVCDQAAiAuEGgAAEBcINQAAIC4QagAAQFwg1AAAgLhAqAEAAHEhweoOxEogENCpU6eUnp4um81mdXcAAMANMAxDdXV1GjhwoOz264/F9JpQc+rUKRUUFFjdDQAA0AnHjx/XTTfddN02vSbUpKenS2q9KRkZGRb3BgAA3Aiv16uCggLz9/j19JpQE5xyysjIINQAANDD3EjpCIXCAAAgLhBqAABAXCDUAACAuECoAQAAcYFQAwAA4gKhBgAAxAVCDQAAiAuEGgAAEBcINQAAIC4QagAAQFwg1AAAgLhAqAEAAHGBUNNFl5r9WrLxI81/Y69a/AGruwMAQK9FqOkim01a+adDemnbMTU0+63uDgAAvRahpoucDrsS7K3Hodc3tVjcGwAAei9CTRfZbDalOB2SpPomRmoAALAKoSYC0lwJkqQGHyM1AABYhVATASmXQw0jNQAAWIdQEwGp5vQTIzUAAFiFUBMBKc7LIzVMPwEAYBlCTQSkmjU1TD8BAGCVToWaF154QUOGDFFSUpKKioq0ffv267avra1VaWmp8vLy5HK5NHz4cG3cuNF8vq6uTnPmzNHgwYOVnJysiRMnaseOHSHv8cQTT2jEiBFKTU1Vnz59VFJSom3btnWm+xGX6mL6CQAAq4Udal599VWVl5dr0aJF2r17t8aOHaspU6bozJkzHbb3+Xy6++67deTIEa1bt0779+/XqlWrlJ+fb7Z5+OGHtXnzZq1Zs0Z79+7V5MmTVVJSopMnT5pthg8fruXLl2vv3r3asmWLhgwZosmTJ+vs2bOd+NqRZU4/USgMAIBlbIZhGOG8oKioSBMmTNDy5cslSYFAQAUFBXr00Uc1b968q9qvWLFCy5Yt0759+5SYmHjV842NjUpPT9f69et13333mdcLCwt177336qmnnuqwH16vV5mZmfr973+vu+666xP7HWzv8XiUkZFxo1/3hix+60Ot+vNh/fPnh6niyyMj+t4AAPRm4fz+DmukxufzadeuXSopKWl7A7tdJSUl2rp1a4ev2bBhg4qLi1VaWqqcnByNHj1aS5Yskd/fOqrR0tIiv9+vpKSkkNclJydry5Yt1+zHypUrlZmZqbFjx3bYpqmpSV6vN+QRLRQKAwBgvbBCzblz5+T3+5WTkxNyPScnR263u8PXHDp0SOvWrZPf79fGjRu1YMECPfPMM+YITHp6uoqLi/Xkk0/q1KlT8vv9Wrt2rbZu3arTp0+HvNebb76ptLQ0JSUl6ac//ak2b96s/v37d/i5S5cuVWZmpvkoKCgI56uGpa2mhuknAACsEvXVT4FAQNnZ2Vq5cqUKCws1depUzZ8/XytWrDDbrFmzRoZhKD8/Xy6XS88995ymTZsmuz20e3feeaf27Nmjv/zlL7rnnnv0rW9965q1PBUVFfJ4PObj+PHjUfuObTU1jNQAAGCVsEJN//795XA4VFNTE3K9pqZGubm5Hb4mLy9Pw4cPl8PhMK+NHDlSbrdbPp9PknTzzTfrnXfe0cWLF3X8+HFt375dzc3NGjZsWMh7paam6lOf+pQ++9nP6uc//7kSEhL085//vMPPdblcysjICHlESxpLugEAsFxYocbpdKqwsFBVVVXmtUAgoKqqKhUXF3f4mkmTJungwYMKBALmterqauXl5cnpdIa0TU1NVV5eni5cuKDKykrdf//91+1PIBBQU1NTOF8hKoIHWl5kpAYAAMuEPf1UXl6uVatWafXq1froo480e/Zs1dfXa9asWZKkGTNmqKKiwmw/e/ZsnT9/XmVlZaqurtZbb72lJUuWqLS01GxTWVmpTZs26fDhw9q8ebPuvPNOjRgxwnzP+vp6/fjHP9a7776ro0ePateuXfrOd76jkydP6pvf/GZX70GXpXKgJQAAlksI9wVTp07V2bNntXDhQrndbo0bN06bNm0yi4ePHTsWUgtTUFCgyspKPf744xozZozy8/NVVlamuXPnmm08Ho8qKip04sQJ9e3bVw8++KAWL15sLgF3OBzat2+fVq9erXPnzqlfv36aMGGC/vznP2vUqFFdvQddlsqBlgAAWC7sfWp6qmjuU3Ogpk53//RP6pOSqPcWTo7oewMA0JtFbZ8adCyFkRoAACxHqImA1MuFwj5/QL6WwCe0BgAA0UCoiYDgPjWS1MiybgAALEGoiQBngl1OR+utvMgKKAAALEGoiZCUy0clNLBXDQAAliDUREiqeagl008AAFiBUBMhqYzUAABgKUJNhASLhTkqAQAAaxBqIsQcqWH6CQAASxBqIqStpoaRGgAArECoiRDzUEt2FQYAwBKEmghJubyrMDU1AABYg1ATIeZIDdNPAABYglATIexTAwCAtQg1ERJc/VTP9BMAAJYg1ERIcJ+aegqFAQCwBKEmQtr2qWGkBgAAKxBqIoSaGgAArEWoiZAUamoAALAUoSZCgiM1HGgJAIA1CDUREtynhuknAACsQaiJkPZLug3DsLg3AAD0PoSaCAku6W4JGPL5Axb3BgCA3odQEyGpl89+kjjUEgAAKxBqIiTBYZcrofV21rNXDQAAMUeoiSCzWJiRGgAAYo5QE0Epl6egGKkBACD2CDURlOYK7lXDSA0AALFGqImg4EjNRTbgAwAg5gg1ERSsqeFQSwAAYo9QE0FtNTVMPwEAEGuEmggyR2qYfgIAIOYINREUPNSSk7oBAIg9Qk0EpbiYfgIAwCqEmghKc1IoDACAVQg1EZRyuabmIvvUAAAQc4SaCAoeakmhMAAAsUeoiaDgSA3HJAAAEHuEmghKu1wo3EChMAAAMUeoiaAUZ7CmhpEaAABijVATQcF9ajjQEgCA2CPURFCquU8NIzUAAMQaoSaC2g609MswDIt7AwBA70KoiaDggZb+gKGmloDFvQEAoHch1ERQsFBY4vwnAABijVATQQ67TcmJLOsGAMAKhJoICxYLs6wbAIDYItREWAqHWgIAYAlCTYQFi4Xr2asGAICYItREWJqLkRoAAKxAqImw4KGWFxmpAQAgpgg1EZbqDK5+YqQGAIBYItREWHBXYWpqAACILUJNhKWahcKM1AAAEEuEmggL1tRwqCUAALFFqIkws6aG6ScAAGKKUBNhqYzUAABgCUJNhKU6g4XChBoAAGKJUBNhKZfPfqrnQEsAAGKKUBNhqewoDACAJQg1EdY2/cRIDQAAsUSoibAU9qkBAMAShJoIa5t+YqQGAIBYItREWKpZKNwiwzAs7g0AAL0HoSbCgjU1hiE1NjNaAwBArBBqIiw50WH+nWJhAABih1ATYXa7zSwWZlk3AACx06lQ88ILL2jIkCFKSkpSUVGRtm/fft32tbW1Ki0tVV5enlwul4YPH66NGzeaz9fV1WnOnDkaPHiwkpOTNXHiRO3YscN8vrm5WXPnztVtt92m1NRUDRw4UDNmzNCpU6c60/2oCxYLX2QFFAAAMRN2qHn11VdVXl6uRYsWaffu3Ro7dqymTJmiM2fOdNje5/Pp7rvv1pEjR7Ru3Trt379fq1atUn5+vtnm4Ycf1ubNm7VmzRrt3btXkydPVklJiU6ePClJamho0O7du7VgwQLt3r1br7/+uvbv36+vfvWrnfza0WUeaskKKAAAYsZmhLlEp6ioSBMmTNDy5cslSYFAQAUFBXr00Uc1b968q9qvWLFCy5Yt0759+5SYmHjV842NjUpPT9f69et13333mdcLCwt177336qmnnuqwHzt27NAdd9yho0ePatCgQZ/Yb6/Xq8zMTHk8HmVkZNzo1+2UL//7n/Xhaa9+NWuCvnhrdlQ/CwCAeBbO7++wRmp8Pp927dqlkpKStjew21VSUqKtW7d2+JoNGzaouLhYpaWlysnJ0ejRo7VkyRL5/a2jGC0tLfL7/UpKSgp5XXJysrZs2XLNvng8HtlsNmVlZXX4fFNTk7xeb8gjVtLYqwYAgJgLK9ScO3dOfr9fOTk5IddzcnLkdrs7fM2hQ4e0bt06+f1+bdy4UQsWLNAzzzxjjsCkp6eruLhYTz75pE6dOiW/36+1a9dq69atOn36dIfveenSJc2dO1fTpk27ZmpbunSpMjMzzUdBQUE4X7VLgodaUlMDAEDsRH31UyAQUHZ2tlauXKnCwkJNnTpV8+fP14oVK8w2a9askWEYys/Pl8vl0nPPPadp06bJbr+6e83NzfrWt74lwzD04osvXvNzKyoq5PF4zMfx48ej8v06EtyrpoFQAwBAzCSE07h///5yOByqqakJuV5TU6Pc3NwOX5OXl6fExEQ5HG37t4wcOVJut1s+n09Op1M333yz3nnnHdXX18vr9SovL09Tp07VsGHDQt4rGGiOHj2qt99++7pzay6XSy6XK5yvFzHm+U9MPwEAEDNhjdQ4nU4VFhaqqqrKvBYIBFRVVaXi4uIOXzNp0iQdPHhQgUDAvFZdXa28vDw5nc6QtqmpqcrLy9OFCxdUWVmp+++/33wuGGgOHDig3//+9+rXr184XY+ptvOfGKkBACBWwp5+Ki8v16pVq7R69Wp99NFHmj17turr6zVr1ixJ0owZM1RRUWG2nz17ts6fP6+ysjJVV1frrbfe0pIlS1RaWmq2qays1KZNm3T48GFt3rxZd955p0aMGGG+Z3Nzs77xjW9o586deumll+T3++V2u83Rnu7GPP+JHYUBAIiZsKafJGnq1Kk6e/asFi5cKLfbrXHjxmnTpk1m8fCxY8dCamEKCgpUWVmpxx9/XGPGjFF+fr7Kyso0d+5cs43H41FFRYVOnDihvn376sEHH9TixYvNJeAnT57Uhg0bJEnjxo0L6c8f/vAHffGLXwz3a0RVcKSm7hIjNQAAxErY+9T0VLHcp+albUc1/40PdPenc7RqxviofhYAAPEsavvU4MZkJbfWCnkami3uCQAAvQehJgoyk1unzWobu1+9DwAA8YpQEwVZKZdDDSM1AADEDKEmCoIjNZ5GQg0AALFCqImC4EhNU0tAl5pZ1g0AQCwQaqIgzZUgh90miSkoAABihVATBTabjSkoAABijFATJVnBFVANrIACACAWCDVRkhlcAcVIDQAAMUGoiRJz+omaGgAAYoJQEyVZ1NQAABBThJooyUppPSqBXYUBAIgNQk2UmEclMP0EAEBMEGqipO38J0INAACxQKiJkuCuwl5CDQAAMUGoiRIOtQQAILYINVGSmUyhMAAAsUSoiRL2qQEAILYINVFi1tRcapE/YFjcGwAA4h+hJkqCIzUSxcIAAMQCoSZKEh12pbkSJLGsGwCAWCDURFEmRyUAABAzhJooattVmBVQAABEG6EmioLFwozUAAAQfYSaKGL6CQCA2CHURBG7CgMAEDuEmigydxUm1AAAEHWEmigyR2o4KgEAgKgj1ERRsKaGzfcAAIg+Qk0UZSVTUwMAQKwQaqIo05x+ItQAABBthJooyqJQGACAmCHURFFwpMbb2CzD4KRuAACiiVATRcGaGp8/oMZmv8W9AQAgvhFqoijF6VCiwyaJKSgAAKKNUBNFNpvN3ICPoxIAAIguQk2UZSYnSGKkBgCAaCPURFlWSnCkhl2FAQCIJkJNlLEBHwAAsUGoibLgsm5qagAAiC5CTZQFz39iV2EAAKKLUBNl7CoMAEBsEGqiLMucfqJQGACAaCLURFkWNTUAAMQEoSbKMlj9BABATBBqoowl3QAAxAahJsqCm+95mX4CACCqCDVRFhypqWtqUbM/YHFvAACIX4SaKAvW1EiM1gAAEE2Emihz2G1KT7p8qCWhBgCAqCHUxADLugEAiD5CTQwEj0rwsAIKAICoIdTEgHlUArsKAwAQNYSaGAie1M1eNQAARA+hJgaCy7qpqQEAIHoINTGQya7CAABEHaEmBlj9BABA9BFqYiBYKEyoAQAgegg1MdBWKMzqJwAAooVQEwNmTQ0jNQAARA2hJgbMmhoKhQEAiBpCTQy0r6kxDMPi3gAAEJ8INTEQHKlpCRiq9/kt7g0AAPGJUBMDSYkOORNabzXFwgAARAehJkb6prROQZ2vJ9QAABANhJoYyc5wSZLOeJss7gkAAPGJUBMj2elJkqSauksW9wQAgPjUqVDzwgsvaMiQIUpKSlJRUZG2b99+3fa1tbUqLS1VXl6eXC6Xhg8fro0bN5rP19XVac6cORo8eLCSk5M1ceJE7dixI+Q9Xn/9dU2ePFn9+vWTzWbTnj17OtN1yzBSAwBAdIUdal599VWVl5dr0aJF2r17t8aOHaspU6bozJkzHbb3+Xy6++67deTIEa1bt0779+/XqlWrlJ+fb7Z5+OGHtXnzZq1Zs0Z79+7V5MmTVVJSopMnT5pt6uvr9bnPfU4/+clPOvE1rZdzeaTmDCM1AABEhc0Ic+OUoqIiTZgwQcuXL5ckBQIBFRQU6NFHH9W8efOuar9ixQotW7ZM+/btU2Ji4lXPNzY2Kj09XevXr9d9991nXi8sLNS9996rp556KqT9kSNHNHToUL333nsaN27cDffb6/UqMzNTHo9HGRkZN/y6SHll+zHNe32vvjQiW7/49oSYfz4AAD1ROL+/wxqp8fl82rVrl0pKStrewG5XSUmJtm7d2uFrNmzYoOLiYpWWlionJ0ejR4/WkiVL5Pe37tfS0tIiv9+vpKSkkNclJydry5Yt4XQvRFNTk7xeb8jDSub0EyM1AABERVih5ty5c/L7/crJyQm5npOTI7fb3eFrDh06pHXr1snv92vjxo1asGCBnnnmGXMEJj09XcXFxXryySd16tQp+f1+rV27Vlu3btXp06c7+bWkpUuXKjMz03wUFBR0+r0iwSwUpqYGAICoiPrqp0AgoOzsbK1cuVKFhYWaOnWq5s+frxUrVpht1qxZI8MwlJ+fL5fLpeeee07Tpk2T3d757lVUVMjj8ZiP48ePR+LrdFpwpObji01q8Qcs7QsAAPEoIZzG/fv3l8PhUE1NTcj1mpoa5ebmdviavLw8JSYmyuFwmNdGjhwpt9stn88np9Opm2++We+8847q6+vl9XqVl5enqVOnatiwYZ34Sq1cLpdcLlenXx9p/VJdctht8gcMfVzvU05G0ie/CAAA3LCwhkKcTqcKCwtVVVVlXgsEAqqqqlJxcXGHr5k0aZIOHjyoQKBtdKK6ulp5eXlyOp0hbVNTU5WXl6cLFy6osrJS999/fzjd69YcdpsGpLWGrBovdTUAAERa2PM75eXlWrVqlVavXq2PPvpIs2fPVn19vWbNmiVJmjFjhioqKsz2s2fP1vnz51VWVqbq6mq99dZbWrJkiUpLS802lZWV2rRpkw4fPqzNmzfrzjvv1IgRI8z3lKTz589rz549+vDDDyVJ+/fv1549e65Zy9MdsVcNAADRE9b0kyRNnTpVZ8+e1cKFC+V2uzVu3Dht2rTJLB4+duxYSC1MQUGBKisr9fjjj2vMmDHKz89XWVmZ5s6da7bxeDyqqKjQiRMn1LdvXz344INavHhxyBLwDRs2hISchx56SJK0aNEiPfHEE2F/cSu0Fgt72FUYAIAoCHufmp7K6n1qJOnHb+zVy9uOqeyuW/T43cMt6QMAAD1J1PapQdewqzAAANFDqImhHGpqAACIGkJNDAULhampAQAg8gg1McSuwgAARA+hJobYVRgAgOgh1MRQcFfhgCF9XO+zujsAAMQVQk0Mtd9VmGJhAAAii1ATY2axMEclAAAQUYSaGDOLhVkBBQBARBFqYozznwAAiA5CTYyxqzAAANFBqIkxRmoAAIgOQk2M5bCrMAAAUUGoiTF2FQYAIDoINTHGrsIAAEQHoSbG2FUYAIDoINTEmMNuU/80pySKhQEAiCRCjQVyMoJ1NRQLAwAQKYQaC7CrMAAAkUeosQB71QAAEHmEGguwqzAAAJFHqLEAIzUAAEQeocYC7CoMAEDkEWosECwUZqQGAIDIIdRYIDj9dI5dhQEAiBhCjQXYVRgAgMgj1FiAXYUBAIg8Qo1F2FUYAIDIItRYxCwWrmOkBgCASCDUWCRYLMxIDQAAkUGosQi7CgMAEFmEGou0jdQw/QQAQCQQaixS0CdFknT043qLewIAQHwg1FhkcL/WUHP8fKP8AcPi3gAA0PMRaiwyMCtZToddPn9Ap2obre4OAAA9HqHGIg67TYMuj9YcYQoKAIAuI9RYaEi/VEnSkXOEGgAAuopQY6Gh/VtHag6fa7C4JwAA9HyEGgsN6X95pIbpJwAAuoxQY6GhTD8BABAxhBoLBUdqjp1vUIs/YHFvAADo2Qg1FsrNSJIrwa6WgKGTLOsGAKBLCDUWsttt5iZ8h5mCAgCgSwg1FmNZNwAAkUGosdhQcwUUy7oBAOgKQo3FWNYNAEBkEGosxvQTAACRQaixWHD66fiFRjWzrBsAgE4j1FgsJ8Ol5ESH/AFDJy6wrBsAgM4i1FjMZmtb1s0UFAAAnUeo6QaCU1DsVQMAQOcRarqBwf1YAQUAQFcRarqBof0vTz+xVw0AAJ1GqOkGWNYNAEDXEWq6gWBNzYkLDfK1sKwbAIDOINR0AwPSXUp1OhQwpOMXmIICAKAzCDXdQOuybqagAADoCkJNN8GybgAAuoZQ000MMVdAEWoAAOgMQk030Tb9RE0NAACdQajpJph+AgCgawg13URwr5pTnkY1tfgt7g0AAD0Poaab6J/mVJorQYYhHT/PFBQAAOEi1HQTNptNwwa0jtZU11y0uDcAAPQ8hJpuZNTATEnSX094LO4JAAA9D6GmGxl7UzDU1FrbEQAAeiBCTTcy5qYsSdLeEx4FAoa1nQEAoIfpVKh54YUXNGTIECUlJamoqEjbt2+/bvva2lqVlpYqLy9PLpdLw4cP18aNG83n6+rqNGfOHA0ePFjJycmaOHGiduzYEfIehmFo4cKFysvLU3JyskpKSnTgwIHOdL/bGp6TpqREu+qaWnSYTfgAAAhL2KHm1VdfVXl5uRYtWqTdu3dr7NixmjJlis6cOdNhe5/Pp7vvvltHjhzRunXrtH//fq1atUr5+flmm4cfflibN2/WmjVrtHfvXk2ePFklJSU6efKk2ebf/u3f9Nxzz2nFihXatm2bUlNTNWXKFF26dKkTX7t7SnDYNfpyXc37x2ut7QwAAD2NEaY77rjDKC0tNX/2+/3GwIEDjaVLl3bY/sUXXzSGDRtm+Hy+Dp9vaGgwHA6H8eabb4Zc/8xnPmPMnz/fMAzDCAQCRm5urrFs2TLz+draWsPlchm//vWvb6jfHo/HkGR4PJ4bam+Vf93wN2Pw3DeNRes/sLorAABYLpzf32GN1Ph8Pu3atUslJSXmNbvdrpKSEm3durXD12zYsEHFxcUqLS1VTk6ORo8erSVLlsjvb91grqWlRX6/X0lJSSGvS05O1pYtWyRJhw8fltvtDvnczMxMFRUVXfNzm5qa5PV6Qx49wdiCyyM1FAsDABCWsELNuXPn5Pf7lZOTE3I9JydHbre7w9ccOnRI69atk9/v18aNG7VgwQI988wzeuqppyRJ6enpKi4u1pNPPqlTp07J7/dr7dq12rp1q06fPi1J5nuH87lLly5VZmam+SgoKAjnq1omWCz84Smvmv0BazsDAEAPEvXVT4FAQNnZ2Vq5cqUKCws1depUzZ8/XytWrDDbrFmzRoZhKD8/Xy6XS88995ymTZsmu73z3auoqJDH4zEfx48fj8TXiboh/VKUkZSgppaA9rvrrO4OAAA9RlipoX///nI4HKqpqQm5XlNTo9zc3A5fk5eXp+HDh8vhcJjXRo4cKbfbLZ/PJ0m6+eab9c477+jixYs6fvy4tm/frubmZg0bNkySzPcO53NdLpcyMjJCHj2BzWYzR2vYhA8AgBsXVqhxOp0qLCxUVVWVeS0QCKiqqkrFxcUdvmbSpEk6ePCgAoG2qZTq6mrl5eXJ6XSGtE1NTVVeXp4uXLigyspK3X///ZKkoUOHKjc3N+RzvV6vtm3bds3P7cnGsAkfAABhC3t+p7y8XKtWrdLq1av10Ucfafbs2aqvr9esWbMkSTNmzFBFRYXZfvbs2Tp//rzKyspUXV2tt956S0uWLFFpaanZprKyUps2bdLhw4e1efNm3XnnnRoxYoT5njabTXPmzNFTTz2lDRs2aO/evZoxY4YGDhyoBx54oIu3oPsJjtS8z0gNAAA3LCHcF0ydOlVnz57VwoUL5Xa7NW7cOG3atMks4j127FhILUxBQYEqKyv1+OOPa8yYMcrPz1dZWZnmzp1rtvF4PKqoqNCJEyfUt29fPfjgg1q8eLESExPNNj/60Y9UX1+v733ve6qtrdXnPvc5bdq06apVU/EguAKquqZOjT6/kp2OT3gFAACwGYbRK/bj93q9yszMlMfj6fb1NYZh6I4lVTpb16T/O7tYhYP7Wt0lAAAsEc7vb85+6oZsNpt5uOX7x5mCAgDgRhBquqmx5gqoWkv7AQBAT0Go6abGFGRJolgYAIAbRajppsbkt04/HT5XL09js8W9AQCg+yPUdFN9Up0a1DdFkrSX0RoAAD4RoaYbC27Cx+GWAAB8MkJNN0axMAAAN45Q042NG5QlSdpx5IL8gV6xnRAAAJ1GqOnGxhVkKT0pQefrfUxBAQDwCQg13Viiw64v3potSar6qOYTWgMA0LsRarq5u0YEQ80Zi3sCAED3Rqjp5r4wfIDsNmmfu04naxut7g4AAN0Woaab65PqVOHgPpKkt/cxWgMAwLUQanqAL43IkURdDQAA10Oo6QFKRrbW1fzlfz5Wg6/F4t4AANA9EWp6gE9lp6mgb7J8LQH998GPre4OAADdEqGmB7DZbLrr8hTU2/uYggIAoCOEmh7iS+2WdgfYXRgAgKsQanqIomF9lep06Exdk/52ymt1dwAA6HYINT2EK8Gh/+eWAZKkKqagAAC4CqGmB/nSSHYXBgDgWgg1Pcidl8+B2nvSoxrvJYt7AwBA90Ko6UEGpLs0tiBLkvS7vaet7QwAAN0MoaaH+dq4gZKkNe8eZRUUAADtEGp6mAcLb1KaK0H/c7ZeWw6es7o7AAB0G4SaHiY9KVHfKLxJkrT6L0es7QwAAN0IoaYHmlE8WJL09v4zOvZxg8W9AQCgeyDU9EDDBqTp88MHyDCk/2/rEau7AwBAt0Co6aG+PbF1tOY3O49zcjcAACLU9FhfHJ6twf1S5L3UojfeO2l1dwAAsByhpoey2236x8+2jtas/ssRGQbLuwEAvRuhpgf75vgCJSc6VF1zUVsPfWx1dwAAsBShpgfLTE7U1z+TL0n61X8fsbYzAABYjFDTw3174hBJ0n99WKOdR85b2xkAACxEqOnhbslJ10MTCiRJ//LbD9TiD1jcIwAArEGoiQM/umeEslIStc9dp1+xyzAAoJci1MSBvqlOzbtnhCTpp5ur5fZcsrhHAADEHqEmTnxrfIFuH5Slep9fT731odXdAQAg5gg1ccJut+mpB0bLbpPe/OtpbTnACd4AgN6FUBNHRg3M1IziIZKkhes/UFOL39oOAQAQQ4SaOFM+ebgGpLt06Fy9nv7dPqu7AwBAzBBq4kxGUqKevH+0JOmX/32EU7wBAL0GoSYO3TM6Vz+ccqsk6YkNf1PVRzUW9wgAgOgj1MSpR754s741/iYFDOnRX7+nD056rO4SAABRRaiJUzabTYu/dpsmfaqfGnx+fXf1Dp32NFrdLQAAooZQE8cSHXb9n+mFuiU7TTXeJs38xXadrCXYAADiE6EmzmUmJ+qXsyZoQLpL1TUXdf/yLdp1lIMvAQDxh1DTC9zUJ0VvPDJRI/MydO6iT9NWbtNrO49b3S0AACKKUNNL3NQnReu+X6wpo3Lk8wf0w3V/1VNvfih/wLC6awAARAShphdJdSXoxemFeuyuWyRJ/++Ww3rghf/W7mMXLO4ZAABdR6jpZex2m8rvHq7lf3+70l0J2nvSo6//n7/oh6+9r7N1TVZ3DwCATiPU9FJ/N2ag3v5fX9Q3Cm+SJL2264S+9L//qFV/OqSLTS0W9w4AgPDZDMPoFUUVXq9XmZmZ8ng8ysjIsLo73cruYxf0xIa/6a8nWjfoS3cl6JvjCzSjeLCG9E+1uHcAgN4snN/fhBpIkgIBQ+t2ndCKd/5Hh87VS5JsNunOW7P1zcKb9IVbByjFmWBxLwEAvQ2hpgOEmhsTCBj688Fz+uV/H9Yf9581r7sS7Pr88AG6Z1Su7hqZrawUp4W9BAD0FoSaDhBqwnfo7EX9evsxbfqbW8fPt+1EbLdJI/MyNGFIXxUN7asJQ/uqf5rLwp4CAOIVoaYDhJrOMwxDH52u06a/uVX5gVv7a+quanNTn2R9Oi9Dnx6YoU/nZWhkXobys5Jlt9ss6DEAIF4QajpAqImcM95L2n7kvLYfbn3sc18dcqTWKauh/VM1tH+qhg1I1eC+qbqpT7Ly+yQrLzNZzgQW3wEAro9Q0wFCTfR4Gpr14Wlv6+NU658Hz9Sp2X/t/2nZbFJOepJyM5OUm3H5z8wk5WS4NCAtSQPSXRqQ7lJWciKjPQDQi4Xz+5vlLOiyzJREFd/cT8U39zOvtfgDOlnbqEPn6nXobL0On7uo4+cbdeJCg05caFRTS0Bu7yW5vZeu+94Jdpv6pjrVN9Wp/mku8+/9Up3qc/nvfVKc6pOaqL4pTmWlOBkBAoBeilCDqEhw2DW4X6oG90vVnbeGPmcYhs5d9OlkbaPcnkuquRxuajyXdKauSWfrmnT2YpPO1/vUEjB0pq5JZ+qaJHU8zXWlVKdDWSlOZaUkqk+KU5kpieqTkqis5NZrmcmtj2Cb4M9JiY7I3wgAQMwQahBzNpvNnF5SwbXbNfsDOnexSR9f9Onjep8+vhx0zl30qbbBp/P1lx8NPtU2NKu2waeAIdX7/Kr3NepkbeO137wDrgT75bDTFnQyktv+fq1HBoEIALoFQg26rUSHXXmZrUXFNyIQMOS91KwLDc260OCTp6FZtY0+XahvDTyexmbVNja3/tnQds3T2KyAITW1BNqNCoUnGIjah6CMpISQ4JNhXr/c5nJ4SnU6ZLNRNwQAXUWoQdyw222Xp5ScGqobP94hEDB00dciT0OzGXI6fHTwvPdSs4wuBiKH3WYGoIz2ISip/WhQghmIrgxOCQ5qiABAItQAstttrWEhKfF6s2EdujIQeS81y9thKGoxr7dv0+w35A8Yl0eXmjvV/1SnI2Q0KBiG2geh0MDUNoKUnMgoEYD4QagBuqArgcgwDF1qDphBx9MYGoi8jS0hI0LB54Nt6n1+ScEaIr9Oea6/kqwjiQ6bOfqT0W7K7MqpsozkhKvCUXpSghIZJQLQjXQq1LzwwgtatmyZ3G63xo4dq+eff1533HHHNdvX1tZq/vz5ev3113X+/HkNHjxYP/vZz/TlL39ZkuT3+/XEE09o7dq1crvdGjhwoL797W/rX/7lX8z/iqypqdHcuXP1X//1X6qtrdXnP/95Pf/887rllls68xUAy9lsNiU7HUp2OpSbmRT261v8AXkvtQafukvXDkLtw1CwvbexWS0BQ81+o7UIu97Xqe+Q6nSEBKCMa4wQtQ9LwfbUEgGItLBDzauvvqry8nKtWLFCRUVF+tnPfqYpU6Zo//79ys7Ovqq9z+fT3XffrezsbK1bt075+fk6evSosrKyzDY/+clP9OKLL2r16tUaNWqUdu7cqVmzZikzM1OPPfaYDMPQAw88oMTERK1fv14ZGRl69tlnVVJSog8//FCpqTdePwHEiwSH3dy3J1yGYajB5788FdYSGn6uCEhXjhJ5L7XoYlOLpLZRotOdGCWy29ThiFBoQOp49CgjOUGuBFacAQgV9o7CRUVFmjBhgpYvXy5JCgQCKigo0KOPPqp58+Zd1X7FihVatmyZ9u3bp8TExA7f8+/+7u+Uk5Ojn//85+a1Bx98UMnJyVq7dq2qq6t166236oMPPtCoUaPMz83NzdWSJUv08MMPf2K/2VEYiJwWf0B1l1quG4A87UaGPI3Nqmv3/PV2m75RSYn2kMLpkNGgK6bNrgxE6UmJcrBTNdAjRG1HYZ/Pp127dqmiosK8ZrfbVVJSoq1bt3b4mg0bNqi4uFilpaVav369BgwYoL//+7/X3Llz5XC0/pfWxIkTtXLlSlVXV2v48OF6//33tWXLFj377LOSpKam1hUlSUltQ/R2u10ul0tbtmy5oVADIHISHHb1ubyrc7gMw1Bjs781FF1VM9TxtfY/X2xqkWFIl5oDutTcuRVnkpTuSuhwNCgYfEJGjJISlJnS9jNTZ0D3FFaoOXfunPx+v3JyckKu5+TkaN++fR2+5tChQ3r77bc1ffp0bdy4UQcPHtQjjzyi5uZmLVq0SJI0b948eb1ejRgxQg6HQ36/X4sXL9b06dMlSSNGjNCgQYNUUVGh//iP/1Bqaqp++tOf6sSJEzp9+nSHn9vU1GSGIak16QGwns1mU4ozQSnOBOVkhF9L5A8YutjUctVUmffKqbJ2oalt1VmLGptbC6zrmlpU19QS9iaNUtsy/GutNmsfljoaOWKzRiA6or76KRAIKDs7WytXrpTD4VBhYaFOnjypZcuWmaHmN7/5jV566SW9/PLLGjVqlPbs2aM5c+Zo4MCBmjlzphITE/X666/ru9/9rvr27SuHw6GSkhLde++9utbs2dKlS/Wv//qv0f56AGLMYbeZS9I7w9cSMJfVty+cbi247qCO6HI4CrZpCXR9Gb4zuFnjNUJP+xGjK6fYMpITWXUGXENYoaZ///5yOByqqakJuV5TU6Pc3NwOX5OXl6fExERzqkmSRo4cKbfbLZ/PJ6fTqR/+8IeaN2+eHnroIUnSbbfdpqNHj2rp0qWaOXOmJKmwsFB79uyRx+ORz+fTgAEDVFRUpPHjx3f4uRUVFSovLzd/9nq9KigId9EtgHjjTLCrf5pL/dNcYb82OHXmbWwJ2W8oOAp01c/tVqAFa5AMozVYnb18zllnJCc6rlEzlNBhIGofmqgnQjwLK9Q4nU4VFhaqqqpKDzzwgKTWkZiqqir94Ac/6PA1kyZN0ssvv6xAICC7vfW/Lqqrq5WXlyens3U+vqGhwXwuyOFwKBAIXPV+mZmZkqQDBw5o586devLJJzv8XJfLJZcr/H+0AOBa2k+ddWYZfvvNGkMLrUODT0ejRO1XnTU2+9XY7Je7k7Pqaa4Ec6+ha48UJVxdY5ScqDRnguyEInRTYU8/lZeXa+bMmRo/frzuuOMO/exnP1N9fb1mzZolSZoxY4by8/O1dOlSSdLs2bO1fPlylZWV6dFHH9WBAwe0ZMkSPfbYY+Z7fuUrX9HixYs1aNAgjRo1Su+9956effZZfec73zHbvPbaaxowYIAGDRqkvXv3qqysTA888IAmT57c1XsAADHRfrPGzmjxBy7XE7WFn/Z7FHUYiC61BaaGyxs2XmxqC0jhstnaFVl3MCJ05UaNZji6/Pc0VwJF1oiasEPN1KlTdfbsWS1cuFBut1vjxo3Tpk2bzOLhY8eOhYy6FBQUqLKyUo8//rjGjBmj/Px8lZWVae7cuWab559/XgsWLNAjjzyiM2fOaODAgfrnf/5nLVy40Gxz+vRplZeXq6amRnl5eZoxY4YWLFjQle8OAD1KgsNunm/WGb6WgBmCgqNC7fcpqrvUHHKt9ee2uqOmloAMQ62B6VKLpPCLrO02Kb19GLpeEGq3oSMrz3Ajwt6npqdinxoA6JpLwaX4lzourr4yDHmvGDXy+a8uKQhXcNPGjGsEI0JR/InaPjUAgN4rKdGhpESHBqR3rl7xUrO/w5VnZvBpV2AdvHblpo0BQ6ptaFZtJ1eeOey21loiQlFcItQAAGIiGIqy08Mvsg4eABucIvO025uoff1QaD1R65917UKRP2B0KRRdOVKU7rr+Uvz2NUXpSQkUWkcZoQYA0O21PwA2uxObNhqGoaaWQMgRHmYIuurnFjMsRXqk6MpC6/RrLsPv4HpSotKSEliSfx2EGgBA3LPZbG0jRV0MRR2NFNXdYE1RVwutpbZQdNU02nX2Kgq2TU9KUEIcb95IqAEA4BN0NRRJbYXWVwaf0NVoodNm7ds0tbQWWgeP+OisVKfjilAUGoY6Gj0KXktPSpArofse80GoAQAgBrpaaN3U0nYQrLddOKrrIBx1dC24T1G9z696n1+nPZ37Hq4E+3VD0Y+m3GpZ3RChBgCAHsCV4JArzdGpIz4kqdkf0EUzDLUfGWoOCUtXFmAHnwuODjVd55gPZ4Jd8+4d0aXv2RWEGgAAeoFEh119Up3qk9q5zRv9AePyjtZt+xLVXbH6zB+wdus7Qg0AAPhEDrtNmZcPT+2u4rcEGgAA9CqEGgAAEBcINQAAIC4QagAAQFwg1AAAgLhAqAEAAHGBUAMAAOICoQYAAMQFQg0AAIgLhBoAABAXCDUAACAuEGoAAEBcINQAAIC40GtO6TaM1uPQvV6vxT0BAAA3Kvh7O/h7/Hp6Taipq6uTJBUUFFjcEwAAEK66ujplZmZet43NuJHoEwcCgYBOnTql9PR02Wy2iL631+tVQUGBjh8/royMjIi+N0Jxr2OHex073OvY4V7HTqTutWEYqqur08CBA2W3X79qpteM1Njtdt10001R/YyMjAz+TxIj3OvY4V7HDvc6drjXsROJe/1JIzRBFAoDAIC4QKgBAABxgVATAS6XS4sWLZLL5bK6K3GPex073OvY4V7HDvc6dqy4172mUBgAAMQ3RmoAAEBcINQAAIC4QKgBAABxgVADAADiAqEmAl544QUNGTJESUlJKioq0vbt263uUo+2dOlSTZgwQenp6crOztYDDzyg/fv3h7S5dOmSSktL1a9fP6WlpenBBx9UTU2NRT2OH08//bRsNpvmzJljXuNeR87Jkyf1D//wD+rXr5+Sk5N12223aefOnebzhmFo4cKFysvLU3JyskpKSnTgwAELe9xz+f1+LViwQEOHDlVycrJuvvlmPfnkkyHnB3G/O+dPf/qTvvKVr2jgwIGy2Wz67W9/G/L8jdzX8+fPa/r06crIyFBWVpa++93v6uLFi13vnIEueeWVVwyn02n84he/MP72t78Z//RP/2RkZWUZNTU1Vnetx5oyZYrxy1/+0vjggw+MPXv2GF/+8peNQYMGGRcvXjTbfP/73zcKCgqMqqoqY+fOncZnP/tZY+LEiRb2uufbvn27MWTIEGPMmDFGWVmZeZ17HRnnz583Bg8ebHz72982tm3bZhw6dMiorKw0Dh48aLZ5+umnjczMTOO3v/2t8f777xtf/epXjaFDhxqNjY0W9rxnWrx4sdGvXz/jzTffNA4fPmy89tprRlpamvHv//7vZhvud+ds3LjRmD9/vvH6668bkow33ngj5Pkbua/33HOPMXbsWOPdd981/vznPxuf+tSnjGnTpnW5b4SaLrrjjjuM0tJS82e/328MHDjQWLp0qYW9ii9nzpwxJBnvvPOOYRiGUVtbayQmJhqvvfaa2eajjz4yJBlbt261qps9Wl1dnXHLLbcYmzdvNr7whS+YoYZ7HTlz5841Pve5z13z+UAgYOTm5hrLli0zr9XW1houl8v49a9/HYsuxpX77rvP+M53vhNy7etf/7oxffp0wzC435FyZai5kfv64YcfGpKMHTt2mG1+97vfGTabzTh58mSX+sP0Uxf4fD7t2rVLJSUl5jW73a6SkhJt3brVwp7FF4/HI0nq27evJGnXrl1qbm4Oue8jRozQoEGDuO+dVFpaqvvuuy/knkrc60jasGGDxo8fr29+85vKzs7W7bffrlWrVpnPHz58WG63O+ReZ2ZmqqioiHvdCRMnTlRVVZWqq6slSe+//762bNmie++9VxL3O1pu5L5u3bpVWVlZGj9+vNmmpKREdrtd27Zt69Ln95oDLaPh3Llz8vv9ysnJCbmek5Ojffv2WdSr+BIIBDRnzhxNmjRJo0ePliS53W45nU5lZWWFtM3JyZHb7baglz3bK6+8ot27d2vHjh1XPce9jpxDhw7pxRdfVHl5uX784x9rx44deuyxx+R0OjVz5kzzfnb07wn3Onzz5s2T1+vViBEj5HA45Pf7tXjxYk2fPl2SuN9RciP31e12Kzs7O+T5hIQE9e3bt8v3nlCDbq20tFQffPCBtmzZYnVX4tLx48dVVlamzZs3KykpyeruxLVAIKDx48dryZIlkqTbb79dH3zwgVasWKGZM2da3Lv485vf/EYvvfSSXn75ZY0aNUp79uzRnDlzNHDgQO53HGP6qQv69+8vh8Nx1UqQmpoa5ebmWtSr+PGDH/xAb775pv7whz/opptuMq/n5ubK5/OptrY2pD33PXy7du3SmTNn9JnPfEYJCQlKSEjQO++8o+eee04JCQnKycnhXkdIXl6ePv3pT4dcGzlypI4dOyZJ5v3k35PI+OEPf6h58+bpoYce0m233aZ//Md/1OOPP66lS5dK4n5Hy43c19zcXJ05cybk+ZaWFp0/f77L955Q0wVOp1OFhYWqqqoyrwUCAVVVVam4uNjCnvVshmHoBz/4gd544w29/fbbGjp0aMjzhYWFSkxMDLnv+/fv17Fjx7jvYbrrrru0d+9e7dmzx3yMHz9e06dPN//OvY6MSZMmXbU1QXV1tQYPHixJGjp0qHJzc0Putdfr1bZt27jXndDQ0CC7PfRXnMPhUCAQkMT9jpYbua/FxcWqra3Vrl27zDZvv/22AoGAioqKutaBLpUZw3jllVcMl8tl/OpXvzI+/PBD43vf+56RlZVluN1uq7vWY82ePdvIzMw0/vjHPxqnT582Hw0NDWab73//+8agQYOMt99+29i5c6dRXFxsFBcXW9jr+NF+9ZNhcK8jZfv27UZCQoKxePFi48CBA8ZLL71kpKSkGGvXrjXbPP3000ZWVpaxfv16469//atx//33s8S4k2bOnGnk5+ebS7pff/11o3///saPfvQjsw33u3Pq6uqM9957z3jvvfcMScazzz5rvPfee8bRo0cNw7ix+3rPPfcYt99+u7Ft2zZjy5Ytxi233MKS7u7i+eefNwYNGmQ4nU7jjjvuMN59912ru9SjSerw8ctf/tJs09jYaDzyyCNGnz59jJSUFONrX/uacfr0aes6HUeuDDXc68j5z//8T2P06NGGy+UyRowYYaxcuTLk+UAgYCxYsMDIyckxXC6Xcddddxn79++3qLc9m9frNcrKyoxBgwYZSUlJxrBhw4z58+cbTU1NZhvud+f84Q9/6PDf6JkzZxqGcWP39eOPPzamTZtmpKWlGRkZGcasWbOMurq6LvfNZhjttlcEAADooaipAQAAcYFQAwAA4gKhBgAAxAVCDQAAiAuEGgAAEBcINQAAIC4QagAAQFwg1AAAgLhAqAEAAHGBUAMAAOICoQYAAMQFQg0AAIgL/z86Q5kEAmbO0QAAAABJRU5ErkJggg==",
=======
<<<<<<< HEAD
            "image/png": "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",
=======
            "image/png": "iVBORw0KGgoAAAANSUhEUgAAAjUAAAGdCAYAAADqsoKGAAAAOXRFWHRTb2Z0d2FyZQBNYXRwbG90bGliIHZlcnNpb24zLjguMiwgaHR0cHM6Ly9tYXRwbG90bGliLm9yZy8g+/7EAAAACXBIWXMAAA9hAAAPYQGoP6dpAAA5T0lEQVR4nO3de3jU5Z3//9fMJDM5J5xyIIaTFaEgYAOmgf7aWiNo3VZb2yLLLpTW7RZTDeb6tpCygHspYJevtqv4lYVfD/xAq5WvFlYpWRpbW7bIUSxWIbCcDxNAyExIQiaZ+fz+CPNJBgIyycx8ksnzcV1zQT5zz8w9n6slL+/7fd+3zTAMQwAAAD2c3eoOAAAARAKhBgAAxAVCDQAAiAuEGgAAEBcINQAAIC4QagAAQFwg1AAAgLhAqAEAAHEhweoOxEogENCpU6eUnp4um81mdXcAAMANMAxDdXV1GjhwoOz264/F9JpQc+rUKRUUFFjdDQAA0AnHjx/XTTfddN02vSbUpKenS2q9KRkZGRb3BgAA3Aiv16uCggLz9/j19JpQE5xyysjIINQAANDD3EjpCIXCAAAgLhBqAABAXCDUAACAuECoAQAAcYFQAwAA4gKhBgAAxAVCDQAAiAuEGgAAEBcINQAAIC4QagAAQFwg1AAAgLhAqAEAAHGBUNNFl5r9WrLxI81/Y69a/AGruwMAQK9FqOkim01a+adDemnbMTU0+63uDgAAvRahpoucDrsS7K3Hodc3tVjcGwAAei9CTRfZbDalOB2SpPomRmoAALAKoSYC0lwJkqQGHyM1AABYhVATASmXQw0jNQAAWIdQEwGp5vQTIzUAAFiFUBMBKc7LIzVMPwEAYBlCTQSkmjU1TD8BAGCVToWaF154QUOGDFFSUpKKioq0ffv267avra1VaWmp8vLy5HK5NHz4cG3cuNF8vq6uTnPmzNHgwYOVnJysiRMnaseOHSHv8cQTT2jEiBFKTU1Vnz59VFJSom3btnWm+xGX6mL6CQAAq4Udal599VWVl5dr0aJF2r17t8aOHaspU6bozJkzHbb3+Xy6++67deTIEa1bt0779+/XqlWrlJ+fb7Z5+OGHtXnzZq1Zs0Z79+7V5MmTVVJSopMnT5pthg8fruXLl2vv3r3asmWLhgwZosmTJ+vs2bOd+NqRZU4/USgMAIBlbIZhGOG8oKioSBMmTNDy5cslSYFAQAUFBXr00Uc1b968q9qvWLFCy5Yt0759+5SYmHjV842NjUpPT9f69et13333mdcLCwt177336qmnnuqwH16vV5mZmfr973+vu+666xP7HWzv8XiUkZFxo1/3hix+60Ot+vNh/fPnh6niyyMj+t4AAPRm4fz+DmukxufzadeuXSopKWl7A7tdJSUl2rp1a4ev2bBhg4qLi1VaWqqcnByNHj1aS5Yskd/fOqrR0tIiv9+vpKSkkNclJydry5Yt1+zHypUrlZmZqbFjx3bYpqmpSV6vN+QRLRQKAwBgvbBCzblz5+T3+5WTkxNyPScnR263u8PXHDp0SOvWrZPf79fGjRu1YMECPfPMM+YITHp6uoqLi/Xkk0/q1KlT8vv9Wrt2rbZu3arTp0+HvNebb76ptLQ0JSUl6ac//ak2b96s/v37d/i5S5cuVWZmpvkoKCgI56uGpa2mhuknAACsEvXVT4FAQNnZ2Vq5cqUKCws1depUzZ8/XytWrDDbrFmzRoZhKD8/Xy6XS88995ymTZsmuz20e3feeaf27Nmjv/zlL7rnnnv0rW9965q1PBUVFfJ4PObj+PHjUfuObTU1jNQAAGCVsEJN//795XA4VFNTE3K9pqZGubm5Hb4mLy9Pw4cPl8PhMK+NHDlSbrdbPp9PknTzzTfrnXfe0cWLF3X8+HFt375dzc3NGjZsWMh7paam6lOf+pQ++9nP6uc//7kSEhL085//vMPPdblcysjICHlESxpLugEAsFxYocbpdKqwsFBVVVXmtUAgoKqqKhUXF3f4mkmTJungwYMKBALmterqauXl5cnpdIa0TU1NVV5eni5cuKDKykrdf//91+1PIBBQU1NTOF8hKoIHWl5kpAYAAMuEPf1UXl6uVatWafXq1froo480e/Zs1dfXa9asWZKkGTNmqKKiwmw/e/ZsnT9/XmVlZaqurtZbb72lJUuWqLS01GxTWVmpTZs26fDhw9q8ebPuvPNOjRgxwnzP+vp6/fjHP9a7776ro0ePateuXfrOd76jkydP6pvf/GZX70GXpXKgJQAAlksI9wVTp07V2bNntXDhQrndbo0bN06bNm0yi4ePHTsWUgtTUFCgyspKPf744xozZozy8/NVVlamuXPnmm08Ho8qKip04sQJ9e3bVw8++KAWL15sLgF3OBzat2+fVq9erXPnzqlfv36aMGGC/vznP2vUqFFdvQddlsqBlgAAWC7sfWp6qmjuU3Ogpk53//RP6pOSqPcWTo7oewMA0JtFbZ8adCyFkRoAACxHqImA1MuFwj5/QL6WwCe0BgAA0UCoiYDgPjWS1MiybgAALEGoiQBngl1OR+utvMgKKAAALEGoiZCUy0clNLBXDQAAliDUREiqeagl008AAFiBUBMhqYzUAABgKUJNhASLhTkqAQAAaxBqIsQcqWH6CQAASxBqIqStpoaRGgAArECoiRDzUEt2FQYAwBKEmghJubyrMDU1AABYg1ATIeZIDdNPAABYglATIexTAwCAtQg1ERJc/VTP9BMAAJYg1ERIcJ+aegqFAQCwBKEmQtr2qWGkBgAAKxBqIoSaGgAArEWoiZAUamoAALAUoSZCgiM1HGgJAIA1CDUREtynhuknAACsQaiJkPZLug3DsLg3AAD0PoSaCAku6W4JGPL5Axb3BgCA3odQEyGpl89+kjjUEgAAKxBqIiTBYZcrofV21rNXDQAAMUeoiSCzWJiRGgAAYo5QE0Epl6egGKkBACD2CDURlOYK7lXDSA0AALFGqImg4EjNRTbgAwAg5gg1ERSsqeFQSwAAYo9QE0FtNTVMPwEAEGuEmggyR2qYfgIAIOYINREUPNSSk7oBAIg9Qk0EpbiYfgIAwCqEmghKc1IoDACAVQg1EZRyuabmIvvUAAAQc4SaCAoeakmhMAAAsUeoiaDgSA3HJAAAEHuEmghKu1wo3EChMAAAMUeoiaAUZ7CmhpEaAABijVATQcF9ajjQEgCA2CPURFCquU8NIzUAAMQaoSaC2g609MswDIt7AwBA70KoiaDggZb+gKGmloDFvQEAoHch1ERQsFBY4vwnAABijVATQQ67TcmJLOsGAMAKhJoICxYLs6wbAIDYItREWAqHWgIAYAlCTYQFi4Xr2asGAICYItREWJqLkRoAAKxAqImw4KGWFxmpAQAgpgg1EZbqDK5+YqQGAIBYItREWHBXYWpqAACILUJNhKWahcKM1AAAEEuEmggL1tRwqCUAALFFqIkws6aG6ScAAGKKUBNhqYzUAABgCUJNhKU6g4XChBoAAGKJUBNhKZfPfqrnQEsAAGKKUBNhqewoDACAJQg1EdY2/cRIDQAAsUSoibAU9qkBAMAShJoIa5t+YqQGAIBYItREWKpZKNwiwzAs7g0AAL0HoSbCgjU1hiE1NjNaAwBArBBqIiw50WH+nWJhAABih1ATYXa7zSwWZlk3AACx06lQ88ILL2jIkCFKSkpSUVGRtm/fft32tbW1Ki0tVV5enlwul4YPH66NGzeaz9fV1WnOnDkaPHiwkpOTNXHiRO3YscN8vrm5WXPnztVtt92m1NRUDRw4UDNmzNCpU6c60/2oCxYLX2QFFAAAMRN2qHn11VdVXl6uRYsWaffu3Ro7dqymTJmiM2fOdNje5/Pp7rvv1pEjR7Ru3Trt379fq1atUn5+vtnm4Ycf1ubNm7VmzRrt3btXkydPVklJiU6ePClJamho0O7du7VgwQLt3r1br7/+uvbv36+vfvWrnfza0WUeaskKKAAAYsZmhLlEp6ioSBMmTNDy5cslSYFAQAUFBXr00Uc1b968q9qvWLFCy5Yt0759+5SYmHjV842NjUpPT9f69et13333mdcLCwt177336qmnnuqwHzt27NAdd9yho0ePatCgQZ/Yb6/Xq8zMTHk8HmVkZNzo1+2UL//7n/Xhaa9+NWuCvnhrdlQ/CwCAeBbO7++wRmp8Pp927dqlkpKStjew21VSUqKtW7d2+JoNGzaouLhYpaWlysnJ0ejRo7VkyRL5/a2jGC0tLfL7/UpKSgp5XXJysrZs2XLNvng8HtlsNmVlZXX4fFNTk7xeb8gjVtLYqwYAgJgLK9ScO3dOfr9fOTk5IddzcnLkdrs7fM2hQ4e0bt06+f1+bdy4UQsWLNAzzzxjjsCkp6eruLhYTz75pE6dOiW/36+1a9dq69atOn36dIfveenSJc2dO1fTpk27ZmpbunSpMjMzzUdBQUE4X7VLgodaUlMDAEDsRH31UyAQUHZ2tlauXKnCwkJNnTpV8+fP14oVK8w2a9askWEYys/Pl8vl0nPPPadp06bJbr+6e83NzfrWt74lwzD04osvXvNzKyoq5PF4zMfx48ej8v06EtyrpoFQAwBAzCSE07h///5yOByqqakJuV5TU6Pc3NwOX5OXl6fExEQ5HG37t4wcOVJut1s+n09Op1M333yz3nnnHdXX18vr9SovL09Tp07VsGHDQt4rGGiOHj2qt99++7pzay6XSy6XK5yvFzHm+U9MPwEAEDNhjdQ4nU4VFhaqqqrKvBYIBFRVVaXi4uIOXzNp0iQdPHhQgUDAvFZdXa28vDw5nc6QtqmpqcrLy9OFCxdUWVmp+++/33wuGGgOHDig3//+9+rXr184XY+ptvOfGKkBACBWwp5+Ki8v16pVq7R69Wp99NFHmj17turr6zVr1ixJ0owZM1RRUWG2nz17ts6fP6+ysjJVV1frrbfe0pIlS1RaWmq2qays1KZNm3T48GFt3rxZd955p0aMGGG+Z3Nzs77xjW9o586deumll+T3++V2u83Rnu7GPP+JHYUBAIiZsKafJGnq1Kk6e/asFi5cKLfbrXHjxmnTpk1m8fCxY8dCamEKCgpUWVmpxx9/XGPGjFF+fr7Kyso0d+5cs43H41FFRYVOnDihvn376sEHH9TixYvNJeAnT57Uhg0bJEnjxo0L6c8f/vAHffGLXwz3a0RVcKSm7hIjNQAAxErY+9T0VLHcp+albUc1/40PdPenc7RqxviofhYAAPEsavvU4MZkJbfWCnkami3uCQAAvQehJgoyk1unzWobu1+9DwAA8YpQEwVZKZdDDSM1AADEDKEmCoIjNZ5GQg0AALFCqImC4EhNU0tAl5pZ1g0AQCwQaqIgzZUgh90miSkoAABihVATBTabjSkoAABijFATJVnBFVANrIACACAWCDVRkhlcAcVIDQAAMUGoiRJz+omaGgAAYoJQEyVZ1NQAABBThJooyUppPSqBXYUBAIgNQk2UmEclMP0EAEBMEGqipO38J0INAACxQKiJkuCuwl5CDQAAMUGoiRIOtQQAILYINVGSmUyhMAAAsUSoiRL2qQEAILYINVFi1tRcapE/YFjcGwAA4h+hJkqCIzUSxcIAAMQCoSZKEh12pbkSJLGsGwCAWCDURFEmRyUAABAzhJooattVmBVQAABEG6EmioLFwozUAAAQfYSaKGL6CQCA2CHURBG7CgMAEDuEmigydxUm1AAAEHWEmigyR2o4KgEAgKgj1ERRsKaGzfcAAIg+Qk0UZSVTUwMAQKwQaqIo05x+ItQAABBthJooyqJQGACAmCHURFFwpMbb2CzD4KRuAACiiVATRcGaGp8/oMZmv8W9AQAgvhFqoijF6VCiwyaJKSgAAKKNUBNFNpvN3ICPoxIAAIguQk2UZSYnSGKkBgCAaCPURFlWSnCkhl2FAQCIJkJNlLEBHwAAsUGoibLgsm5qagAAiC5CTZQFz39iV2EAAKKLUBNl7CoMAEBsEGqiLMucfqJQGACAaCLURFkWNTUAAMQEoSbKMlj9BABATBBqoowl3QAAxAahJsqCm+95mX4CACCqCDVRFhypqWtqUbM/YHFvAACIX4SaKAvW1EiM1gAAEE2Emihz2G1KT7p8qCWhBgCAqCHUxADLugEAiD5CTQwEj0rwsAIKAICoIdTEgHlUArsKAwAQNYSaGAie1M1eNQAARA+hJgaCy7qpqQEAIHoINTGQya7CAABEHaEmBlj9BABA9BFqYiBYKEyoAQAgegg1MdBWKMzqJwAAooVQEwNmTQ0jNQAARA2hJgbMmhoKhQEAiBpCTQy0r6kxDMPi3gAAEJ8INTEQHKlpCRiq9/kt7g0AAPGJUBMDSYkOORNabzXFwgAARAehJkb6prROQZ2vJ9QAABANhJoYyc5wSZLOeJss7gkAAPGJUBMj2elJkqSauksW9wQAgPjUqVDzwgsvaMiQIUpKSlJRUZG2b99+3fa1tbUqLS1VXl6eXC6Xhg8fro0bN5rP19XVac6cORo8eLCSk5M1ceJE7dixI+Q9Xn/9dU2ePFn9+vWTzWbTnj17OtN1yzBSAwBAdIUdal599VWVl5dr0aJF2r17t8aOHaspU6bozJkzHbb3+Xy6++67deTIEa1bt0779+/XqlWrlJ+fb7Z5+OGHtXnzZq1Zs0Z79+7V5MmTVVJSopMnT5pt6uvr9bnPfU4/+clPOvE1rZdzeaTmDCM1AABEhc0Ic+OUoqIiTZgwQcuXL5ckBQIBFRQU6NFHH9W8efOuar9ixQotW7ZM+/btU2Ji4lXPNzY2Kj09XevXr9d9991nXi8sLNS9996rp556KqT9kSNHNHToUL333nsaN27cDffb6/UqMzNTHo9HGRkZN/y6SHll+zHNe32vvjQiW7/49oSYfz4AAD1ROL+/wxqp8fl82rVrl0pKStrewG5XSUmJtm7d2uFrNmzYoOLiYpWWlionJ0ejR4/WkiVL5Pe37tfS0tIiv9+vpKSkkNclJydry5Yt4XQvRFNTk7xeb8jDSub0EyM1AABERVih5ty5c/L7/crJyQm5npOTI7fb3eFrDh06pHXr1snv92vjxo1asGCBnnnmGXMEJj09XcXFxXryySd16tQp+f1+rV27Vlu3btXp06c7+bWkpUuXKjMz03wUFBR0+r0iwSwUpqYGAICoiPrqp0AgoOzsbK1cuVKFhYWaOnWq5s+frxUrVpht1qxZI8MwlJ+fL5fLpeeee07Tpk2T3d757lVUVMjj8ZiP48ePR+LrdFpwpObji01q8Qcs7QsAAPEoIZzG/fv3l8PhUE1NTcj1mpoa5ebmdviavLw8JSYmyuFwmNdGjhwpt9stn88np9Opm2++We+8847q6+vl9XqVl5enqVOnatiwYZ34Sq1cLpdcLlenXx9p/VJdctht8gcMfVzvU05G0ie/CAAA3LCwhkKcTqcKCwtVVVVlXgsEAqqqqlJxcXGHr5k0aZIOHjyoQKBtdKK6ulp5eXlyOp0hbVNTU5WXl6cLFy6osrJS999/fzjd69YcdpsGpLWGrBovdTUAAERa2PM75eXlWrVqlVavXq2PPvpIs2fPVn19vWbNmiVJmjFjhioqKsz2s2fP1vnz51VWVqbq6mq99dZbWrJkiUpLS802lZWV2rRpkw4fPqzNmzfrzjvv1IgRI8z3lKTz589rz549+vDDDyVJ+/fv1549e65Zy9MdsVcNAADRE9b0kyRNnTpVZ8+e1cKFC+V2uzVu3Dht2rTJLB4+duxYSC1MQUGBKisr9fjjj2vMmDHKz89XWVmZ5s6da7bxeDyqqKjQiRMn1LdvXz344INavHhxyBLwDRs2hISchx56SJK0aNEiPfHEE2F/cSu0Fgt72FUYAIAoCHufmp7K6n1qJOnHb+zVy9uOqeyuW/T43cMt6QMAAD1J1PapQdewqzAAANFDqImhHGpqAACIGkJNDAULhampAQAg8gg1McSuwgAARA+hJobYVRgAgOgh1MRQcFfhgCF9XO+zujsAAMQVQk0Mtd9VmGJhAAAii1ATY2axMEclAAAQUYSaGDOLhVkBBQBARBFqYozznwAAiA5CTYyxqzAAANFBqIkxRmoAAIgOQk2M5bCrMAAAUUGoiTF2FQYAIDoINTHGrsIAAEQHoSbG2FUYAIDoINTEmMNuU/80pySKhQEAiCRCjQVyMoJ1NRQLAwAQKYQaC7CrMAAAkUeosQB71QAAEHmEGguwqzAAAJFHqLEAIzUAAEQeocYC7CoMAEDkEWosECwUZqQGAIDIIdRYIDj9dI5dhQEAiBhCjQXYVRgAgMgj1FiAXYUBAIg8Qo1F2FUYAIDIItRYxCwWrmOkBgCASCDUWCRYLMxIDQAAkUGosQi7CgMAEFmEGou0jdQw/QQAQCQQaixS0CdFknT043qLewIAQHwg1FhkcL/WUHP8fKP8AcPi3gAA0PMRaiwyMCtZToddPn9Ap2obre4OAAA9HqHGIg67TYMuj9YcYQoKAIAuI9RYaEi/VEnSkXOEGgAAuopQY6Gh/VtHag6fa7C4JwAA9HyEGgsN6X95pIbpJwAAuoxQY6GhTD8BABAxhBoLBUdqjp1vUIs/YHFvAADo2Qg1FsrNSJIrwa6WgKGTLOsGAKBLCDUWsttt5iZ8h5mCAgCgSwg1FmNZNwAAkUGosdhQcwUUy7oBAOgKQo3FWNYNAEBkEGosxvQTAACRQaixWHD66fiFRjWzrBsAgE4j1FgsJ8Ol5ESH/AFDJy6wrBsAgM4i1FjMZmtb1s0UFAAAnUeo6QaCU1DsVQMAQOcRarqBwf1YAQUAQFcRarqBof0vTz+xVw0AAJ1GqOkGWNYNAEDXEWq6gWBNzYkLDfK1sKwbAIDOINR0AwPSXUp1OhQwpOMXmIICAKAzCDXdQOuybqagAADoCkJNN8GybgAAuoZQ000MMVdAEWoAAOgMQk030Tb9RE0NAACdQajpJph+AgCgawg13URwr5pTnkY1tfgt7g0AAD0Poaab6J/mVJorQYYhHT/PFBQAAOEi1HQTNptNwwa0jtZU11y0uDcAAPQ8hJpuZNTATEnSX094LO4JAAA9D6GmGxl7UzDU1FrbEQAAeiBCTTcy5qYsSdLeEx4FAoa1nQEAoIfpVKh54YUXNGTIECUlJamoqEjbt2+/bvva2lqVlpYqLy9PLpdLw4cP18aNG83n6+rqNGfOHA0ePFjJycmaOHGiduzYEfIehmFo4cKFysvLU3JyskpKSnTgwIHOdL/bGp6TpqREu+qaWnSYTfgAAAhL2KHm1VdfVXl5uRYtWqTdu3dr7NixmjJlis6cOdNhe5/Pp7vvvltHjhzRunXrtH//fq1atUr5+flmm4cfflibN2/WmjVrtHfvXk2ePFklJSU6efKk2ebf/u3f9Nxzz2nFihXatm2bUlNTNWXKFF26dKkTX7t7SnDYNfpyXc37x2ut7QwAAD2NEaY77rjDKC0tNX/2+/3GwIEDjaVLl3bY/sUXXzSGDRtm+Hy+Dp9vaGgwHA6H8eabb4Zc/8xnPmPMnz/fMAzDCAQCRm5urrFs2TLz+draWsPlchm//vWvb6jfHo/HkGR4PJ4bam+Vf93wN2Pw3DeNRes/sLorAABYLpzf32GN1Ph8Pu3atUslJSXmNbvdrpKSEm3durXD12zYsEHFxcUqLS1VTk6ORo8erSVLlsjvb91grqWlRX6/X0lJSSGvS05O1pYtWyRJhw8fltvtDvnczMxMFRUVXfNzm5qa5PV6Qx49wdiCyyM1FAsDABCWsELNuXPn5Pf7lZOTE3I9JydHbre7w9ccOnRI69atk9/v18aNG7VgwQI988wzeuqppyRJ6enpKi4u1pNPPqlTp07J7/dr7dq12rp1q06fPi1J5nuH87lLly5VZmam+SgoKAjnq1omWCz84Smvmv0BazsDAEAPEvXVT4FAQNnZ2Vq5cqUKCws1depUzZ8/XytWrDDbrFmzRoZhKD8/Xy6XS88995ymTZsmu73z3auoqJDH4zEfx48fj8TXiboh/VKUkZSgppaA9rvrrO4OAAA9RlipoX///nI4HKqpqQm5XlNTo9zc3A5fk5eXp+HDh8vhcJjXRo4cKbfbLZ/PJ0m6+eab9c477+jixYs6fvy4tm/frubmZg0bNkySzPcO53NdLpcyMjJCHj2BzWYzR2vYhA8AgBsXVqhxOp0qLCxUVVWVeS0QCKiqqkrFxcUdvmbSpEk6ePCgAoG2qZTq6mrl5eXJ6XSGtE1NTVVeXp4uXLigyspK3X///ZKkoUOHKjc3N+RzvV6vtm3bds3P7cnGsAkfAABhC3t+p7y8XKtWrdLq1av10Ucfafbs2aqvr9esWbMkSTNmzFBFRYXZfvbs2Tp//rzKyspUXV2tt956S0uWLFFpaanZprKyUps2bdLhw4e1efNm3XnnnRoxYoT5njabTXPmzNFTTz2lDRs2aO/evZoxY4YGDhyoBx54oIu3oPsJjtS8z0gNAAA3LCHcF0ydOlVnz57VwoUL5Xa7NW7cOG3atMks4j127FhILUxBQYEqKyv1+OOPa8yYMcrPz1dZWZnmzp1rtvF4PKqoqNCJEyfUt29fPfjgg1q8eLESExPNNj/60Y9UX1+v733ve6qtrdXnPvc5bdq06apVU/EguAKquqZOjT6/kp2OT3gFAACwGYbRK/bj93q9yszMlMfj6fb1NYZh6I4lVTpb16T/O7tYhYP7Wt0lAAAsEc7vb85+6oZsNpt5uOX7x5mCAgDgRhBquqmx5gqoWkv7AQBAT0Go6abGFGRJolgYAIAbRajppsbkt04/HT5XL09js8W9AQCg+yPUdFN9Up0a1DdFkrSX0RoAAD4RoaYbC27Cx+GWAAB8MkJNN0axMAAAN45Q042NG5QlSdpx5IL8gV6xnRAAAJ1GqOnGxhVkKT0pQefrfUxBAQDwCQg13Viiw64v3potSar6qOYTWgMA0LsRarq5u0YEQ80Zi3sCAED3Rqjp5r4wfIDsNmmfu04naxut7g4AAN0Woaab65PqVOHgPpKkt/cxWgMAwLUQanqAL43IkURdDQAA10Oo6QFKRrbW1fzlfz5Wg6/F4t4AANA9EWp6gE9lp6mgb7J8LQH998GPre4OAADdEqGmB7DZbLrr8hTU2/uYggIAoCOEmh7iS+2WdgfYXRgAgKsQanqIomF9lep06Exdk/52ymt1dwAA6HYINT2EK8Gh/+eWAZKkKqagAAC4CqGmB/nSSHYXBgDgWgg1Pcidl8+B2nvSoxrvJYt7AwBA90Ko6UEGpLs0tiBLkvS7vaet7QwAAN0MoaaH+dq4gZKkNe8eZRUUAADtEGp6mAcLb1KaK0H/c7ZeWw6es7o7AAB0G4SaHiY9KVHfKLxJkrT6L0es7QwAAN0IoaYHmlE8WJL09v4zOvZxg8W9AQCgeyDU9EDDBqTp88MHyDCk/2/rEau7AwBAt0Co6aG+PbF1tOY3O49zcjcAACLU9FhfHJ6twf1S5L3UojfeO2l1dwAAsByhpoey2236x8+2jtas/ssRGQbLuwEAvRuhpgf75vgCJSc6VF1zUVsPfWx1dwAAsBShpgfLTE7U1z+TL0n61X8fsbYzAABYjFDTw3174hBJ0n99WKOdR85b2xkAACxEqOnhbslJ10MTCiRJ//LbD9TiD1jcIwAArEGoiQM/umeEslIStc9dp1+xyzAAoJci1MSBvqlOzbtnhCTpp5ur5fZcsrhHAADEHqEmTnxrfIFuH5Slep9fT731odXdAQAg5gg1ccJut+mpB0bLbpPe/OtpbTnACd4AgN6FUBNHRg3M1IziIZKkhes/UFOL39oOAQAQQ4SaOFM+ebgGpLt06Fy9nv7dPqu7AwBAzBBq4kxGUqKevH+0JOmX/32EU7wBAL0GoSYO3TM6Vz+ccqsk6YkNf1PVRzUW9wgAgOgj1MSpR754s741/iYFDOnRX7+nD056rO4SAABRRaiJUzabTYu/dpsmfaqfGnx+fXf1Dp32NFrdLQAAooZQE8cSHXb9n+mFuiU7TTXeJs38xXadrCXYAADiE6EmzmUmJ+qXsyZoQLpL1TUXdf/yLdp1lIMvAQDxh1DTC9zUJ0VvPDJRI/MydO6iT9NWbtNrO49b3S0AACKKUNNL3NQnReu+X6wpo3Lk8wf0w3V/1VNvfih/wLC6awAARAShphdJdSXoxemFeuyuWyRJ/++Ww3rghf/W7mMXLO4ZAABdR6jpZex2m8rvHq7lf3+70l0J2nvSo6//n7/oh6+9r7N1TVZ3DwCATiPU9FJ/N2ag3v5fX9Q3Cm+SJL2264S+9L//qFV/OqSLTS0W9w4AgPDZDMPoFUUVXq9XmZmZ8ng8ysjIsLo73cruYxf0xIa/6a8nWjfoS3cl6JvjCzSjeLCG9E+1uHcAgN4snN/fhBpIkgIBQ+t2ndCKd/5Hh87VS5JsNunOW7P1zcKb9IVbByjFmWBxLwEAvQ2hpgOEmhsTCBj688Fz+uV/H9Yf9581r7sS7Pr88AG6Z1Su7hqZrawUp4W9BAD0FoSaDhBqwnfo7EX9evsxbfqbW8fPt+1EbLdJI/MyNGFIXxUN7asJQ/uqf5rLwp4CAOIVoaYDhJrOMwxDH52u06a/uVX5gVv7a+quanNTn2R9Oi9Dnx6YoU/nZWhkXobys5Jlt9ss6DEAIF4QajpAqImcM95L2n7kvLYfbn3sc18dcqTWKauh/VM1tH+qhg1I1eC+qbqpT7Ly+yQrLzNZzgQW3wEAro9Q0wFCTfR4Gpr14Wlv6+NU658Hz9Sp2X/t/2nZbFJOepJyM5OUm3H5z8wk5WS4NCAtSQPSXRqQ7lJWciKjPQDQi4Xz+5vlLOiyzJREFd/cT8U39zOvtfgDOlnbqEPn6nXobL0On7uo4+cbdeJCg05caFRTS0Bu7yW5vZeu+94Jdpv6pjrVN9Wp/mku8+/9Up3qc/nvfVKc6pOaqL4pTmWlOBkBAoBeilCDqEhw2DW4X6oG90vVnbeGPmcYhs5d9OlkbaPcnkuquRxuajyXdKauSWfrmnT2YpPO1/vUEjB0pq5JZ+qaJHU8zXWlVKdDWSlOZaUkqk+KU5kpieqTkqis5NZrmcmtj2Cb4M9JiY7I3wgAQMwQahBzNpvNnF5SwbXbNfsDOnexSR9f9Onjep8+vhx0zl30qbbBp/P1lx8NPtU2NKu2waeAIdX7/Kr3NepkbeO137wDrgT75bDTFnQyktv+fq1HBoEIALoFQg26rUSHXXmZrUXFNyIQMOS91KwLDc260OCTp6FZtY0+XahvDTyexmbVNja3/tnQds3T2KyAITW1BNqNCoUnGIjah6CMpISQ4JNhXr/c5nJ4SnU6ZLNRNwQAXUWoQdyw222Xp5ScGqobP94hEDB00dciT0OzGXI6fHTwvPdSs4wuBiKH3WYGoIz2ISip/WhQghmIrgxOCQ5qiABAItQAstttrWEhKfF6s2EdujIQeS81y9thKGoxr7dv0+w35A8Yl0eXmjvV/1SnI2Q0KBiG2geh0MDUNoKUnMgoEYD4QagBuqArgcgwDF1qDphBx9MYGoi8jS0hI0LB54Nt6n1+ScEaIr9Oea6/kqwjiQ6bOfqT0W7K7MqpsozkhKvCUXpSghIZJQLQjXQq1LzwwgtatmyZ3G63xo4dq+eff1533HHHNdvX1tZq/vz5ev3113X+/HkNHjxYP/vZz/TlL39ZkuT3+/XEE09o7dq1crvdGjhwoL797W/rX/7lX8z/iqypqdHcuXP1X//1X6qtrdXnP/95Pf/887rllls68xUAy9lsNiU7HUp2OpSbmRT261v8AXkvtQafukvXDkLtw1CwvbexWS0BQ81+o7UIu97Xqe+Q6nSEBKCMa4wQtQ9LwfbUEgGItLBDzauvvqry8nKtWLFCRUVF+tnPfqYpU6Zo//79ys7Ovqq9z+fT3XffrezsbK1bt075+fk6evSosrKyzDY/+clP9OKLL2r16tUaNWqUdu7cqVmzZikzM1OPPfaYDMPQAw88oMTERK1fv14ZGRl69tlnVVJSog8//FCpqTdePwHEiwSH3dy3J1yGYajB5788FdYSGn6uCEhXjhJ5L7XoYlOLpLZRotOdGCWy29ThiFBoQOp49CgjOUGuBFacAQgV9o7CRUVFmjBhgpYvXy5JCgQCKigo0KOPPqp58+Zd1X7FihVatmyZ9u3bp8TExA7f8+/+7u+Uk5Ojn//85+a1Bx98UMnJyVq7dq2qq6t166236oMPPtCoUaPMz83NzdWSJUv08MMPf2K/2VEYiJwWf0B1l1quG4A87UaGPI3Nqmv3/PV2m75RSYn2kMLpkNGgK6bNrgxE6UmJcrBTNdAjRG1HYZ/Pp127dqmiosK8ZrfbVVJSoq1bt3b4mg0bNqi4uFilpaVav369BgwYoL//+7/X3Llz5XC0/pfWxIkTtXLlSlVXV2v48OF6//33tWXLFj377LOSpKam1hUlSUltQ/R2u10ul0tbtmy5oVADIHISHHb1ubyrc7gMw1Bjs781FF1VM9TxtfY/X2xqkWFIl5oDutTcuRVnkpTuSuhwNCgYfEJGjJISlJnS9jNTZ0D3FFaoOXfunPx+v3JyckKu5+TkaN++fR2+5tChQ3r77bc1ffp0bdy4UQcPHtQjjzyi5uZmLVq0SJI0b948eb1ejRgxQg6HQ36/X4sXL9b06dMlSSNGjNCgQYNUUVGh//iP/1Bqaqp++tOf6sSJEzp9+nSHn9vU1GSGIak16QGwns1mU4ozQSnOBOVkhF9L5A8YutjUctVUmffKqbJ2oalt1VmLGptbC6zrmlpU19QS9iaNUtsy/GutNmsfljoaOWKzRiA6or76KRAIKDs7WytXrpTD4VBhYaFOnjypZcuWmaHmN7/5jV566SW9/PLLGjVqlPbs2aM5c+Zo4MCBmjlzphITE/X666/ru9/9rvr27SuHw6GSkhLde++9utbs2dKlS/Wv//qv0f56AGLMYbeZS9I7w9cSMJfVty+cbi247qCO6HI4CrZpCXR9Gb4zuFnjNUJP+xGjK6fYMpITWXUGXENYoaZ///5yOByqqakJuV5TU6Pc3NwOX5OXl6fExERzqkmSRo4cKbfbLZ/PJ6fTqR/+8IeaN2+eHnroIUnSbbfdpqNHj2rp0qWaOXOmJKmwsFB79uyRx+ORz+fTgAEDVFRUpPHjx3f4uRUVFSovLzd/9nq9KigId9EtgHjjTLCrf5pL/dNcYb82OHXmbWwJ2W8oOAp01c/tVqAFa5AMozVYnb18zllnJCc6rlEzlNBhIGofmqgnQjwLK9Q4nU4VFhaqqqpKDzzwgKTWkZiqqir94Ac/6PA1kyZN0ssvv6xAICC7vfW/Lqqrq5WXlyens3U+vqGhwXwuyOFwKBAIXPV+mZmZkqQDBw5o586devLJJzv8XJfLJZcr/H+0AOBa2k+ddWYZfvvNGkMLrUODT0ejRO1XnTU2+9XY7Je7k7Pqaa4Ec6+ha48UJVxdY5ScqDRnguyEInRTYU8/lZeXa+bMmRo/frzuuOMO/exnP1N9fb1mzZolSZoxY4by8/O1dOlSSdLs2bO1fPlylZWV6dFHH9WBAwe0ZMkSPfbYY+Z7fuUrX9HixYs1aNAgjRo1Su+9956effZZfec73zHbvPbaaxowYIAGDRqkvXv3qqysTA888IAmT57c1XsAADHRfrPGzmjxBy7XE7WFn/Z7FHUYiC61BaaGyxs2XmxqC0jhstnaFVl3MCJ05UaNZji6/Pc0VwJF1oiasEPN1KlTdfbsWS1cuFBut1vjxo3Tpk2bzOLhY8eOhYy6FBQUqLKyUo8//rjGjBmj/Px8lZWVae7cuWab559/XgsWLNAjjzyiM2fOaODAgfrnf/5nLVy40Gxz+vRplZeXq6amRnl5eZoxY4YWLFjQle8OAD1KgsNunm/WGb6WgBmCgqNC7fcpqrvUHHKt9ee2uqOmloAMQ62B6VKLpPCLrO02Kb19GLpeEGq3oSMrz3Ajwt6npqdinxoA6JpLwaX4lzourr4yDHmvGDXy+a8uKQhXcNPGjGsEI0JR/InaPjUAgN4rKdGhpESHBqR3rl7xUrO/w5VnZvBpV2AdvHblpo0BQ6ptaFZtJ1eeOey21loiQlFcItQAAGIiGIqy08Mvsg4eABucIvO025uoff1QaD1R65917UKRP2B0KRRdOVKU7rr+Uvz2NUXpSQkUWkcZoQYA0O21PwA2uxObNhqGoaaWQMgRHmYIuurnFjMsRXqk6MpC6/RrLsPv4HpSotKSEliSfx2EGgBA3LPZbG0jRV0MRR2NFNXdYE1RVwutpbZQdNU02nX2Kgq2TU9KUEIcb95IqAEA4BN0NRRJbYXWVwaf0NVoodNm7ds0tbQWWgeP+OisVKfjilAUGoY6Gj0KXktPSpArofse80GoAQAgBrpaaN3U0nYQrLddOKrrIBx1dC24T1G9z696n1+nPZ37Hq4E+3VD0Y+m3GpZ3RChBgCAHsCV4JArzdGpIz4kqdkf0EUzDLUfGWoOCUtXFmAHnwuODjVd55gPZ4Jd8+4d0aXv2RWEGgAAeoFEh119Up3qk9q5zRv9AePyjtZt+xLVXbH6zB+wdus7Qg0AAPhEDrtNmZcPT+2u4rcEGgAA9CqEGgAAEBcINQAAIC4QagAAQFwg1AAAgLhAqAEAAHGBUAMAAOICoQYAAMQFQg0AAIgLhBoAABAXCDUAACAuEGoAAEBcINQAAIC40GtO6TaM1uPQvV6vxT0BAAA3Kvh7O/h7/Hp6Taipq6uTJBUUFFjcEwAAEK66ujplZmZet43NuJHoEwcCgYBOnTql9PR02Wy2iL631+tVQUGBjh8/royMjIi+N0Jxr2OHex073OvY4V7HTqTutWEYqqur08CBA2W3X79qpteM1Njtdt10001R/YyMjAz+TxIj3OvY4V7HDvc6drjXsROJe/1JIzRBFAoDAIC4QKgBAABxgVATAS6XS4sWLZLL5bK6K3GPex073OvY4V7HDvc6dqy4172mUBgAAMQ3RmoAAEBcINQAAIC4QKgBAABxgVADAADiAqEmAl544QUNGTJESUlJKioq0vbt263uUo+2dOlSTZgwQenp6crOztYDDzyg/fv3h7S5dOmSSktL1a9fP6WlpenBBx9UTU2NRT2OH08//bRsNpvmzJljXuNeR87Jkyf1D//wD+rXr5+Sk5N12223aefOnebzhmFo4cKFysvLU3JyskpKSnTgwAELe9xz+f1+LViwQEOHDlVycrJuvvlmPfnkkyHnB3G/O+dPf/qTvvKVr2jgwIGy2Wz67W9/G/L8jdzX8+fPa/r06crIyFBWVpa++93v6uLFi13vnIEueeWVVwyn02n84he/MP72t78Z//RP/2RkZWUZNTU1Vnetx5oyZYrxy1/+0vjggw+MPXv2GF/+8peNQYMGGRcvXjTbfP/73zcKCgqMqqoqY+fOncZnP/tZY+LEiRb2uufbvn27MWTIEGPMmDFGWVmZeZ17HRnnz583Bg8ebHz72982tm3bZhw6dMiorKw0Dh48aLZ5+umnjczMTOO3v/2t8f777xtf/epXjaFDhxqNjY0W9rxnWrx4sdGvXz/jzTffNA4fPmy89tprRlpamvHv//7vZhvud+ds3LjRmD9/vvH6668bkow33ngj5Pkbua/33HOPMXbsWOPdd981/vznPxuf+tSnjGnTpnW5b4SaLrrjjjuM0tJS82e/328MHDjQWLp0qYW9ii9nzpwxJBnvvPOOYRiGUVtbayQmJhqvvfaa2eajjz4yJBlbt261qps9Wl1dnXHLLbcYmzdvNr7whS+YoYZ7HTlz5841Pve5z13z+UAgYOTm5hrLli0zr9XW1houl8v49a9/HYsuxpX77rvP+M53vhNy7etf/7oxffp0wzC435FyZai5kfv64YcfGpKMHTt2mG1+97vfGTabzTh58mSX+sP0Uxf4fD7t2rVLJSUl5jW73a6SkhJt3brVwp7FF4/HI0nq27evJGnXrl1qbm4Oue8jRozQoEGDuO+dVFpaqvvuuy/knkrc60jasGGDxo8fr29+85vKzs7W7bffrlWrVpnPHz58WG63O+ReZ2ZmqqioiHvdCRMnTlRVVZWqq6slSe+//762bNmie++9VxL3O1pu5L5u3bpVWVlZGj9+vNmmpKREdrtd27Zt69Ln95oDLaPh3Llz8vv9ysnJCbmek5Ojffv2WdSr+BIIBDRnzhxNmjRJo0ePliS53W45nU5lZWWFtM3JyZHb7baglz3bK6+8ot27d2vHjh1XPce9jpxDhw7pxRdfVHl5uX784x9rx44deuyxx+R0OjVz5kzzfnb07wn3Onzz5s2T1+vViBEj5HA45Pf7tXjxYk2fPl2SuN9RciP31e12Kzs7O+T5hIQE9e3bt8v3nlCDbq20tFQffPCBtmzZYnVX4tLx48dVVlamzZs3KykpyeruxLVAIKDx48dryZIlkqTbb79dH3zwgVasWKGZM2da3Lv485vf/EYvvfSSXn75ZY0aNUp79uzRnDlzNHDgQO53HGP6qQv69+8vh8Nx1UqQmpoa5ebmWtSr+PGDH/xAb775pv7whz/opptuMq/n5ubK5/OptrY2pD33PXy7du3SmTNn9JnPfEYJCQlKSEjQO++8o+eee04JCQnKycnhXkdIXl6ePv3pT4dcGzlypI4dOyZJ5v3k35PI+OEPf6h58+bpoYce0m233aZ//Md/1OOPP66lS5dK4n5Hy43c19zcXJ05cybk+ZaWFp0/f77L955Q0wVOp1OFhYWqqqoyrwUCAVVVVam4uNjCnvVshmHoBz/4gd544w29/fbbGjp0aMjzhYWFSkxMDLnv+/fv17Fjx7jvYbrrrru0d+9e7dmzx3yMHz9e06dPN//OvY6MSZMmXbU1QXV1tQYPHixJGjp0qHJzc0Putdfr1bZt27jXndDQ0CC7PfRXnMPhUCAQkMT9jpYbua/FxcWqra3Vrl27zDZvv/22AoGAioqKutaBLpUZw3jllVcMl8tl/OpXvzI+/PBD43vf+56RlZVluN1uq7vWY82ePdvIzMw0/vjHPxqnT582Hw0NDWab73//+8agQYOMt99+29i5c6dRXFxsFBcXW9jr+NF+9ZNhcK8jZfv27UZCQoKxePFi48CBA8ZLL71kpKSkGGvXrjXbPP3000ZWVpaxfv16469//atx//33s8S4k2bOnGnk5+ebS7pff/11o3///saPfvQjsw33u3Pq6uqM9957z3jvvfcMScazzz5rvPfee8bRo0cNw7ix+3rPPfcYt99+u7Ft2zZjy5Ytxi233MKS7u7i+eefNwYNGmQ4nU7jjjvuMN59912ru9SjSerw8ctf/tJs09jYaDzyyCNGnz59jJSUFONrX/uacfr0aes6HUeuDDXc68j5z//8T2P06NGGy+UyRowYYaxcuTLk+UAgYCxYsMDIyckxXC6Xcddddxn79++3qLc9m9frNcrKyoxBgwYZSUlJxrBhw4z58+cbTU1NZhvud+f84Q9/6PDf6JkzZxqGcWP39eOPPzamTZtmpKWlGRkZGcasWbOMurq6LvfNZhjttlcEAADooaipAQAAcYFQAwAA4gKhBgAAxAVCDQAAiAuEGgAAEBcINQAAIC4QagAAQFwg1AAAgLhAqAEAAHGBUAMAAOICoQYAAMQFQg0AAIgL/z86Q5kEAmbO0QAAAABJRU5ErkJggg==",
>>>>>>> 40cb2594b2fdc734196ef22bc0c5612079233289
>>>>>>> Stashed changes
            "text/plain": [
              "<Figure size 640x480 with 1 Axes>"
            ]
          },
          "metadata": {},
          "output_type": "display_data"
        }
      ],
      "source": [
        "plt.plot(np.arange(num_iterations), cost_list)\n",
        "plt.show()"
      ]
    },
    {
      "cell_type": "markdown",
      "metadata": {
        "id": "5a5VQ6VSMaDN"
      },
      "source": [
        "# Task 2 - (4 points)\n",
        "\n",
        "Cacluate the Accuracy, Precision, Recall and F1 score of your logistic regression implementaion on the testing set.\n",
        "Print the results.\n",
        "\n",
        "You may use equations shown in lecture/slides/examples.\n",
        "\n",
        "Calcuate the accuracy, precision, recall and F1 score of your logistic regression implementaion on the testing set.\n",
        "Print the results. (**4 points**)\n"
      ]
    },
    {
      "cell_type": "code",
<<<<<<< Updated upstream
      "execution_count": 102,
=======
<<<<<<< HEAD
      "execution_count": 15,
=======
      "execution_count": 102,
>>>>>>> 40cb2594b2fdc734196ef22bc0c5612079233289
>>>>>>> Stashed changes
      "metadata": {
        "id": "dsVe6IH6MaDN"
      },
      "outputs": [],
      "source": [
        "def predict(weights, X):\n",
        "    p = sigmoid(X.dot(weights)) >= 0.5\n",
        "    return p.astype(int)"
      ]
    },
    {
      "cell_type": "code",
<<<<<<< Updated upstream
      "execution_count": 103,
=======
<<<<<<< HEAD
      "execution_count": 16,
=======
      "execution_count": 103,
>>>>>>> 40cb2594b2fdc734196ef22bc0c5612079233289
>>>>>>> Stashed changes
      "metadata": {
        "colab": {
          "base_uri": "https://localhost:8080/"
        },
        "id": "f5ZcLGy7MaDO",
        "outputId": "d38cd989-401d-4cee-c00e-6a90e45c8181"
      },
      "outputs": [
        {
          "name": "stdout",
          "output_type": "stream",
          "text": [
<<<<<<< Updated upstream
            "Accuracy is 0.4918032786885246\n",
            "Precision is 0.4918032786885246\n",
            "Recall is 1.0\n",
            "F1 score is 0.6593406593406593\n"
=======
<<<<<<< HEAD
            "Accuracy is 0.5901639344262295\n",
            "Precision is 0.5901639344262295\n",
            "Recall is 1.0\n",
            "F1 score is 0.7422680412371134\n"
=======
            "Accuracy is 0.4918032786885246\n",
            "Precision is 0.4918032786885246\n",
            "Recall is 1.0\n",
            "F1 score is 0.6593406593406593\n"
>>>>>>> 40cb2594b2fdc734196ef22bc0c5612079233289
>>>>>>> Stashed changes
          ]
        }
      ],
      "source": [
        "# Add your code Here!\n",
        "predictions = np.array(predict(weights, testing_x))\n",
        "testing_y=np.array(testing_y)\n",
        "correct = np.sum(predictions == testing_y)\n",
        "print(\"Accuracy is\",correct/testing_y.size)\n",
        "truePos = np.sum((predictions == 1) & (testing_y == 1))\n",
        "falsePos = np.sum((predictions == 1) & (testing_y == 0))\n",
        "falseNeg = np.sum((predictions==0)& (testing_y==1))\n",
        "print(\"Precision is\",truePos/(truePos+falsePos))\n",
        "print(\"Recall is\", truePos/(truePos+falseNeg))\n",
        "prec=truePos/(truePos+falsePos)\n",
        "recall=truePos/(truePos+falseNeg)\n",
        "print(\"F1 score is\", (2*(prec*recall))/(prec+recall))"
      ]
    },
    {
      "cell_type": "markdown",
      "metadata": {
        "id": "D6RmBKmAMaDO"
      },
      "source": [
        "# Task 3 - (4 points)\n",
        "\n",
        "Add a y-intercept and repeat the above tasks. Do you see any differences after adding the y-intercept?\n",
        "\n",
        "(4 points - 2 for code, 1 for cost visualizaiton, 1 for description.)"
      ]
    },
    {
      "cell_type": "code",
<<<<<<< Updated upstream
      "execution_count": 104,
=======
<<<<<<< HEAD
      "execution_count": 17,
=======
      "execution_count": 104,
>>>>>>> 40cb2594b2fdc734196ef22bc0c5612079233289
>>>>>>> Stashed changes
      "metadata": {
        "id": "1c6odFUiNESe"
      },
      "outputs": [],
      "source": [
        "def gradientB(X, y, weights,b):\n",
        "    m, n = X.shape\n",
        "    x_dot_weights = X.dot(weights)\n",
        "\n",
        "    gradCoef= (1.0 / m )* (sigmoid(x_dot_weights + b) - y).T.dot(X)\n",
        "    gradB = (1/m)* (np.sum(sigmoid(x_dot_weights+b)-y))\n",
        "\n",
        "    return gradCoef, gradB"
      ]
    },
    {
      "cell_type": "code",
      "execution_count": 105,
      "metadata": {},
      "outputs": [],
      "source": [
        "def cost_functionB(X, y, weights,b):\n",
        "    m, n = X.shape\n",
        "    x_dot_weights = X.dot(weights)\n",
        "\n",
        "    cost = (1.0 / m) * (-y.T.dot(np.log(sigmoid(x_dot_weights+b))) - (1 - y).T.dot(np.log(1 - sigmoid(x_dot_weights+b))))\n",
        "\n",
        "    return cost"
      ]
    },
    {
      "cell_type": "code",
<<<<<<< Updated upstream
      "execution_count": 106,
=======
<<<<<<< HEAD
      "execution_count": 19,
=======
      "execution_count": 106,
>>>>>>> 40cb2594b2fdc734196ef22bc0c5612079233289
>>>>>>> Stashed changes
      "metadata": {
        "id": "oaZzizC5MaDP"
      },
      "outputs": [],
      "source": [
        "# Add your code Here!\n",
        "new_weights = np.zeros(3)\n",
        "num_iterations = 100\n",
        "learnin_rate = 0.00001\n",
        "b=0\n",
        "\n",
        "cost_list2 = []\n",
        "\n",
        "for i in range(0, num_iterations):\n",
        "\n",
        "    cost = cost_functionB(training_x, training_y, new_weights,b)\n",
        "    #print(\"Cost is: \", cost)\n",
        "    cost_list2.append(cost)\n",
        "\n",
        "    gradCoef, gradB = gradientB(training_x, training_y, new_weights, b)\n",
        "\n",
        "    new_weights = new_weights - learnin_rate * gradCoef\n",
        "    b=b-learnin_rate*gradB\n"
      ]
    },
    {
      "cell_type": "code",
<<<<<<< Updated upstream
      "execution_count": 107,
=======
<<<<<<< HEAD
      "execution_count": 20,
=======
      "execution_count": 107,
>>>>>>> 40cb2594b2fdc734196ef22bc0c5612079233289
>>>>>>> Stashed changes
      "metadata": {
        "colab": {
          "base_uri": "https://localhost:8080/",
          "height": 430
        },
        "id": "djbsDfJriU1f",
        "outputId": "bf4f1baf-401b-4e44-9e72-c691aba77ff9"
      },
      "outputs": [
        {
          "data": {
<<<<<<< Updated upstream
            "image/png": "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",
=======
<<<<<<< HEAD
            "image/png": "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",
=======
            "image/png": "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",
>>>>>>> 40cb2594b2fdc734196ef22bc0c5612079233289
>>>>>>> Stashed changes
            "text/plain": [
              "<Figure size 640x480 with 1 Axes>"
            ]
          },
          "metadata": {},
          "output_type": "display_data"
        }
      ],
      "source": [
        "plt.plot(np.arange(num_iterations), cost_list2)\n",
        "plt.show()"
      ]
    },
    {
      "cell_type": "code",
<<<<<<< Updated upstream
      "execution_count": 108,
=======
<<<<<<< HEAD
      "execution_count": 21,
=======
      "execution_count": 108,
>>>>>>> 40cb2594b2fdc734196ef22bc0c5612079233289
>>>>>>> Stashed changes
      "metadata": {
        "id": "x9DY5LZTnK3s"
      },
      "outputs": [],
      "source": [
        "def predictB(weights, X,b):\n",
        "    p = sigmoid((X.dot(weights))+b) >= 0.5\n",
        "    return p.astype(int)"
      ]
    },
    {
      "cell_type": "code",
<<<<<<< Updated upstream
      "execution_count": 109,
=======
<<<<<<< HEAD
      "execution_count": 22,
=======
      "execution_count": 109,
>>>>>>> 40cb2594b2fdc734196ef22bc0c5612079233289
>>>>>>> Stashed changes
      "metadata": {
        "colab": {
          "base_uri": "https://localhost:8080/"
        },
        "id": "omrrYn-1jCbv",
        "outputId": "3f132f94-8891-40fa-cfa2-e0f21b03f126"
      },
      "outputs": [
        {
          "name": "stdout",
          "output_type": "stream",
          "text": [
<<<<<<< Updated upstream
            "Accuracy is 0.4918032786885246\n",
            "Precision is 0.4918032786885246\n",
            "Recall is 1.0\n",
            "F1 score is 0.6593406593406593\n"
=======
<<<<<<< HEAD
            "Accuracy is 0.5901639344262295\n",
            "Precision is 0.5901639344262295\n",
            "Recall is 1.0\n",
            "F1 score is 0.7422680412371134\n"
=======
            "Accuracy is 0.4918032786885246\n",
            "Precision is 0.4918032786885246\n",
            "Recall is 1.0\n",
            "F1 score is 0.6593406593406593\n"
>>>>>>> 40cb2594b2fdc734196ef22bc0c5612079233289
>>>>>>> Stashed changes
          ]
        }
      ],
      "source": [
        "predictions = np.array(predictB(new_weights, testing_x,b))\n",
        "testing_y=np.array(testing_y)\n",
        "correct = np.sum(predictions == testing_y)\n",
        "print(\"Accuracy is\",correct/testing_y.size)\n",
        "truePos = np.sum((predictions == 1) & (testing_y == 1))\n",
        "falsePos = np.sum((predictions == 1) & (testing_y == 0))\n",
        "falseNeg = np.sum((predictions==0)& (testing_y==1))\n",
        "print(\"Precision is\",truePos/(truePos+falsePos))\n",
        "print(\"Recall is\", truePos/(truePos+falseNeg) )\n",
        "prec=truePos/(truePos+falsePos)\n",
        "recall=truePos/(truePos+falseNeg)\n",
        "print(\"F1 score is\", (2*(prec*recall))/(prec+recall))"
      ]
    },
    {
      "cell_type": "markdown",
      "metadata": {},
      "source": [
        "There is a difference to the model because of the y intercept, but not enough to where it drastically changes its performance"
      ]
    },
    {
      "cell_type": "markdown",
      "metadata": {
        "id": "YCF-PtwDMaDP"
      },
      "source": [
        "# Task 4 - Implement the Bold Driver   - (4 points)\n",
        "\n",
        "Implement the bold driver into your gradient descent implementation, which lets us have a dynamic learning rate. Visualize the costs and print the accuracy/etc. metrics as before. Do not use a y-intercept this time.\n",
        "\n",
        "Add a stop condition that stop the GD when the cost is not changing more than 0.001 between iterations.\n",
        "Describe the results. Did you stop earlier than 100 iterations?\n",
        "(4 points - 2 for code, 1 for cost visualizaiton, 1 for description.)\n",
        "\n"
      ]
    },
    {
      "cell_type": "code",
<<<<<<< Updated upstream
      "execution_count": 110,
=======
<<<<<<< HEAD
      "execution_count": 23,
=======
      "execution_count": 110,
>>>>>>> 40cb2594b2fdc734196ef22bc0c5612079233289
>>>>>>> Stashed changes
      "metadata": {
        "id": "QED_NRECMaDP"
      },
      "outputs": [
        {
          "name": "stdout",
          "output_type": "stream",
          "text": [
            "Iteration: 0\n",
            "    Cost: 0.6931471805599453\n",
            "    Age: 0.00017665289256198349\n",
            "    Sex: -4.75206611570248e-06\n",
            "    Chol: 0.0011398760330578513\n",
            "    Increased learning rate to 0.000105\n",
            "    calculated cost: inf\n",
            "Iteration: 1\n",
            "    Cost: 0.6909715219315814\n",
            "    Age: -5.3697813090709844e-05\n",
            "    Sex: -1.4671025979263529e-05\n",
            "    Chol: 0.00035986068539685433\n",
            "    Increased learning rate to 0.00011025000000000001\n",
            "    calculated cost: 0.0021756586283638857\n",
            "Iteration: 2\n",
            "    Cost: 0.6901195638362521\n",
            "    Age: 1.1245556467521996e-05\n",
            "    Sex: -2.1447395909719362e-05\n",
            "    Chol: 0.0009967861083761001\n",
            "    Increased learning rate to 0.00011576250000000002\n",
            "    calculated cost: 0.0008519580953293415\n"
          ]
        }
      ],
      "source": [
        "# Implement bold driver into gradient descent\n",
        "learn_rate = 0.0001\n",
        "stop_val = 0.001\n",
        "bd_weights = np.zeros(3)\n",
        "\n",
        "bd_cost_list = []\n",
        "\n",
        "prev_cost = float('inf')\n",
        "\n",
        "for i in range(100):\n",
        "    print('Iteration:', i)\n",
        "\n",
        "    cost = cost_function(training_x, training_y, bd_weights)\n",
        "    print('    Cost:', cost)\n",
        "    \n",
        "    grad = gradient(training_x, training_y, bd_weights)\n",
        "\n",
        "    bd_weights_new = bd_weights - learn_rate * grad\n",
        "    para_list = bd_weights_new.tolist()\n",
        "    print('    Age:', para_list[0])\n",
        "    print('    Sex:', para_list[1])\n",
        "    print('    Chol:', para_list[2])\n",
        "\n",
        "    if cost > prev_cost:\n",
        "        bd_weights_new = bd_weights\n",
        "        learn_rate = 0.5 * learn_rate\n",
        "        print('    Decreased learning rate to', learn_rate)\n",
        "    else:\n",
        "        learn_rate = 1.05 * learn_rate\n",
        "        print('    Increased learning rate to', learn_rate)\n",
        "\n",
        "    bd_weights = bd_weights_new\n",
        "\n",
        "    bd_cost_list.append(cost)\n",
        "\n",
        "    print('    calculated cost:', abs(prev_cost - cost))\n",
        "    if abs(prev_cost - cost) < stop_val:\n",
        "        break\n",
        "\n",
        "    prev_cost = cost\n"
      ]
    },
    {
      "cell_type": "code",
      "execution_count": 111,
      "metadata": {},
      "outputs": [
        {
          "data": {
            "image/png": "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",
            "text/plain": [
              "<Figure size 640x480 with 1 Axes>"
            ]
          },
          "metadata": {},
          "output_type": "display_data"
        }
      ],
      "source": [
        "# plot the cost_list vs bd_cost_list\n",
        "plt.plot(np.arange(len(bd_cost_list)), bd_cost_list)\n",
        "plt.plot(np.arange(len(cost_list)), cost_list)\n",
        "plt.legend(['Bold Driver', 'Normal'])\n",
        "plt.xlabel('Iterations')\n",
        "plt.ylabel('Cost')\n",
        "plt.title('Cost vs Iterations')\n",
        "plt.show()"
      ]
    },
    {
      "cell_type": "code",
      "execution_count": 115,
      "metadata": {},
      "outputs": [
        {
          "name": "stdout",
          "output_type": "stream",
          "text": [
            "Accuracy is 0.4918032786885246\n",
            "Precision is 0.4918032786885246\n",
            "Recall is 1.0\n",
            "F1 score is 0.6593406593406593\n"
          ]
        }
      ],
      "source": [
        "# Calculate the accuracy, precision, recall and F1 score\n",
        "predictions = np.array(predict(bd_weights, testing_x))\n",
        "testing_y=np.array(testing_y)\n",
        "correct = np.sum(predictions == testing_y)\n",
        "print(\"Accuracy is\",correct/testing_y.size)\n",
        "truePos = np.sum((predictions == 1) & (testing_y == 1))\n",
        "falsePos = np.sum((predictions == 1) & (testing_y == 0))\n",
        "falseNeg = np.sum((predictions==0) & (testing_y==1))\n",
        "print(\"Precision is\", truePos/(truePos+falsePos))\n",
        "print(\"Recall is\", truePos/(truePos+falseNeg))\n",
        "prec=truePos/(truePos + falsePos)\n",
        "recall=truePos/(truePos + falseNeg)\n",
        "print(\"F1 score is\", (2*(prec*recall))/(prec+recall))"
      ]
    },
    {
      "cell_type": "code",
      "execution_count": null,
      "metadata": {},
      "outputs": [],
      "source": []
    },
    {
      "cell_type": "markdown",
      "metadata": {
        "id": "qvf5cGYuMaDQ"
      },
      "source": [
        "# Task 5 - Implement the L2 norm regularization.  - (4 points)\n",
        "\n",
        "\n",
        "\n",
        "Modify your Cost and gradient to implement the l2 norm regularization. Repeat the steps taken in prior tasks and describe your result.\n",
        "\n",
        " * Use a y-intercept.\n",
        " * Do a maximum of 100 iterations as before and report your accuracy, precision, recall and F1 score.\n",
        " * Optional: You can stop earlier, if the cost is not changing more than 0.001 between iterations.\n",
        " * Optional: You can use the bold driver, if you want. But a bold driver is not required to perform L2 norm regularizaiton.\n",
        "\n",
        "(4 points - 2 for code, 1 for cost visualizaiton, 1 for description.)"
      ]
    },
    {
      "cell_type": "code",
<<<<<<< Updated upstream
      "execution_count": null,
      "metadata": {},
      "outputs": [],
      "source": []
=======
<<<<<<< HEAD
      "execution_count": 24,
      "metadata": {},
      "outputs": [],
      "source": [
        "def gradientRidge(X, y, weights,b, lambd):\n",
        "    m, n = X.shape\n",
        "    x_dot_weights = X.dot(weights)\n",
        "\n",
        "    gradCoef= (1.0 / m )* (sigmoid(x_dot_weights + b) - y).T.dot(X)\n",
        "    gradCoef= gradCoef + ((2 * lambd / m) * weights)\n",
        "    gradB = (1/m)* (np.sum(sigmoid(x_dot_weights+b)-y))\n",
        "\n",
        "    return gradCoef, gradB"
      ]
    },
    {
      "cell_type": "code",
      "execution_count": 25,
      "metadata": {},
      "outputs": [],
      "source": [
        "def cost_functionRidge(X, y, weights,b, lambd):\n",
        "    m, n = X.shape\n",
        "    x_dot_weights = X.dot(weights)\n",
        "\n",
        "    cost = (1.0 / m) * (-y.T.dot(np.log(sigmoid(x_dot_weights+b))) - (1 - y).T.dot(np.log(1 - sigmoid(x_dot_weights+b))))\n",
        "    cost = cost + (lambd/ m*2) * np.sum(weights**2)\n",
        "    return cost"
      ]
    },
    {
      "cell_type": "code",
      "execution_count": 43,
      "metadata": {},
      "outputs": [],
      "source": [
        "newNew_weights = np.zeros(3)\n",
        "num_iterations = 100\n",
        "learnin_rate = 0.00001\n",
        "b=0\n",
        "lambd=0.01\n",
        "\n",
        "cost_list3 = []\n",
        "\n",
        "for i in range(0, num_iterations):\n",
        "\n",
        "    cost = cost_functionRidge(training_x, training_y, newNew_weights,b, lambd)\n",
        "    #print(\"Cost is: \", cost)\n",
        "    cost_list3.append(cost)\n",
        "\n",
        "    gradCoef, gradB = gradientRidge(training_x, training_y, newNew_weights, b, lambd)\n",
        "\n",
        "    newNew_weights = newNew_weights - learnin_rate * gradCoef\n",
        "    b=b-learnin_rate*gradB"
      ]
    },
    {
      "cell_type": "code",
      "execution_count": 44,
      "metadata": {},
      "outputs": [
        {
          "data": {
            "image/png": "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",
            "text/plain": [
              "<Figure size 640x480 with 1 Axes>"
            ]
          },
          "metadata": {},
          "output_type": "display_data"
        }
      ],
      "source": [
        "plt.plot(np.arange(num_iterations), cost_list3)\n",
        "plt.show()"
      ]
    },
    {
      "cell_type": "code",
      "execution_count": 45,
      "metadata": {},
      "outputs": [
        {
          "name": "stdout",
          "output_type": "stream",
          "text": [
            "Accuracy is 0.5901639344262295\n",
            "Precision is 0.5901639344262295\n",
            "Recall is 1.0\n",
            "F1 score is 0.7422680412371134\n"
          ]
        }
      ],
      "source": [
        "predictions = np.array(predictB(newNew_weights, testing_x,b))\n",
        "testing_y=np.array(testing_y)\n",
        "correct = np.sum(predictions == testing_y)\n",
        "print(\"Accuracy is\",correct/testing_y.size)\n",
        "truePos = np.sum((predictions == 1) & (testing_y == 1))\n",
        "falsePos = np.sum((predictions == 1) & (testing_y == 0))\n",
        "falseNeg = np.sum((predictions==0)& (testing_y==1))\n",
        "print(\"Precision is\",truePos/(truePos+falsePos))\n",
        "print(\"Recall is\", truePos/(truePos+falseNeg) )\n",
        "prec=truePos/(truePos+falsePos)\n",
        "recall=truePos/(truePos+falseNeg)\n",
        "print(\"F1 score is\", (2*(prec*recall))/(prec+recall))"
      ]
    },
    {
      "cell_type": "code",
      "execution_count": 46,
      "metadata": {},
      "outputs": [
        {
          "name": "stdout",
          "output_type": "stream",
          "text": [
            "Age    -0.000277\n",
            "Sex    -0.000043\n",
            "Chol    0.000304\n",
            "dtype: float64\n",
            "Age     4.996098e-06\n",
            "Sex    -3.306282e-07\n",
            "Chol    3.981701e-05\n",
            "dtype: float64\n",
            "Age    -0.000277\n",
            "Sex    -0.000043\n",
            "Chol    0.000304\n",
            "dtype: float64\n"
          ]
        }
      ],
      "source": [
        "print(weights)\n",
        "print(new_weights)\n",
        "print(newNew_weights)"
      ]
=======
      "execution_count": null,
      "metadata": {},
      "outputs": [],
      "source": []
>>>>>>> 40cb2594b2fdc734196ef22bc0c5612079233289
>>>>>>> Stashed changes
    }
  ],
  "metadata": {
    "colab": {
      "provenance": []
    },
    "kernelspec": {
      "display_name": "Python 3 (ipykernel)",
      "language": "python",
      "name": "python3"
    },
    "language_info": {
      "codemirror_mode": {
        "name": "ipython",
        "version": 3
      },
      "file_extension": ".py",
      "mimetype": "text/x-python",
      "name": "python",
      "nbconvert_exporter": "python",
      "pygments_lexer": "ipython3",
      "version": "3.9.17"
    }
  },
  "nbformat": 4,
  "nbformat_minor": 0
}
