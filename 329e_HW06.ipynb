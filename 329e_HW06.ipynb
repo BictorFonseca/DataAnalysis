{
  "cells": [
    {
      "cell_type": "markdown",
      "metadata": {
        "id": "Z_nyU2MBMaC1"
      },
      "source": [
        "# Homework 6  - Logistic Regression without using any libraries.\n",
        "\n",
        "## Your Name Here\n",
        "\n",
        "Student Name:\n",
        "\n",
        "Student UT EID:\n",
        "\n",
        "---\n",
        "\n",
        "Partner Name:\n",
        "\n",
        "Partner UT EID:\n",
        "\n",
        "---\n",
        "\n",
        "Date Created:\n",
        "\n",
        "Date Last Modified:\n",
        "\n",
        "---\n",
        "\n",
        "Totoal Points 20.\n",
        "\n"
      ]
    },
    {
      "cell_type": "code",
      "execution_count": 2,
      "metadata": {
        "id": "6JkecGvaMaC7"
      },
      "outputs": [],
      "source": [
        "# Standard Headers\n",
        "# You are welcome to add additional headers here if you wish\n",
        "import pandas as pd\n",
        "import numpy as np\n",
        "import matplotlib.pyplot as plt\n",
        "\n",
        "# Enable inline mode for matplotlib so that Jupyter displays graphs\n",
        "%matplotlib inline"
      ]
    },
    {
      "cell_type": "markdown",
      "metadata": {
        "id": "H9PhAyOmMaC-"
      },
      "source": [
        "# Your allowed to use only the above libraries that are imported. No other libs should be used in this assignment."
      ]
    },
    {
      "cell_type": "markdown",
      "metadata": {
        "id": "NKs_mBXPMaC_"
      },
      "source": [
        "## Heart Dataset\n",
        "\n",
        "In this Assignment we will work with some patients dataset.\n",
        "\n",
        "We have access to 303 patients data. The features are listed below."
      ]
    },
    {
      "cell_type": "code",
      "execution_count": 3,
      "metadata": {
        "colab": {
          "base_uri": "https://localhost:8080/",
          "height": 423
        },
        "id": "wzZz5z1EMaC_",
        "outputId": "4515f8b8-97a9-441b-e42b-c281cca70299"
      },
      "outputs": [
        {
          "data": {
            "text/html": [
              "<div>\n",
              "<style scoped>\n",
              "    .dataframe tbody tr th:only-of-type {\n",
              "        vertical-align: middle;\n",
              "    }\n",
              "\n",
              "    .dataframe tbody tr th {\n",
              "        vertical-align: top;\n",
              "    }\n",
              "\n",
              "    .dataframe thead th {\n",
              "        text-align: right;\n",
              "    }\n",
              "</style>\n",
              "<table border=\"1\" class=\"dataframe\">\n",
              "  <thead>\n",
              "    <tr style=\"text-align: right;\">\n",
              "      <th></th>\n",
              "      <th>Age</th>\n",
              "      <th>Sex</th>\n",
              "      <th>ChestPain</th>\n",
              "      <th>RestBP</th>\n",
              "      <th>Chol</th>\n",
              "      <th>Fbs</th>\n",
              "      <th>RestECG</th>\n",
              "      <th>MaxHR</th>\n",
              "      <th>ExAng</th>\n",
              "      <th>Oldpeak</th>\n",
              "      <th>Slope</th>\n",
              "      <th>Ca</th>\n",
              "      <th>Thal</th>\n",
              "      <th>Target</th>\n",
              "    </tr>\n",
              "  </thead>\n",
              "  <tbody>\n",
              "    <tr>\n",
              "      <th>0</th>\n",
              "      <td>63</td>\n",
              "      <td>1</td>\n",
              "      <td>typical</td>\n",
              "      <td>145</td>\n",
              "      <td>233</td>\n",
              "      <td>1</td>\n",
              "      <td>2</td>\n",
              "      <td>150</td>\n",
              "      <td>0</td>\n",
              "      <td>2.3</td>\n",
              "      <td>3</td>\n",
              "      <td>0.0</td>\n",
              "      <td>fixed</td>\n",
              "      <td>No</td>\n",
              "    </tr>\n",
              "    <tr>\n",
              "      <th>1</th>\n",
              "      <td>67</td>\n",
              "      <td>1</td>\n",
              "      <td>asymptomatic</td>\n",
              "      <td>160</td>\n",
              "      <td>286</td>\n",
              "      <td>0</td>\n",
              "      <td>2</td>\n",
              "      <td>108</td>\n",
              "      <td>1</td>\n",
              "      <td>1.5</td>\n",
              "      <td>2</td>\n",
              "      <td>3.0</td>\n",
              "      <td>normal</td>\n",
              "      <td>Yes</td>\n",
              "    </tr>\n",
              "    <tr>\n",
              "      <th>2</th>\n",
              "      <td>67</td>\n",
              "      <td>1</td>\n",
              "      <td>asymptomatic</td>\n",
              "      <td>120</td>\n",
              "      <td>229</td>\n",
              "      <td>0</td>\n",
              "      <td>2</td>\n",
              "      <td>129</td>\n",
              "      <td>1</td>\n",
              "      <td>2.6</td>\n",
              "      <td>2</td>\n",
              "      <td>2.0</td>\n",
              "      <td>reversable</td>\n",
              "      <td>Yes</td>\n",
              "    </tr>\n",
              "    <tr>\n",
              "      <th>3</th>\n",
              "      <td>37</td>\n",
              "      <td>1</td>\n",
              "      <td>nonanginal</td>\n",
              "      <td>130</td>\n",
              "      <td>250</td>\n",
              "      <td>0</td>\n",
              "      <td>0</td>\n",
              "      <td>187</td>\n",
              "      <td>0</td>\n",
              "      <td>3.5</td>\n",
              "      <td>3</td>\n",
              "      <td>0.0</td>\n",
              "      <td>normal</td>\n",
              "      <td>No</td>\n",
              "    </tr>\n",
              "    <tr>\n",
              "      <th>4</th>\n",
              "      <td>41</td>\n",
              "      <td>0</td>\n",
              "      <td>nontypical</td>\n",
              "      <td>130</td>\n",
              "      <td>204</td>\n",
              "      <td>0</td>\n",
              "      <td>2</td>\n",
              "      <td>172</td>\n",
              "      <td>0</td>\n",
              "      <td>1.4</td>\n",
              "      <td>1</td>\n",
              "      <td>0.0</td>\n",
              "      <td>normal</td>\n",
              "      <td>No</td>\n",
              "    </tr>\n",
              "    <tr>\n",
              "      <th>...</th>\n",
              "      <td>...</td>\n",
              "      <td>...</td>\n",
              "      <td>...</td>\n",
              "      <td>...</td>\n",
              "      <td>...</td>\n",
              "      <td>...</td>\n",
              "      <td>...</td>\n",
              "      <td>...</td>\n",
              "      <td>...</td>\n",
              "      <td>...</td>\n",
              "      <td>...</td>\n",
              "      <td>...</td>\n",
              "      <td>...</td>\n",
              "      <td>...</td>\n",
              "    </tr>\n",
              "    <tr>\n",
              "      <th>298</th>\n",
              "      <td>45</td>\n",
              "      <td>1</td>\n",
              "      <td>typical</td>\n",
              "      <td>110</td>\n",
              "      <td>264</td>\n",
              "      <td>0</td>\n",
              "      <td>0</td>\n",
              "      <td>132</td>\n",
              "      <td>0</td>\n",
              "      <td>1.2</td>\n",
              "      <td>2</td>\n",
              "      <td>0.0</td>\n",
              "      <td>reversable</td>\n",
              "      <td>Yes</td>\n",
              "    </tr>\n",
              "    <tr>\n",
              "      <th>299</th>\n",
              "      <td>68</td>\n",
              "      <td>1</td>\n",
              "      <td>asymptomatic</td>\n",
              "      <td>144</td>\n",
              "      <td>193</td>\n",
              "      <td>1</td>\n",
              "      <td>0</td>\n",
              "      <td>141</td>\n",
              "      <td>0</td>\n",
              "      <td>3.4</td>\n",
              "      <td>2</td>\n",
              "      <td>2.0</td>\n",
              "      <td>reversable</td>\n",
              "      <td>Yes</td>\n",
              "    </tr>\n",
              "    <tr>\n",
              "      <th>300</th>\n",
              "      <td>57</td>\n",
              "      <td>1</td>\n",
              "      <td>asymptomatic</td>\n",
              "      <td>130</td>\n",
              "      <td>131</td>\n",
              "      <td>0</td>\n",
              "      <td>0</td>\n",
              "      <td>115</td>\n",
              "      <td>1</td>\n",
              "      <td>1.2</td>\n",
              "      <td>2</td>\n",
              "      <td>1.0</td>\n",
              "      <td>reversable</td>\n",
              "      <td>Yes</td>\n",
              "    </tr>\n",
              "    <tr>\n",
              "      <th>301</th>\n",
              "      <td>57</td>\n",
              "      <td>0</td>\n",
              "      <td>nontypical</td>\n",
              "      <td>130</td>\n",
              "      <td>236</td>\n",
              "      <td>0</td>\n",
              "      <td>2</td>\n",
              "      <td>174</td>\n",
              "      <td>0</td>\n",
              "      <td>0.0</td>\n",
              "      <td>2</td>\n",
              "      <td>1.0</td>\n",
              "      <td>normal</td>\n",
              "      <td>Yes</td>\n",
              "    </tr>\n",
              "    <tr>\n",
              "      <th>302</th>\n",
              "      <td>38</td>\n",
              "      <td>1</td>\n",
              "      <td>nonanginal</td>\n",
              "      <td>138</td>\n",
              "      <td>175</td>\n",
              "      <td>0</td>\n",
              "      <td>0</td>\n",
              "      <td>173</td>\n",
              "      <td>0</td>\n",
              "      <td>0.0</td>\n",
              "      <td>1</td>\n",
              "      <td>NaN</td>\n",
              "      <td>normal</td>\n",
              "      <td>No</td>\n",
              "    </tr>\n",
              "  </tbody>\n",
              "</table>\n",
              "<p>303 rows × 14 columns</p>\n",
              "</div>"
            ],
            "text/plain": [
              "     Age  Sex     ChestPain  RestBP  Chol  Fbs  RestECG  MaxHR  ExAng  \\\n",
              "0     63    1       typical     145   233    1        2    150      0   \n",
              "1     67    1  asymptomatic     160   286    0        2    108      1   \n",
              "2     67    1  asymptomatic     120   229    0        2    129      1   \n",
              "3     37    1    nonanginal     130   250    0        0    187      0   \n",
              "4     41    0    nontypical     130   204    0        2    172      0   \n",
              "..   ...  ...           ...     ...   ...  ...      ...    ...    ...   \n",
              "298   45    1       typical     110   264    0        0    132      0   \n",
              "299   68    1  asymptomatic     144   193    1        0    141      0   \n",
              "300   57    1  asymptomatic     130   131    0        0    115      1   \n",
              "301   57    0    nontypical     130   236    0        2    174      0   \n",
              "302   38    1    nonanginal     138   175    0        0    173      0   \n",
              "\n",
              "     Oldpeak  Slope   Ca        Thal Target  \n",
              "0        2.3      3  0.0       fixed     No  \n",
              "1        1.5      2  3.0      normal    Yes  \n",
              "2        2.6      2  2.0  reversable    Yes  \n",
              "3        3.5      3  0.0      normal     No  \n",
              "4        1.4      1  0.0      normal     No  \n",
              "..       ...    ...  ...         ...    ...  \n",
              "298      1.2      2  0.0  reversable    Yes  \n",
              "299      3.4      2  2.0  reversable    Yes  \n",
              "300      1.2      2  1.0  reversable    Yes  \n",
              "301      0.0      2  1.0      normal    Yes  \n",
              "302      0.0      1  NaN      normal     No  \n",
              "\n",
              "[303 rows x 14 columns]"
            ]
          },
          "execution_count": 3,
          "metadata": {},
          "output_type": "execute_result"
        }
      ],
      "source": [
        "# Your code here\n",
        "heart_df = pd.read_csv(\"Heart.csv\")\n",
        "heart_df"
      ]
    },
    {
      "cell_type": "markdown",
      "metadata": {
        "id": "Od2k8_-ZMaDB"
      },
      "source": [
        "**Age:** The person’s age in years\n",
        "\n",
        "**Sex:** The person’s sex (1 = male, 0 = female)\n",
        "\n",
        "**ChestPain:** chest pain type\n",
        "\n",
        "* Value 0: asymptomatic\n",
        "* Value 1: atypical angina\n",
        "* Value 2: non-anginal pain\n",
        "* Value 3: typical angina\n",
        "\n",
        "**RestBP:** The person’s resting blood pressure (mm Hg on admission to the hospital)\n",
        "\n",
        "**Chol:** The person’s cholesterol measurement in mg/dl\n",
        "\n",
        "**Fbs:** The person’s fasting blood sugar (> 120 mg/dl, 1 = true; 0 = false)\n",
        "restecg: resting electrocardiographic results\n",
        "\n",
        "* Value 0: showing probable or definite left ventricular hypertrophy by Estes’ criteria\n",
        "* Value 1: normal\n",
        "* Value 2: having ST-T wave abnormality (T wave inversions and/or ST elevation or depression of > 0.05 mV)\n",
        "\n",
        "**RestECG:** The person’s maximum heart rate achieved\n",
        "\n",
        "**MaxHR:** Exercise induced angina (1 = yes; 0 = no)\n",
        "\n",
        "**Oldpeak:** ST depression induced by exercise relative to rest (‘ST’ relates to positions on the ECG plot. See more here)\n",
        "\n",
        "**Slope:** the slope of the peak exercise ST segment — 0: downsloping; 1: flat; 2: upsloping\n",
        "\n",
        "* 0: downsloping;\n",
        "* 1: flat;\n",
        "* 2: upsloping\n",
        "\n",
        "**Ca:** The number of major vessels (0–3)\n",
        "\n",
        "**Thal:** A blood disorder called thalassemia Value 0: NULL (dropped from the dataset previously\n",
        "\n",
        "* Value 1: fixed defect (no blood flow in some part of the heart)\n",
        "* Value 2: normal blood flow\n",
        "* Value 3: reversible defect (a blood flow is observed but it is not normal)\n",
        "\n",
        "**Target:** Heart disease (1 = no, 0= yes)"
      ]
    },
    {
      "cell_type": "markdown",
      "metadata": {
        "id": "DmlVJlKwMaDD"
      },
      "source": [
        "# Task 1 - (4 points)\n",
        "We want to use logistic regerssion to predict if a patient will have heart problems or not. The column \"Target\" in our datasets includes data about heart disease. If the patient had heart disease, the patient's \"Target\" value equals 1. Otherwise, \"Target\" equals 0.\n",
        "\n",
        "Prepare your data set for predicting heart disease (\"Target\" column) by using 3 features:\n",
        "\n",
        "* Age of the patient (Column **\"Age\"**)\n",
        "* Gender of the patient (male or female - Column **\"Sex\"**)\n",
        "* Cholestrol level of the patient (Column **\"Chol\"**)\n",
        "\n",
        "Split your data into 80% traning data and 20% test data ***without*** using any libraries other than the ones imported above. You must do it manually.\n",
        "\n",
        "* Do a maximum of **100 iterations**\n",
        "* Use a very small learning rate for checking your GD implementation.\n",
        "* Your are allowed to use your choice of learning rate, like using 0.0001, 0.001 or 0.01 or 0.1 or higher/lower.\n",
        "* **Visualize your error/costs over the iterations with a plot**.\n",
        "* No need to add an y-intercept in this task.\n",
        "\n",
        "(**4 points** - 3 points for code, 1 point for cost visualization)"
      ]
    },
    {
      "cell_type": "code",
      "execution_count": 73,
      "metadata": {
        "colab": {
          "base_uri": "https://localhost:8080/",
          "height": 423
        },
        "id": "1MUU-q2oMaDF",
        "outputId": "0c80a883-582f-4950-e37d-5f2d35bdd269"
      },
      "outputs": [
        {
          "data": {
            "text/html": [
              "<div>\n",
              "<style scoped>\n",
              "    .dataframe tbody tr th:only-of-type {\n",
              "        vertical-align: middle;\n",
              "    }\n",
              "\n",
              "    .dataframe tbody tr th {\n",
              "        vertical-align: top;\n",
              "    }\n",
              "\n",
              "    .dataframe thead th {\n",
              "        text-align: right;\n",
              "    }\n",
              "</style>\n",
              "<table border=\"1\" class=\"dataframe\">\n",
              "  <thead>\n",
              "    <tr style=\"text-align: right;\">\n",
              "      <th></th>\n",
              "      <th>Target</th>\n",
              "      <th>Age</th>\n",
              "      <th>Sex</th>\n",
              "      <th>Chol</th>\n",
              "    </tr>\n",
              "  </thead>\n",
              "  <tbody>\n",
              "    <tr>\n",
              "      <th>0</th>\n",
              "      <td>1</td>\n",
              "      <td>63</td>\n",
              "      <td>1</td>\n",
              "      <td>233</td>\n",
              "    </tr>\n",
              "    <tr>\n",
              "      <th>1</th>\n",
              "      <td>0</td>\n",
              "      <td>67</td>\n",
              "      <td>1</td>\n",
              "      <td>286</td>\n",
              "    </tr>\n",
              "    <tr>\n",
              "      <th>2</th>\n",
              "      <td>0</td>\n",
              "      <td>67</td>\n",
              "      <td>1</td>\n",
              "      <td>229</td>\n",
              "    </tr>\n",
              "    <tr>\n",
              "      <th>3</th>\n",
              "      <td>1</td>\n",
              "      <td>37</td>\n",
              "      <td>1</td>\n",
              "      <td>250</td>\n",
              "    </tr>\n",
              "    <tr>\n",
              "      <th>4</th>\n",
              "      <td>1</td>\n",
              "      <td>41</td>\n",
              "      <td>0</td>\n",
              "      <td>204</td>\n",
              "    </tr>\n",
              "    <tr>\n",
              "      <th>...</th>\n",
              "      <td>...</td>\n",
              "      <td>...</td>\n",
              "      <td>...</td>\n",
              "      <td>...</td>\n",
              "    </tr>\n",
              "    <tr>\n",
              "      <th>298</th>\n",
              "      <td>0</td>\n",
              "      <td>45</td>\n",
              "      <td>1</td>\n",
              "      <td>264</td>\n",
              "    </tr>\n",
              "    <tr>\n",
              "      <th>299</th>\n",
              "      <td>0</td>\n",
              "      <td>68</td>\n",
              "      <td>1</td>\n",
              "      <td>193</td>\n",
              "    </tr>\n",
              "    <tr>\n",
              "      <th>300</th>\n",
              "      <td>0</td>\n",
              "      <td>57</td>\n",
              "      <td>1</td>\n",
              "      <td>131</td>\n",
              "    </tr>\n",
              "    <tr>\n",
              "      <th>301</th>\n",
              "      <td>0</td>\n",
              "      <td>57</td>\n",
              "      <td>0</td>\n",
              "      <td>236</td>\n",
              "    </tr>\n",
              "    <tr>\n",
              "      <th>302</th>\n",
              "      <td>1</td>\n",
              "      <td>38</td>\n",
              "      <td>1</td>\n",
              "      <td>175</td>\n",
              "    </tr>\n",
              "  </tbody>\n",
              "</table>\n",
              "<p>303 rows × 4 columns</p>\n",
              "</div>"
            ],
            "text/plain": [
              "     Target  Age  Sex  Chol\n",
              "0         1   63    1   233\n",
              "1         0   67    1   286\n",
              "2         0   67    1   229\n",
              "3         1   37    1   250\n",
              "4         1   41    0   204\n",
              "..      ...  ...  ...   ...\n",
              "298       0   45    1   264\n",
              "299       0   68    1   193\n",
              "300       0   57    1   131\n",
              "301       0   57    0   236\n",
              "302       1   38    1   175\n",
              "\n",
              "[303 rows x 4 columns]"
            ]
          },
          "execution_count": 73,
          "metadata": {},
          "output_type": "execute_result"
        }
      ],
      "source": [
        "# Add your code Here!\n",
        "df = heart_df.copy()\n",
        "df = df[['Target', 'Age', 'Sex', 'Chol']]\n",
        "df['Target'] = df['Target'].map({'No': 1, 'Yes': 0})\n",
        "df"
      ]
    },
    {
      "cell_type": "code",
      "execution_count": 74,
      "metadata": {
        "id": "E3_60Dy4MaDJ"
      },
      "outputs": [],
      "source": [
        "def sigmoid(z):\n",
        "    g = 1 / (1 + np.exp(-z))\n",
        "    return g"
      ]
    },
    {
      "cell_type": "code",
      "execution_count": 75,
      "metadata": {
        "id": "QQDqYXqFMaDK"
      },
      "outputs": [],
      "source": [
        "def cost_function(X, y, weights):\n",
        "    m, n = X.shape\n",
        "    x_dot_weights = X.dot(weights)\n",
        "\n",
        "    cost = (1.0 / m) * (-y.T.dot(np.log(sigmoid(x_dot_weights))) - (1 - y).T.dot(np.log(1 - sigmoid(x_dot_weights))))\n",
        "\n",
        "    return cost"
      ]
    },
    {
      "cell_type": "code",
      "execution_count": 76,
      "metadata": {
        "id": "eXaYUSk4MaDL"
      },
      "outputs": [],
      "source": [
        "def gradient(X, y, weights):\n",
        "    m, n = X.shape\n",
        "    x_dot_weights = X.dot(weights)\n",
        "\n",
        "    grad = (1.0 / m )* (sigmoid(x_dot_weights) - y).T.dot(X)\n",
        "\n",
        "    return grad"
      ]
    },
    {
      "cell_type": "code",
      "execution_count": 77,
      "metadata": {
        "id": "_Si4kIk4MaDH"
      },
      "outputs": [],
      "source": [
        "randomized = df.sample(frac=1).reset_index(drop=True)\n",
        "training=randomized[:int(0.8 * len(df))]\n",
        "testing = randomized[int(0.8 * len(df)):]\n",
        "training_x, training_y = training[['Age','Sex','Chol']], training['Target']\n",
        "testing_x, testing_y = testing[['Age','Sex','Chol']], testing['Target']"
      ]
    },
    {
      "cell_type": "code",
      "execution_count": 78,
      "metadata": {
        "id": "_pMKAwalMaDL"
      },
      "outputs": [],
      "source": [
        "weights = np.zeros(3)\n",
        "num_iterations = 100\n",
        "learnin_rate = 0.00001\n",
        "\n",
        "cost_list = []\n",
        "\n",
        "for i in range(0, num_iterations):\n",
        "\n",
        "    cost = cost_function(training_x, training_y, weights)\n",
        "    #print(\"Cost is: \", cost)\n",
        "    cost_list.append(cost)\n",
        "\n",
        "    grad = gradient(training_x, training_y, weights)\n",
        "\n",
        "    weights = weights - learnin_rate * grad"
      ]
    },
    {
      "cell_type": "code",
      "execution_count": 79,
      "metadata": {
        "colab": {
          "base_uri": "https://localhost:8080/",
          "height": 430
        },
        "id": "RzxzA3WfMaDM",
        "outputId": "023662fd-d2e5-4631-dda3-d10b72affadb"
      },
      "outputs": [
        {
          "data": {
            "image/png": "[encoded data removed]",
            "text/plain": [
              "<Figure size 640x480 with 1 Axes>"
            ]
          },
          "metadata": {},
          "output_type": "display_data"
        }
      ],
      "source": [
        "plt.plot(np.arange(num_iterations), cost_list)\n",
        "plt.show()"
      ]
    },
    {
      "cell_type": "markdown",
      "metadata": {
        "id": "5a5VQ6VSMaDN"
      },
      "source": [
        "# Task 2 - (4 points)\n",
        "\n",
        "Cacluate the Accuracy, Precision, Recall and F1 score of your logistic regression implementaion on the testing set.\n",
        "Print the results.\n",
        "\n",
        "You may use equations shown in lecture/slides/examples.\n",
        "\n",
        "Calcuate the accuracy, precision, recall and F1 score of your logistic regression implementaion on the testing set.\n",
        "Print the results. (**4 points**)\n"
      ]
    },
    {
      "cell_type": "code",
      "execution_count": 80,
      "metadata": {
        "id": "dsVe6IH6MaDN"
      },
      "outputs": [],
      "source": [
        "def predict(weights, X):\n",
        "    p = sigmoid(X.dot(weights)) >= 0.5\n",
        "    return p.astype(int)"
      ]
    },
    {
      "cell_type": "code",
      "execution_count": 81,
      "metadata": {
        "colab": {
          "base_uri": "https://localhost:8080/"
        },
        "id": "f5ZcLGy7MaDO",
        "outputId": "d38cd989-401d-4cee-c00e-6a90e45c8181"
      },
      "outputs": [
        {
          "name": "stdout",
          "output_type": "stream",
          "text": [
            "Accuracy is 0.5409836065573771\n",
            "Precision is 0.5409836065573771\n",
            "Recall is 1.0\n",
            "F1 score is 0.7021276595744682\n"
          ]
        }
      ],
      "source": [
        "# Add your code Here!\n",
        "predictions = np.array(predict(weights, testing_x))\n",
        "testing_y=np.array(testing_y)\n",
        "correct = np.sum(predictions == testing_y)\n",
        "print(\"Accuracy is\",correct/testing_y.size)\n",
        "truePos = np.sum((predictions == 1) & (testing_y == 1))\n",
        "falsePos = np.sum((predictions == 1) & (testing_y == 0))\n",
        "falseNeg = np.sum((predictions==0)& (testing_y==1))\n",
        "print(\"Precision is\",truePos/(truePos+falsePos))\n",
        "print(\"Recall is\", truePos/(truePos+falseNeg) )\n",
        "prec=truePos/(truePos+falsePos)\n",
        "recall=truePos/(truePos+falseNeg)\n",
        "print(\"F1 score is\", (2*(prec*recall))/(prec+recall))"
      ]
    },
    {
      "cell_type": "markdown",
      "metadata": {
        "id": "D6RmBKmAMaDO"
      },
      "source": [
        "# Task 3 - (4 points)\n",
        "\n",
        "Add a y-intercept and repeat the above tasks. Do you see any differences after adding the y-intercept?\n",
        "\n",
        "(4 points - 2 for code, 1 for cost visualizaiton, 1 for description.)"
      ]
    },
    {
      "cell_type": "code",
      "execution_count": 82,
      "metadata": {
        "id": "1c6odFUiNESe"
      },
      "outputs": [],
      "source": [
        "def gradientB(X, y, weights,b):\n",
        "    m, n = X.shape\n",
        "    x_dot_weights = X.dot(weights)\n",
        "\n",
        "    gradCoef= (1.0 / m )* (sigmoid(x_dot_weights + b) - y).T.dot(X)\n",
        "    gradB = (1/m)* (np.sum(sigmoid(x_dot_weights+b)-y))\n",
        "\n",
        "    return gradCoef, gradB"
      ]
    },
    {
      "cell_type": "code",
      "execution_count": 88,
      "metadata": {},
      "outputs": [],
      "source": [
        "def cost_functionB(X, y, weights,b):\n",
        "    m, n = X.shape\n",
        "    x_dot_weights = X.dot(weights)\n",
        "\n",
        "    cost = (1.0 / m) * (-y.T.dot(np.log(sigmoid(x_dot_weights+b))) - (1 - y).T.dot(np.log(1 - sigmoid(x_dot_weights+b))))\n",
        "\n",
        "    return cost"
      ]
    },
    {
      "cell_type": "code",
      "execution_count": 90,
      "metadata": {
        "id": "oaZzizC5MaDP"
      },
      "outputs": [],
      "source": [
        "# Add your code Here!\n",
        "new_weights = np.zeros(3)\n",
        "num_iterations = 100\n",
        "learnin_rate = 0.00001\n",
        "b=0\n",
        "\n",
        "cost_list2 = []\n",
        "\n",
        "for i in range(0, num_iterations):\n",
        "\n",
        "    cost = cost_functionB(training_x, training_y, new_weights,b)\n",
        "    #print(\"Cost is: \", cost)\n",
        "    cost_list2.append(cost)\n",
        "\n",
        "    gradCoef, gradB = gradientB(training_x, training_y, new_weights, b)\n",
        "\n",
        "    new_weights = new_weights - learnin_rate * gradCoef\n",
        "    b=b-learnin_rate*gradB\n"
      ]
    },
    {
      "cell_type": "code",
      "execution_count": 91,
      "metadata": {
        "colab": {
          "base_uri": "https://localhost:8080/",
          "height": 430
        },
        "id": "djbsDfJriU1f",
        "outputId": "bf4f1baf-401b-4e44-9e72-c691aba77ff9"
      },
      "outputs": [
        {
          "data": {
            "image/png": "[encoded data removed]",
            "text/plain": [
              "<Figure size 640x480 with 1 Axes>"
            ]
          },
          "metadata": {},
          "output_type": "display_data"
        }
      ],
      "source": [
        "plt.plot(np.arange(num_iterations), cost_list2)\n",
        "plt.show()"
      ]
    },
    {
      "cell_type": "code",
      "execution_count": 92,
      "metadata": {
        "id": "x9DY5LZTnK3s"
      },
      "outputs": [],
      "source": [
        "def predictB(weights, X,b):\n",
        "    p = sigmoid((X.dot(weights))+b) >= 0.5\n",
        "    return p.astype(int)"
      ]
    },
    {
      "cell_type": "code",
      "execution_count": 93,
      "metadata": {
        "colab": {
          "base_uri": "https://localhost:8080/"
        },
        "id": "omrrYn-1jCbv",
        "outputId": "3f132f94-8891-40fa-cfa2-e0f21b03f126"
      },
      "outputs": [
        {
          "name": "stdout",
          "output_type": "stream",
          "text": [
            "Accuracy is 0.5409836065573771\n",
            "Precision is 0.5409836065573771\n",
            "Recall is 1.0\n",
            "F1 score is 0.7021276595744682\n"
          ]
        }
      ],
      "source": [
        "predictions = np.array(predictB(new_weights, testing_x,b))\n",
        "testing_y=np.array(testing_y)\n",
        "correct = np.sum(predictions == testing_y)\n",
        "print(\"Accuracy is\",correct/testing_y.size)\n",
        "truePos = np.sum((predictions == 1) & (testing_y == 1))\n",
        "falsePos = np.sum((predictions == 1) & (testing_y == 0))\n",
        "falseNeg = np.sum((predictions==0)& (testing_y==1))\n",
        "print(\"Precision is\",truePos/(truePos+falsePos))\n",
        "print(\"Recall is\", truePos/(truePos+falseNeg) )\n",
        "prec=truePos/(truePos+falsePos)\n",
        "recall=truePos/(truePos+falseNeg)\n",
        "print(\"F1 score is\", (2*(prec*recall))/(prec+recall))"
      ]
    },
    {
      "cell_type": "markdown",
      "metadata": {
        "id": "YCF-PtwDMaDP"
      },
      "source": [
        "# Task 4 - Implement the Bold Driver   - (4 points)\n",
        "\n",
        "Implement the bold driver into your gradient descent implementation, which lets us have a dynamic learning rate. Visualize the costs and print the accuracy/etc. metrics as before. Do not use a y-intercept this time.\n",
        "\n",
        "Add a stop condition that stop the GD when the cost is not changing more than 0.001 between iterations.\n",
        "Describe the results. Did you stop earlier than 100 iterations?\n",
        "(4 points - 2 for code, 1 for cost visualizaiton, 1 for description.)\n",
        "\n"
      ]
    },
    {
      "cell_type": "code",
      "execution_count": null,
      "metadata": {
        "id": "QED_NRECMaDP"
      },
      "outputs": [],
      "source": [
        "# Add your code Here!"
      ]
    },
    {
      "cell_type": "markdown",
      "metadata": {
        "id": "qvf5cGYuMaDQ"
      },
      "source": [
        "# Task 5 - Implement the L2 norm regularization.  - (4 points)\n",
        "\n",
        "\n",
        "\n",
        "Modify your Cost and gradient to implement the l2 norm regularization. Repeat the steps taken in prior tasks and describe your result.\n",
        "\n",
        " * Use a y-intercept.\n",
        " * Do a maximum of 100 iterations as before and report your accuracy, precision, recall and F1 score.\n",
        " * Optional: You can stop earlier, if the cost is not changing more than 0.001 between iterations.\n",
        " * Optional: You can use the bold driver, if you want. But a bold driver is not required to perform L2 norm regularizaiton.\n",
        "\n",
        "(4 points - 2 for code, 1 for cost visualizaiton, 1 for description.)"
      ]
    },
    {
      "cell_type": "code",
      "execution_count": null,
      "metadata": {
        "id": "exNRyRcDMaDQ"
      },
      "outputs": [],
      "source": [
        "# Add your code Here!"
      ]
    }
  ],
  "metadata": {
    "colab": {
      "provenance": []
    },
    "kernelspec": {
      "display_name": "Python 3 (ipykernel)",
      "language": "python",
      "name": "python3"
    },
    "language_info": {
      "codemirror_mode": {
        "name": "ipython",
        "version": 3
      },
      "file_extension": ".py",
      "mimetype": "text/x-python",
      "name": "python",
      "nbconvert_exporter": "python",
      "pygments_lexer": "ipython3",
      "version": "3.9.17"
    }
  },
  "nbformat": 4,
  "nbformat_minor": 0
}
